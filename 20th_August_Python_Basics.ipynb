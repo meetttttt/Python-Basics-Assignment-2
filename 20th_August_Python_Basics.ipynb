{
 "cells": [
  {
   "cell_type": "markdown",
   "id": "acafde64-e8de-42a3-9f9a-75b9aad6a79a",
   "metadata": {},
   "source": [
    "# TOPIC: String Based Assignment Problem"
   ]
  },
  {
   "cell_type": "markdown",
   "id": "dbc84f04-56f6-420c-98b6-6e4570df945a",
   "metadata": {},
   "source": [
    "Q1. Write a program to reverse a string."
   ]
  },
  {
   "cell_type": "code",
   "execution_count": 1,
   "id": "90fe9e13-c445-4141-8543-8e75e5feacda",
   "metadata": {},
   "outputs": [
    {
     "name": "stdin",
     "output_type": "stream",
     "text": [
      "Enter a string:  Hello this is Meet Nagadia, This is Python Code.\n"
     ]
    },
    {
     "name": "stdout",
     "output_type": "stream",
     "text": [
      "Reversed string: .edoC nohtyP si sihT ,aidagaN teeM si siht olleH\n"
     ]
    }
   ],
   "source": [
    "# Input string\n",
    "input_string = input(\"Enter a string: \")\n",
    "\n",
    "# Reverse the string using slicing\n",
    "reversed_result = input_string[::-1]\n",
    "\n",
    "# Display the reversed string\n",
    "print(\"Reversed string:\", reversed_result)"
   ]
  },
  {
   "cell_type": "markdown",
   "id": "dbdcfd66-fcf2-46f8-964f-d2f10b26613b",
   "metadata": {},
   "source": [
    "Q2. Check if a string is a palindrome."
   ]
  },
  {
   "cell_type": "code",
   "execution_count": 2,
   "id": "0b7ea488-ad85-4613-937f-e925eef2bc98",
   "metadata": {},
   "outputs": [
    {
     "name": "stdin",
     "output_type": "stream",
     "text": [
      "Enter a string:  This is This\n"
     ]
    },
    {
     "name": "stdout",
     "output_type": "stream",
     "text": [
      "The string is not a palindrome.\n"
     ]
    }
   ],
   "source": [
    "# Prompt the user for input\n",
    "input_string = input(\"Enter a string: \")\n",
    "\n",
    "# Remove spaces and convert the string to lowercase for case-insensitive comparison\n",
    "cleaned_string = input_string.replace(\" \", \"\").lower()\n",
    "\n",
    "# Reverse the cleaned string using string slicing\n",
    "reversed_string = cleaned_string[::-1]\n",
    "\n",
    "# Check if the cleaned string is the same as its reverse\n",
    "if cleaned_string == reversed_string:\n",
    "    print(\"The string is a palindrome.\")\n",
    "else:\n",
    "    print(\"The string is not a palindrome.\")"
   ]
  },
  {
   "cell_type": "markdown",
   "id": "86f52c2d-7bae-4299-9cc9-190b807e81ae",
   "metadata": {},
   "source": [
    "Q3. Convert a string to uppercase."
   ]
  },
  {
   "cell_type": "code",
   "execution_count": 3,
   "id": "b5d89c2b-6fac-4a1e-aa58-214781394469",
   "metadata": {},
   "outputs": [
    {
     "name": "stdout",
     "output_type": "stream",
     "text": [
      "Original String: Hello, World!\n",
      "Uppercase String: HELLO, WORLD!\n"
     ]
    }
   ],
   "source": [
    "# Input string\n",
    "input_string = \"Hello, World!\"\n",
    "\n",
    "# Convert the string to uppercase\n",
    "uppercase_string = input_string.upper()\n",
    "\n",
    "# Print the original and uppercase strings\n",
    "print(\"Original String:\", input_string)\n",
    "print(\"Uppercase String:\", uppercase_string)"
   ]
  },
  {
   "cell_type": "markdown",
   "id": "a7aec2df-409a-45fa-b27d-eaed74d49db1",
   "metadata": {},
   "source": [
    "Q4. Convert a string to lowercase."
   ]
  },
  {
   "cell_type": "code",
   "execution_count": 4,
   "id": "c3fda81d-b491-4e47-9da7-856e67952ec4",
   "metadata": {},
   "outputs": [
    {
     "name": "stdout",
     "output_type": "stream",
     "text": [
      "Original String: Hello, World!\n",
      "Lowercase String: hello, world!\n"
     ]
    }
   ],
   "source": [
    "# Input string\n",
    "input_string = \"Hello, World!\"\n",
    "\n",
    "# Convert the string to lowercase\n",
    "lowercase_string = input_string.lower()\n",
    "\n",
    "# Print the original and lowercase strings\n",
    "print(\"Original String:\", input_string)\n",
    "print(\"Lowercase String:\", lowercase_string)"
   ]
  },
  {
   "cell_type": "markdown",
   "id": "43860125-33b4-4d3b-9f6b-afffc20b0d2c",
   "metadata": {},
   "source": [
    "Q5. Count the number of vowels in a string."
   ]
  },
  {
   "cell_type": "code",
   "execution_count": 5,
   "id": "0d2870cb-563f-4a55-b4c2-08c8a63f10f7",
   "metadata": {},
   "outputs": [
    {
     "name": "stdin",
     "output_type": "stream",
     "text": [
      "Enter a sentence:  I want to know if this sentence has vowel.\n"
     ]
    },
    {
     "name": "stdout",
     "output_type": "stream",
     "text": [
      "The number of vowels in the sentence is: 12\n"
     ]
    }
   ],
   "source": [
    "# Prompt the user for input\n",
    "sentence = input(\"Enter a sentence: \")\n",
    "sentence = sentence.lower()\n",
    "\n",
    "# Initialize a variable to count the vowels\n",
    "vowel_count = 0\n",
    "\n",
    "# Define a set of vowels\n",
    "vowels = \"aeiou\"\n",
    "\n",
    "# Iterate through each character in the sentence\n",
    "for char in sentence:\n",
    "    # Check if the character is a vowel\n",
    "    if char in vowels:\n",
    "        vowel_count += 1\n",
    "\n",
    "# Display the vowel count\n",
    "print(\"The number of vowels in the sentence is:\", vowel_count)"
   ]
  },
  {
   "cell_type": "markdown",
   "id": "ead2140d-4e21-41b3-9ea9-e3089776981d",
   "metadata": {},
   "source": [
    "Q6. Count the number of consonants in a string."
   ]
  },
  {
   "cell_type": "code",
   "execution_count": 6,
   "id": "2a83e030-e6ff-4ad9-aa0e-4d2dc8c3c913",
   "metadata": {},
   "outputs": [
    {
     "name": "stdout",
     "output_type": "stream",
     "text": [
      "Number of consonants in the string: 7\n"
     ]
    }
   ],
   "source": [
    "# Input string\n",
    "input_string = \"Hello, World!\"\n",
    "\n",
    "# Define a set of consonant characters\n",
    "consonants = \"bcdfghjklmnpqrstvwxyz\"\n",
    "\n",
    "# Initialize a variable to store the count\n",
    "consonant_count = 0\n",
    "\n",
    "# Convert the input string to lowercase to handle both uppercase and lowercase characters\n",
    "input_string = input_string.lower()\n",
    "\n",
    "# Iterate through each character in the input string\n",
    "for char in input_string:\n",
    "    # Check if the character is in the set of consonants\n",
    "    if char in consonants:\n",
    "        consonant_count += 1\n",
    "\n",
    "# Print the result\n",
    "print(\"Number of consonants in the string:\", consonant_count)\n"
   ]
  },
  {
   "cell_type": "markdown",
   "id": "b5b01358-16cc-42f3-9224-76346ec2158f",
   "metadata": {},
   "source": [
    "Q7. Remove all whitespaces from a string."
   ]
  },
  {
   "cell_type": "code",
   "execution_count": 7,
   "id": "e3432e5f-3174-408f-a573-bd52bfb47c8c",
   "metadata": {},
   "outputs": [
    {
     "name": "stdin",
     "output_type": "stream",
     "text": [
      "Enter a string:  This sentence does have spaces.\n"
     ]
    },
    {
     "name": "stdout",
     "output_type": "stream",
     "text": [
      "Original string with spaces This sentence does have spaces.\n",
      "Modified string without spaces: Thissentencedoeshavespaces.\n"
     ]
    }
   ],
   "source": [
    "# Prompt the user for input\n",
    "input_string = input(\"Enter a string: \")\n",
    "\n",
    "# Displaying the strings with spaces\n",
    "print(\"Original string with spaces\", input_string)\n",
    "\n",
    "# Remove spaces from the input string using the replace() method\n",
    "modified_string = input_string.replace(\" \", \"\")\n",
    "\n",
    "# Display the modified string without spaces\n",
    "print(\"Modified string without spaces:\", modified_string)"
   ]
  },
  {
   "cell_type": "markdown",
   "id": "c9f5e2a4-de2e-4cf7-86f6-608355013891",
   "metadata": {},
   "source": [
    "Q8. Find the length of a string without using the `len()` function."
   ]
  },
  {
   "cell_type": "code",
   "execution_count": 8,
   "id": "e371f85a-2a33-4b7f-b1c2-628bf25eda55",
   "metadata": {},
   "outputs": [
    {
     "name": "stdin",
     "output_type": "stream",
     "text": [
      "Enter a string:  This is test string to check length.\n"
     ]
    },
    {
     "name": "stdout",
     "output_type": "stream",
     "text": [
      "The length of the string is: 36\n"
     ]
    }
   ],
   "source": [
    "# Prompt the user for input\n",
    "input_string = input(\"Enter a string: \")\n",
    "\n",
    "# Calculate the length of the string\n",
    "string_length = len(input_string)\n",
    "\n",
    "# Display the length of the string\n",
    "print(\"The length of the string is:\", string_length)"
   ]
  },
  {
   "cell_type": "markdown",
   "id": "12b7381a-1aa3-4f1f-9ab4-5767f0ee7142",
   "metadata": {},
   "source": [
    "Q9. Check if a string contains a specific word."
   ]
  },
  {
   "cell_type": "code",
   "execution_count": 9,
   "id": "2b16d0a7-524c-40b2-adf7-751373720709",
   "metadata": {},
   "outputs": [
    {
     "name": "stdout",
     "output_type": "stream",
     "text": [
      "The string contains the word 'sample'.\n"
     ]
    }
   ],
   "source": [
    "# Input string\n",
    "input_string = \"This is a sample sentence containing a word.\"\n",
    "\n",
    "# Specific word to check for\n",
    "specific_word = \"sample\"\n",
    "\n",
    "# Check if the specific word is in the input string\n",
    "if specific_word in input_string:\n",
    "    print(f\"The string contains the word '{specific_word}'.\")\n",
    "else:\n",
    "    print(f\"The string does not contain the word '{specific_word}'.\")"
   ]
  },
  {
   "cell_type": "markdown",
   "id": "16e83860-665b-412d-8ce8-abb6aa5c596b",
   "metadata": {},
   "source": [
    "Q10. Replace a word in a string with another word."
   ]
  },
  {
   "cell_type": "code",
   "execution_count": 10,
   "id": "e7fcb08b-1bfa-4606-8714-31d8b3bf5fcf",
   "metadata": {},
   "outputs": [
    {
     "name": "stdout",
     "output_type": "stream",
     "text": [
      "Original String: This is a sample sentence with a word.\n",
      "Modified String: This is a modified sentence with a word.\n"
     ]
    }
   ],
   "source": [
    "# Input string\n",
    "input_string = \"This is a sample sentence with a word.\"\n",
    "\n",
    "# Word to be replaced and the replacement word\n",
    "word_to_replace = \"sample\"\n",
    "replacement_word = \"modified\"\n",
    "\n",
    "# Replace the word in the input string\n",
    "result_string = input_string.replace(word_to_replace, replacement_word)\n",
    "\n",
    "# Print the original and modified strings\n",
    "print(\"Original String:\", input_string)\n",
    "print(\"Modified String:\", result_string)"
   ]
  },
  {
   "cell_type": "markdown",
   "id": "bea366fc-c9b5-49e8-9b23-bc05437e0a74",
   "metadata": {},
   "source": [
    "Q11. Count the occurrences of a word in a string."
   ]
  },
  {
   "cell_type": "code",
   "execution_count": 11,
   "id": "ef2a4c16-3a46-4042-b46e-a721b9f8cfe5",
   "metadata": {},
   "outputs": [
    {
     "name": "stdout",
     "output_type": "stream",
     "text": [
      "The word 'sample' appears 2 times in the string.\n"
     ]
    }
   ],
   "source": [
    "# Input string\n",
    "input_string = \"This is a sample sentence. This sentence contains the word 'sample'. This is a simple example.\"\n",
    "\n",
    "# Word to count\n",
    "word_to_count = \"sample\"\n",
    "\n",
    "# Split the input string into words using spaces as the delimiter\n",
    "words = input_string.split()\n",
    "\n",
    "# Initialize a variable to store the count\n",
    "word_count = 0\n",
    "\n",
    "# Iterate through the words in the list\n",
    "for word in words:\n",
    "    # Remove punctuation from the word\n",
    "    cleaned_word = word.strip(\".,'\\\"?!\")\n",
    "\n",
    "    # Check if the cleaned word matches the word to count (case insensitive)\n",
    "    if cleaned_word.lower() == word_to_count.lower():\n",
    "        word_count += 1\n",
    "\n",
    "# Print the result\n",
    "print(f\"The word '{word_to_count}' appears {word_count} times in the string.\")"
   ]
  },
  {
   "cell_type": "markdown",
   "id": "a49a370c-c2cb-4d2b-a676-eafe53ebb1e1",
   "metadata": {},
   "source": [
    "Q12. Find the first occurrence of a word in a string."
   ]
  },
  {
   "cell_type": "code",
   "execution_count": 12,
   "id": "e1f261ff-8718-4871-bca0-0251a537c4c9",
   "metadata": {},
   "outputs": [
    {
     "name": "stdout",
     "output_type": "stream",
     "text": [
      "The word 'sample' was found at index 10.\n"
     ]
    }
   ],
   "source": [
    "# Input string\n",
    "input_string = \"This is a sample sentence. This sentence contains the word 'sample'. This is a simple example.\"\n",
    "\n",
    "# Word to find\n",
    "word_to_find = \"sample\"\n",
    "\n",
    "# Find the index of the first occurrence of the word in the input string\n",
    "word_index = input_string.lower().find(word_to_find.lower())\n",
    "\n",
    "# Check if the word was found\n",
    "if word_index != -1:\n",
    "    print(f\"The word '{word_to_find}' was found at index {word_index}.\")\n",
    "else:\n",
    "    print(f\"The word '{word_to_find}' was not found in the string.\")"
   ]
  },
  {
   "cell_type": "markdown",
   "id": "14bcc82e-c353-473c-abcf-23494c4cdb5d",
   "metadata": {},
   "source": [
    "Q13. Find the last occurrence of a word in a string."
   ]
  },
  {
   "cell_type": "code",
   "execution_count": 13,
   "id": "f84dd01f-7153-40d4-bbfb-3e8b8922a7a4",
   "metadata": {},
   "outputs": [
    {
     "name": "stdout",
     "output_type": "stream",
     "text": [
      "The last occurrence of the word 'sample' was found at index 60.\n"
     ]
    }
   ],
   "source": [
    "# Input string\n",
    "input_string = \"This is a sample sentence. This sentence contains the word 'sample'. This is a simple example.\"\n",
    "\n",
    "# Word to find\n",
    "word_to_find = \"sample\"\n",
    "\n",
    "# Find the index of the last occurrence of the word in the input string\n",
    "word_index = input_string.lower().rfind(word_to_find.lower())\n",
    "\n",
    "# Check if the word was found\n",
    "if word_index != -1:\n",
    "    print(f\"The last occurrence of the word '{word_to_find}' was found at index {word_index}.\")\n",
    "else:\n",
    "    print(f\"The word '{word_to_find}' was not found in the string.\")"
   ]
  },
  {
   "cell_type": "markdown",
   "id": "483beb67-e1eb-4ad5-bd89-374869eee595",
   "metadata": {},
   "source": [
    "Q 14. Split a string into a list of words."
   ]
  },
  {
   "cell_type": "code",
   "execution_count": 14,
   "id": "1a12074b-54fc-4e98-8d0e-81c3701fbf6b",
   "metadata": {},
   "outputs": [
    {
     "name": "stdout",
     "output_type": "stream",
     "text": [
      "Original String: This is a sample sentence. This sentence contains the word 'sample'. This is a simple example.\n",
      "List of Words: ['This', 'is', 'a', 'sample', 'sentence.', 'This', 'sentence', 'contains', 'the', 'word', \"'sample'.\", 'This', 'is', 'a', 'simple', 'example.']\n"
     ]
    }
   ],
   "source": [
    "# Input string\n",
    "input_string = \"This is a sample sentence. This sentence contains the word 'sample'. This is a simple example.\"\n",
    "\n",
    "# Displaying the original string\n",
    "print(\"Original String:\", input_string)\n",
    "\n",
    "# Split the input string into a list of words\n",
    "word_list = input_string.split()\n",
    "\n",
    "# Print the list of words\n",
    "print(\"List of Words:\", word_list)"
   ]
  },
  {
   "cell_type": "markdown",
   "id": "50263b93-9dad-4f25-bd6a-7a93be5137d3",
   "metadata": {},
   "source": [
    "15. Join a list of words into a string."
   ]
  },
  {
   "cell_type": "code",
   "execution_count": 15,
   "id": "9448c7a2-652e-4653-a4f4-a22f0e0a9cb9",
   "metadata": {},
   "outputs": [
    {
     "name": "stdout",
     "output_type": "stream",
     "text": [
      "Joined String: This is a sample sentence.\n"
     ]
    }
   ],
   "source": [
    "# List of words\n",
    "word_list = ['This', 'is', 'a', 'sample', 'sentence.']\n",
    "\n",
    "# Separator to join the words with\n",
    "separator = ' '\n",
    "\n",
    "# Join the list of words into a string\n",
    "result_string = separator.join(word_list)\n",
    "\n",
    "# Print the result\n",
    "print(\"Joined String:\", result_string)\n"
   ]
  },
  {
   "cell_type": "markdown",
   "id": "6018f648-68fd-450d-9c53-4915c2a3ba97",
   "metadata": {},
   "source": [
    "16. Convert a string where words are separated by spaces to one where words\n",
    "are separated by underscores."
   ]
  },
  {
   "cell_type": "code",
   "execution_count": 16,
   "id": "fa819f0e-d602-4ba8-ae1a-5c58072466cf",
   "metadata": {},
   "outputs": [
    {
     "name": "stdout",
     "output_type": "stream",
     "text": [
      "Original String: This is a sample sentence with spaces.\n",
      "Modified String: This_is_a_sample_sentence_with_spaces.\n"
     ]
    }
   ],
   "source": [
    "# Input string with spaces\n",
    "input_string = \"This is a sample sentence with spaces.\"\n",
    "\n",
    "# Displaying the original string\n",
    "print(\"Original String:\", input_string)\n",
    "\n",
    "# Replace spaces with underscores\n",
    "result_string = input_string.replace(\" \", \"_\")\n",
    "\n",
    "# Print the result\n",
    "print(\"Modified String:\", result_string)"
   ]
  },
  {
   "cell_type": "markdown",
   "id": "b9faa02a-bdc7-4320-aaf8-64272fd2b0f1",
   "metadata": {},
   "source": [
    "17. Check if a string starts with a specific word or phrase."
   ]
  },
  {
   "cell_type": "code",
   "execution_count": 17,
   "id": "d2648c1e-0a79-44cb-a316-ed564fab257d",
   "metadata": {},
   "outputs": [
    {
     "name": "stdout",
     "output_type": "stream",
     "text": [
      "The string starts with 'This'.\n"
     ]
    }
   ],
   "source": [
    "# Input string\n",
    "input_string = \"This is a sample sentence.\"\n",
    "\n",
    "# Specific word or phrase to check for\n",
    "specific_word = \"This\"\n",
    "\n",
    "# Check if the string starts with the specific word or phrase\n",
    "starts_with_specific = input_string.startswith(specific_word)\n",
    "\n",
    "# Print the result\n",
    "if starts_with_specific:\n",
    "    print(f\"The string starts with '{specific_word}'.\")\n",
    "else:\n",
    "    print(f\"The string does not start with '{specific_word}'.\")\n"
   ]
  },
  {
   "cell_type": "markdown",
   "id": "12bacbed-091c-492c-a3b1-5f6285ae0e10",
   "metadata": {},
   "source": [
    "18. Check if a string ends with a specific word or phrase."
   ]
  },
  {
   "cell_type": "code",
   "execution_count": 18,
   "id": "1f124ecb-3eb4-449b-9cd3-1fdd5f4c5d35",
   "metadata": {},
   "outputs": [
    {
     "name": "stdout",
     "output_type": "stream",
     "text": [
      "The string ends with 'sentence.'.\n"
     ]
    }
   ],
   "source": [
    "# Input string\n",
    "input_string = \"This is a sample sentence.\"\n",
    "\n",
    "# Specific word or phrase to check for\n",
    "specific_word = \"sentence.\"\n",
    "\n",
    "# Check if the string ends with the specific word or phrase\n",
    "ends_with_specific = input_string.endswith(specific_word)\n",
    "\n",
    "# Print the result\n",
    "if ends_with_specific:\n",
    "    print(f\"The string ends with '{specific_word}'.\")\n",
    "else:\n",
    "    print(f\"The string does not end with '{specific_word}'.\")"
   ]
  },
  {
   "cell_type": "markdown",
   "id": "07a7f93d-8181-4b57-98ca-800e3787b9af",
   "metadata": {},
   "source": [
    "19. Convert a string to title case (e.g., \"hello world\" to \"Hello World\")."
   ]
  },
  {
   "cell_type": "code",
   "execution_count": 19,
   "id": "73de4d88-5da9-4a55-a491-a2fb28af9664",
   "metadata": {},
   "outputs": [
    {
     "name": "stdout",
     "output_type": "stream",
     "text": [
      "Title Case String: Hello World\n"
     ]
    }
   ],
   "source": [
    "# Input string\n",
    "input_string = \"hello world\"\n",
    "\n",
    "# Convert the string to title case\n",
    "title_case_string = input_string.title()\n",
    "\n",
    "# Print the result\n",
    "print(\"Title Case String:\", title_case_string)"
   ]
  },
  {
   "cell_type": "markdown",
   "id": "154d93c3-de41-464f-b9c1-f10c1e3920d8",
   "metadata": {},
   "source": [
    "20. Find the longest word in a string."
   ]
  },
  {
   "cell_type": "code",
   "execution_count": 20,
   "id": "dd8cd739-b2fc-47d0-9cd4-b33d4fb2b2ba",
   "metadata": {},
   "outputs": [
    {
     "name": "stdout",
     "output_type": "stream",
     "text": [
      "Longest Word: hippopotamus\n"
     ]
    }
   ],
   "source": [
    "# Input string\n",
    "input_string = \"This is a sample sentence with some long words like 'elephant' and 'hippopotamus'.\"\n",
    "\n",
    "# Split the input string into words using spaces as the delimiter\n",
    "words = input_string.split()\n",
    "\n",
    "# Initialize variables to keep track of the longest word and its length\n",
    "longest_word = \"\"\n",
    "max_length = 0\n",
    "\n",
    "# Iterate through the words in the list\n",
    "for word in words:\n",
    "    # Remove punctuation from the word\n",
    "    cleaned_word = word.strip(\".,'\\\"?!\")\n",
    "\n",
    "    # Calculate the length of the cleaned word\n",
    "    word_length = len(cleaned_word)\n",
    "\n",
    "    # Check if the current word is longer than the previous longest word\n",
    "    if word_length > max_length:\n",
    "        longest_word = cleaned_word\n",
    "        max_length = word_length\n",
    "\n",
    "# Print the longest word\n",
    "print(\"Longest Word:\", longest_word)"
   ]
  },
  {
   "cell_type": "markdown",
   "id": "586082cd-bd3e-4a80-a794-1b453798ac4d",
   "metadata": {},
   "source": [
    "21. Find the shortest word in a string."
   ]
  },
  {
   "cell_type": "code",
   "execution_count": 21,
   "id": "950059f3-8004-4e57-aea5-933d6bf1b99f",
   "metadata": {},
   "outputs": [
    {
     "name": "stdout",
     "output_type": "stream",
     "text": [
      "Shortest Word: a\n"
     ]
    }
   ],
   "source": [
    "# Input string\n",
    "input_string = \"This is a sample sentence with some short words like 'cat' and 'dog'.\"\n",
    "\n",
    "# Split the input string into words using spaces as the delimiter\n",
    "words = input_string.split()\n",
    "\n",
    "# Initialize variables to keep track of the shortest word and its length\n",
    "shortest_word = None\n",
    "min_length = float('inf')  # Set to positive infinity initially\n",
    "\n",
    "# Iterate through the words in the list\n",
    "for word in words:\n",
    "    # Remove punctuation from the word\n",
    "    cleaned_word = word.strip(\".,'\\\"?!\")\n",
    "\n",
    "    # Calculate the length of the cleaned word\n",
    "    word_length = len(cleaned_word)\n",
    "\n",
    "    # Check if the current word is shorter than the previous shortest word\n",
    "    if word_length < min_length:\n",
    "        shortest_word = cleaned_word\n",
    "        min_length = word_length\n",
    "\n",
    "# Print the shortest word\n",
    "print(\"Shortest Word:\", shortest_word)"
   ]
  },
  {
   "cell_type": "markdown",
   "id": "c1e94d67-6f0d-46a6-84b6-874fc79ff1d5",
   "metadata": {},
   "source": [
    "22. Reverse the order of words in a string."
   ]
  },
  {
   "cell_type": "code",
   "execution_count": 22,
   "id": "8f5d692a-22b3-418c-b88a-9c0753b117de",
   "metadata": {},
   "outputs": [
    {
     "name": "stdout",
     "output_type": "stream",
     "text": [
      "Reversed String: sentence. sample a is This\n"
     ]
    }
   ],
   "source": [
    "# Input string\n",
    "input_string = \"This is a sample sentence.\"\n",
    "\n",
    "# Split the input string into words using spaces as the delimiter\n",
    "words = input_string.split()\n",
    "\n",
    "# Reverse the order of words\n",
    "reversed_words = words[::-1]\n",
    "\n",
    "# Join the reversed words into a single string with spaces as separators\n",
    "reversed_string = \" \".join(reversed_words)\n",
    "\n",
    "# Print the reversed string\n",
    "print(\"Reversed String:\", reversed_string)\n"
   ]
  },
  {
   "cell_type": "markdown",
   "id": "936cc16a-0469-4847-aa22-565f05223895",
   "metadata": {},
   "source": [
    "23. Check if a string is alphanumeric."
   ]
  },
  {
   "cell_type": "code",
   "execution_count": 23,
   "id": "7cebad6b-5533-497b-a140-bb59e00b77e4",
   "metadata": {},
   "outputs": [
    {
     "name": "stdout",
     "output_type": "stream",
     "text": [
      "The string is alphanumeric.\n"
     ]
    }
   ],
   "source": [
    "# Input string\n",
    "input_string = \"Hello123\"\n",
    "\n",
    "# Check if the string is alphanumeric\n",
    "is_alphanumeric = input_string.isalnum()\n",
    "\n",
    "# Print the result\n",
    "if is_alphanumeric:\n",
    "    print(\"The string is alphanumeric.\")\n",
    "else:\n",
    "    print(\"The string is not alphanumeric.\")"
   ]
  },
  {
   "cell_type": "markdown",
   "id": "d66b1312-da4e-40a3-a81b-64d4a80243d2",
   "metadata": {},
   "source": [
    "24. Extract all digits from a string."
   ]
  },
  {
   "cell_type": "code",
   "execution_count": 24,
   "id": "46434dbd-b700-4fee-890a-70582e1427c9",
   "metadata": {},
   "outputs": [
    {
     "name": "stdout",
     "output_type": "stream",
     "text": [
      "Extracted Digits: 1234567789\n"
     ]
    }
   ],
   "source": [
    "import re\n",
    "\n",
    "# Input string\n",
    "input_string = \"Hello123, this is 4567 a test string with 789 digits.\"\n",
    "\n",
    "# Use regular expression to extract all digits\n",
    "digits = re.findall(r'\\d+', input_string)\n",
    "\n",
    "# Convert the list of digits to a string\n",
    "digit_string = \"\".join(digits)\n",
    "\n",
    "# Print the extracted digits\n",
    "print(\"Extracted Digits:\", digit_string)"
   ]
  },
  {
   "cell_type": "markdown",
   "id": "5de6a07a-8f70-420d-ae03-c52e663ffdc9",
   "metadata": {},
   "source": [
    "25. Extract all alphabets from a string."
   ]
  },
  {
   "cell_type": "code",
   "execution_count": 25,
   "id": "45990f42-5d92-4176-892b-99f8b20e7585",
   "metadata": {},
   "outputs": [
    {
     "name": "stdout",
     "output_type": "stream",
     "text": [
      "Extracted Alphabets: Hellothisisateststringwithsomealphabetsandspaces\n"
     ]
    }
   ],
   "source": [
    "import re\n",
    "\n",
    "# Input string\n",
    "input_string = \"Hello123, this is a test string with some alphabets and spaces.\"\n",
    "\n",
    "# Use regular expression to extract all alphabetic characters\n",
    "alphabets = re.findall(r'[a-zA-Z]+', input_string)\n",
    "\n",
    "# Join the list of alphabets into a single string\n",
    "alphabet_string = \"\".join(alphabets)\n",
    "\n",
    "# Print the extracted alphabetic characters\n",
    "print(\"Extracted Alphabets:\", alphabet_string)\n"
   ]
  },
  {
   "cell_type": "markdown",
   "id": "ca15e2ea-1a90-41d1-ab9b-c00c6a9a7c9a",
   "metadata": {},
   "source": [
    "26. Count the number of uppercase letters in a string."
   ]
  },
  {
   "cell_type": "code",
   "execution_count": 26,
   "id": "b5921365-4627-46b6-8b51-53eda7912d2f",
   "metadata": {},
   "outputs": [
    {
     "name": "stdout",
     "output_type": "stream",
     "text": [
      "Uppercase Letter Count: 10\n"
     ]
    }
   ],
   "source": [
    "# Input string\n",
    "input_string = \"Hello World, This Is A Sample String With Uppercase Letters.\"\n",
    "\n",
    "# Initialize a variable to keep track of the count\n",
    "uppercase_count = 0\n",
    "\n",
    "# Iterate through the characters in the string\n",
    "for char in input_string:\n",
    "    # Check if the character is uppercase\n",
    "    if char.isupper():\n",
    "        uppercase_count += 1\n",
    "\n",
    "# Print the count of uppercase letters\n",
    "print(\"Uppercase Letter Count:\", uppercase_count)\n"
   ]
  },
  {
   "cell_type": "markdown",
   "id": "d8b523d8-d857-4059-a7b2-32c1cab43042",
   "metadata": {},
   "source": [
    "27. Count the number of lowercase letters in a string."
   ]
  },
  {
   "cell_type": "code",
   "execution_count": 27,
   "id": "baeaa7db-2a71-4b74-a9ef-e2811efa1bed",
   "metadata": {},
   "outputs": [
    {
     "name": "stdout",
     "output_type": "stream",
     "text": [
      "Lowercase Letter Count: 39\n"
     ]
    }
   ],
   "source": [
    "# Input string\n",
    "input_string = \"Hello World, This Is A Sample String With Lowercase Letters.\"\n",
    "\n",
    "# Initialize a variable to keep track of the count\n",
    "lowercase_count = 0\n",
    "\n",
    "# Iterate through the characters in the string\n",
    "for char in input_string:\n",
    "    # Check if the character is lowercase\n",
    "    if char.islower():\n",
    "        lowercase_count += 1\n",
    "\n",
    "# Print the count of lowercase letters\n",
    "print(\"Lowercase Letter Count:\", lowercase_count)\n"
   ]
  },
  {
   "cell_type": "markdown",
   "id": "75612fd3-73c2-47b5-9783-4a94c4c0e54b",
   "metadata": {},
   "source": [
    "28. Swap the case of each character in a string."
   ]
  },
  {
   "cell_type": "code",
   "execution_count": 28,
   "id": "43265903-b14b-4166-a1bb-51ab239770ed",
   "metadata": {},
   "outputs": [
    {
     "name": "stdout",
     "output_type": "stream",
     "text": [
      "Swapped Case String: hELLO wORLD, tHIS iS a sAMPLE sTRING wITH mIXED cASE.\n"
     ]
    }
   ],
   "source": [
    "# Input string\n",
    "input_string = \"Hello World, This Is A Sample String With Mixed Case.\"\n",
    "\n",
    "# Swap the case of each character in the string\n",
    "swapped_string = input_string.swapcase()\n",
    "\n",
    "# Print the swapped string\n",
    "print(\"Swapped Case String:\", swapped_string)\n"
   ]
  },
  {
   "cell_type": "markdown",
   "id": "73cf2e25-6bf9-4d01-82f5-73117bbcec16",
   "metadata": {},
   "source": [
    "29. Remove a specific word from a string."
   ]
  },
  {
   "cell_type": "code",
   "execution_count": 29,
   "id": "fbe4d15e-9320-42ee-9d40-1bfc3a30a7e7",
   "metadata": {},
   "outputs": [
    {
     "name": "stdout",
     "output_type": "stream",
     "text": [
      "Original String without Word Removed: This is a sample sentence. This sentence contains the word 'sample'. This is a simple example.\n",
      "String with Word Removed: This is a  sentence. This sentence contains the word ''. This is a simple example.\n"
     ]
    }
   ],
   "source": [
    "# Input string\n",
    "input_string = \"This is a sample sentence. This sentence contains the word 'sample'. This is a simple example.\"\n",
    "\n",
    "\n",
    "# Displaying original string\n",
    "print(\"Original String without Word Removed:\", input_string)\n",
    "\n",
    "# Word to remove\n",
    "word_to_remove = \"sample\"\n",
    "\n",
    "# Replace the word with an empty string to remove it\n",
    "result_string = input_string.replace(word_to_remove, \"\")\n",
    "\n",
    "# Print the result\n",
    "print(\"String with Word Removed:\", result_string)\n"
   ]
  },
  {
   "cell_type": "markdown",
   "id": "58e8e680-566f-4f17-9596-c7ec0ae88ae1",
   "metadata": {},
   "source": [
    "30. Check if a string is a valid email address."
   ]
  },
  {
   "cell_type": "code",
   "execution_count": 30,
   "id": "0588942f-da1c-4297-ad72-3e4380bbc2f5",
   "metadata": {},
   "outputs": [
    {
     "name": "stdout",
     "output_type": "stream",
     "text": [
      "Is 'meet@email.com' a valid email? True\n",
      "Is 'NULL@_email' a valid email? False\n",
      "Is 'another@example.' a valid email? False\n"
     ]
    }
   ],
   "source": [
    "import re\n",
    "\n",
    "# Regular expression pattern for basic email validation\n",
    "pattern = r'^[a-zA-Z0-9._%+-]+@[a-zA-Z0-9.-]+\\.[a-zA-Z]{2,}$'\n",
    "\n",
    "# Test cases\n",
    "email1 = \"meet@email.com\"\n",
    "email2 = \"NULL@_email\"\n",
    "email3 = \"another@example.\"\n",
    "\n",
    "# Check if the email addresses are valid\n",
    "print(f\"Is '{email1}' a valid email? {bool(re.match(pattern, email1))}\")\n",
    "print(f\"Is '{email2}' a valid email? {bool(re.match(pattern, email2))}\")\n",
    "print(f\"Is '{email3}' a valid email? {bool(re.match(pattern, email3))}\")"
   ]
  },
  {
   "cell_type": "markdown",
   "id": "d1f2688e-ca97-4bc2-a501-7cf2d3883ad0",
   "metadata": {},
   "source": [
    "31. Extract the username from an email address string."
   ]
  },
  {
   "cell_type": "code",
   "execution_count": 31,
   "id": "5b8c4692-aaf8-4908-9d3b-e4f5f6ea1c56",
   "metadata": {},
   "outputs": [
    {
     "name": "stdout",
     "output_type": "stream",
     "text": [
      "Extracted Username: example\n"
     ]
    }
   ],
   "source": [
    "# Method 1: Using Splitting\n",
    "# Input email address\n",
    "email_address = \"example@email.com\"\n",
    "\n",
    "# Split the email address at the \"@\" symbol\n",
    "username = email_address.split('@')[0]\n",
    "\n",
    "# Print the extracted username\n",
    "print(\"Extracted Username:\", username)\n"
   ]
  },
  {
   "cell_type": "code",
   "execution_count": 32,
   "id": "a9d708b3-ef70-47c9-91e2-a06445862bc5",
   "metadata": {},
   "outputs": [
    {
     "name": "stdout",
     "output_type": "stream",
     "text": [
      "Extracted Username: example\n"
     ]
    }
   ],
   "source": [
    "# Method 2:Using Regular Expressions\n",
    "\n",
    "import re\n",
    "\n",
    "# Input email address\n",
    "email_address = \"example@email.com\"\n",
    "\n",
    "# Regular expression pattern for extracting the username\n",
    "pattern = r'^([a-zA-Z0-9._%+-]+)@'\n",
    "\n",
    "# Use re.search to find the username\n",
    "match = re.search(pattern, email_address)\n",
    "\n",
    "# Extract the username from the match\n",
    "if match:\n",
    "    username = match.group(1)\n",
    "else:\n",
    "    username = \"No match found\"\n",
    "\n",
    "# Print the extracted username\n",
    "print(\"Extracted Username:\", username)\n"
   ]
  },
  {
   "cell_type": "markdown",
   "id": "8e327956-27e3-4738-83ee-27fe41d94139",
   "metadata": {},
   "source": [
    "32. Extract the domain name from an email address string."
   ]
  },
  {
   "cell_type": "code",
   "execution_count": 33,
   "id": "962d1bcd-7d0f-4bec-8abe-6923e7ead736",
   "metadata": {},
   "outputs": [
    {
     "name": "stdout",
     "output_type": "stream",
     "text": [
      "Extracted Domain Name: email.com\n"
     ]
    }
   ],
   "source": [
    "import re\n",
    "\n",
    "# Input email address\n",
    "email_address = \"example@email.com\"\n",
    "\n",
    "# Regular expression pattern for extracting the domain name\n",
    "pattern = r'@([a-zA-Z0-9.-]+)$'\n",
    "\n",
    "# Use re.search to find the domain name\n",
    "match = re.search(pattern, email_address)\n",
    "\n",
    "# Extract the domain name from the match\n",
    "if match:\n",
    "    domain_name = match.group(1)\n",
    "else:\n",
    "    domain_name = \"No match found\"\n",
    "\n",
    "# Print the extracted domain name\n",
    "print(\"Extracted Domain Name:\", domain_name)\n"
   ]
  },
  {
   "cell_type": "markdown",
   "id": "46d3ea6d-2cc1-4fde-bf01-40b231b3e8c7",
   "metadata": {},
   "source": [
    "33. Replace multiple spaces in a string with a single space."
   ]
  },
  {
   "cell_type": "code",
   "execution_count": 34,
   "id": "8f2d2f49-1d84-4494-92da-f02db6d126fb",
   "metadata": {},
   "outputs": [
    {
     "name": "stdout",
     "output_type": "stream",
     "text": [
      "Cleaned String: This is a string with multiple spaces.\n"
     ]
    }
   ],
   "source": [
    "import re\n",
    "\n",
    "# Input string with multiple spaces\n",
    "input_string = \"This   is    a   string   with   multiple     spaces.\"\n",
    "\n",
    "# Replace multiple spaces with a single space using regular expression\n",
    "cleaned_string = re.sub(r'\\s+', ' ', input_string)\n",
    "\n",
    "# Print the cleaned string\n",
    "print(\"Cleaned String:\", cleaned_string)\n"
   ]
  },
  {
   "cell_type": "markdown",
   "id": "0e1c4507-88a5-4a20-aa39-0fea7fc87400",
   "metadata": {},
   "source": [
    "34. Check if a string is a valid URL."
   ]
  },
  {
   "cell_type": "code",
   "execution_count": 35,
   "id": "9ea25b54-8af8-4615-bf4c-b6799cb4333f",
   "metadata": {},
   "outputs": [
    {
     "name": "stdout",
     "output_type": "stream",
     "text": [
      "Is 'https://twitter.com' a valid URL? <re.Match object; span=(0, 11), match='twitter.com'>\n",
      "Is 'invalid_url' a valid URL? False\n",
      "Is 'ftp://ftp.example.com' a valid URL? <re.Match object; span=(0, 15), match='ftp.example.com'>\n"
     ]
    }
   ],
   "source": [
    "import re\n",
    "from urllib.parse import urlparse\n",
    "\n",
    "# Function to check if a string is a valid URL\n",
    "def is_valid_url(url):\n",
    "    try:\n",
    "        result = urlparse(url)\n",
    "        return all([result.scheme, result.netloc]) and re.match(r'^[a-zA-Z0-9.-]*$', result.netloc)\n",
    "    except ValueError:\n",
    "        return False\n",
    "\n",
    "# Test cases\n",
    "url1 = \"https://twitter.com\"\n",
    "url2 = \"invalid_url\"\n",
    "url3 = \"ftp://ftp.example.com\"\n",
    "\n",
    "# Check if the URLs are valid\n",
    "print(f\"Is '{url1}' a valid URL? {is_valid_url(url1)}\")\n",
    "print(f\"Is '{url2}' a valid URL? {is_valid_url(url2)}\")\n",
    "print(f\"Is '{url3}' a valid URL? {is_valid_url(url3)}\")\n"
   ]
  },
  {
   "cell_type": "markdown",
   "id": "148e6333-47ea-4983-8bc1-a60705ddf741",
   "metadata": {},
   "source": [
    "35. Extract the protocol (http or https) from a URL string."
   ]
  },
  {
   "cell_type": "code",
   "execution_count": 36,
   "id": "82bf415a-8d7b-4fea-8794-7502d789ca6d",
   "metadata": {},
   "outputs": [
    {
     "name": "stdout",
     "output_type": "stream",
     "text": [
      "Extracted Protocol: https\n"
     ]
    }
   ],
   "source": [
    "from urllib.parse import urlparse\n",
    "\n",
    "# Input URL\n",
    "url = \"https://google.com\"\n",
    "\n",
    "# Parse the URL\n",
    "parsed_url = urlparse(url)\n",
    "\n",
    "# Extract the protocol (scheme) from the parsed URL\n",
    "protocol = parsed_url.scheme\n",
    "\n",
    "# Print the extracted protocol\n",
    "print(\"Extracted Protocol:\", protocol)\n"
   ]
  },
  {
   "cell_type": "markdown",
   "id": "57150c41-7766-4901-bbfd-96fa3173c780",
   "metadata": {},
   "source": [
    "36. Find the frequency of each character in a string."
   ]
  },
  {
   "cell_type": "code",
   "execution_count": 37,
   "id": "53fe682f-804a-46e0-8de8-0013004d8a9e",
   "metadata": {},
   "outputs": [
    {
     "name": "stdout",
     "output_type": "stream",
     "text": [
      "'h': 1\n",
      "'e': 1\n",
      "'l': 3\n",
      "'o': 2\n",
      "'w': 1\n",
      "'r': 1\n",
      "'d': 1\n"
     ]
    }
   ],
   "source": [
    "# Input string\n",
    "input_string = \"hello world\"\n",
    "\n",
    "# Initialize an empty dictionary to store character frequencies\n",
    "char_frequency = {}\n",
    "\n",
    "# Iterate through the characters in the string\n",
    "for char in input_string:\n",
    "    # Ignore spaces and convert characters to lowercase (case-insensitive)\n",
    "    if char != ' ':\n",
    "        char = char.lower()\n",
    "        \n",
    "        # Increment the frequency count for the character\n",
    "        char_frequency[char] = char_frequency.get(char, 0) + 1\n",
    "\n",
    "# Print the character frequencies\n",
    "for char, frequency in char_frequency.items():\n",
    "    print(f\"'{char}': {frequency}\")\n"
   ]
  },
  {
   "cell_type": "markdown",
   "id": "a9099dff-0fb7-4b1d-b4f1-20d23a63edf4",
   "metadata": {},
   "source": [
    "37. Remove all punctuation from a string."
   ]
  },
  {
   "cell_type": "code",
   "execution_count": 38,
   "id": "1d9ca931-bb55-4c37-b017-78d063fc4a3b",
   "metadata": {},
   "outputs": [
    {
     "name": "stdout",
     "output_type": "stream",
     "text": [
      "Cleaned String: Hello World This is an example string with punctuation\n"
     ]
    }
   ],
   "source": [
    "import string\n",
    "\n",
    "# Input string\n",
    "input_string = \"Hello, World! This is an example string with punctuation.\"\n",
    "\n",
    "# Define a translation table to remove punctuation\n",
    "translator = str.maketrans('', '', string.punctuation)\n",
    "\n",
    "# Remove punctuation from the input string\n",
    "cleaned_string = input_string.translate(translator)\n",
    "\n",
    "# Print the cleaned string\n",
    "print(\"Cleaned String:\", cleaned_string)\n"
   ]
  },
  {
   "cell_type": "markdown",
   "id": "b17fda9f-c281-4c4d-8def-56f43b1b611a",
   "metadata": {},
   "source": [
    "38. Check if a string contains only digits."
   ]
  },
  {
   "cell_type": "code",
   "execution_count": 39,
   "id": "627917c8-f06d-4a6c-942e-eb8706ef30b2",
   "metadata": {},
   "outputs": [
    {
     "name": "stdout",
     "output_type": "stream",
     "text": [
      "The string contains only digits.\n"
     ]
    }
   ],
   "source": [
    "# Input string\n",
    "input_string = \"12345\"\n",
    "\n",
    "# Check if the string contains only digits\n",
    "contains_only_digits = input_string.isdigit()\n",
    "\n",
    "# Print the result\n",
    "if contains_only_digits:\n",
    "    print(\"The string contains only digits.\")\n",
    "else:\n",
    "    print(\"The string does not contain only digits.\")\n"
   ]
  },
  {
   "cell_type": "markdown",
   "id": "949268dc-b670-4ce6-a56c-21edc755027d",
   "metadata": {},
   "source": [
    "39. Check if a string contains only alphabets."
   ]
  },
  {
   "cell_type": "code",
   "execution_count": 40,
   "id": "71ae5b8f-5eb0-4f7e-ad75-2bc4bf247171",
   "metadata": {},
   "outputs": [
    {
     "name": "stdout",
     "output_type": "stream",
     "text": [
      "The string contains only alphabetic characters.\n"
     ]
    }
   ],
   "source": [
    "# Input string\n",
    "input_string = \"HelloWorld\"\n",
    "\n",
    "# Check if the string contains only alphabetic characters\n",
    "contains_only_alphabets = input_string.isalpha()\n",
    "\n",
    "# Print the result\n",
    "if contains_only_alphabets:\n",
    "    print(\"The string contains only alphabetic characters.\")\n",
    "else:\n",
    "    print(\"The string does not contain only alphabetic characters.\")\n"
   ]
  },
  {
   "cell_type": "markdown",
   "id": "4730a4cd-44f1-4617-b25c-f9755aef6ba9",
   "metadata": {},
   "source": [
    "40. Convert a string to a list of characters."
   ]
  },
  {
   "cell_type": "code",
   "execution_count": 41,
   "id": "3da7654d-f05d-48de-b230-45ecd37d8804",
   "metadata": {},
   "outputs": [
    {
     "name": "stdout",
     "output_type": "stream",
     "text": [
      "List of Characters: ['H', 'e', 'l', 'l', 'o', ',', ' ', 'W', 'o', 'r', 'l', 'd', '!']\n"
     ]
    }
   ],
   "source": [
    "# Input string\n",
    "input_string = \"Hello, World!\"\n",
    "\n",
    "# Convert the string to a list of characters\n",
    "char_list = [char for char in input_string]\n",
    "\n",
    "# Print the list of characters\n",
    "print(\"List of Characters:\", char_list)\n"
   ]
  },
  {
   "cell_type": "markdown",
   "id": "4061825d-4395-4d2f-a19c-719d2abe7ee4",
   "metadata": {},
   "source": [
    "41. Check if two strings are anagrams."
   ]
  },
  {
   "cell_type": "code",
   "execution_count": 42,
   "id": "a95892b9-f11c-4dfd-b058-2942eda03d1e",
   "metadata": {},
   "outputs": [
    {
     "name": "stdout",
     "output_type": "stream",
     "text": [
      "Are 'listen' and 'silent' anagrams? True\n",
      "Are 'hello' and 'world' anagrams? False\n"
     ]
    }
   ],
   "source": [
    "import string\n",
    "\n",
    "# Function to check if two strings are anagrams\n",
    "def are_anagrams(str1, str2):\n",
    "    # Remove spaces, convert to lowercase, and remove punctuation\n",
    "    str1 = ''.join(char.lower() for char in str1 if char not in string.whitespace and char not in string.punctuation)\n",
    "    str2 = ''.join(char.lower() for char in str2 if char not in string.whitespace and char not in string.punctuation)\n",
    "    \n",
    "    # Check if the sorted characters of both strings are the same\n",
    "    return sorted(str1) == sorted(str2)\n",
    "\n",
    "# Test cases\n",
    "string1 = \"listen\"\n",
    "string2 = \"silent\"\n",
    "string3 = \"hello\"\n",
    "string4 = \"world\"\n",
    "\n",
    "# Check if the strings are anagrams\n",
    "print(f\"Are '{string1}' and '{string2}' anagrams? {are_anagrams(string1, string2)}\")\n",
    "print(f\"Are '{string3}' and '{string4}' anagrams? {are_anagrams(string3, string4)}\")\n"
   ]
  },
  {
   "cell_type": "markdown",
   "id": "85e22030-97e7-4384-8894-43745f39dfb0",
   "metadata": {},
   "source": [
    "42. Encode a string using a Caesar cipher."
   ]
  },
  {
   "cell_type": "code",
   "execution_count": 43,
   "id": "40a48335-2f17-4692-94e2-ed917c0099b3",
   "metadata": {},
   "outputs": [
    {
     "name": "stdout",
     "output_type": "stream",
     "text": [
      "Encrypted Text: L zulwh jrrg sbwkrq frgh :)\n"
     ]
    }
   ],
   "source": [
    "# Function to encode a string using a Caesar cipher\n",
    "def caesar_cipher_encrypt(text, shift):\n",
    "    encrypted_text = \"\"\n",
    "\n",
    "    for char in text:\n",
    "        if char.isalpha():  # Check if the character is a letter\n",
    "            is_upper = char.isupper()\n",
    "            char = char.lower()  # Convert to lowercase for shift\n",
    "            shifted = (ord(char) - ord('a') + shift) % 26\n",
    "            char = chr(shifted + ord('a'))\n",
    "            if is_upper:\n",
    "                char = char.upper()  # Convert back to uppercase if original character was uppercase\n",
    "        encrypted_text += char\n",
    "    return encrypted_text\n",
    "\n",
    "# Test the Caesar cipher encryption\n",
    "plaintext = \"I write good python code :)\"\n",
    "shift = 3\n",
    "encrypted_text = caesar_cipher_encrypt(plaintext, shift)\n",
    "print(\"Encrypted Text:\", encrypted_text)\n"
   ]
  },
  {
   "cell_type": "markdown",
   "id": "d5a8a139-8ef2-4521-a5da-60e4d390b727",
   "metadata": {},
   "source": [
    "43. Decode a Caesar cipher encoded string."
   ]
  },
  {
   "cell_type": "code",
   "execution_count": 44,
   "id": "e25d209d-f7d1-4d95-82b2-812b4629f167",
   "metadata": {},
   "outputs": [
    {
     "name": "stdout",
     "output_type": "stream",
     "text": [
      "Decrypted Text: I write good python code :)\n"
     ]
    }
   ],
   "source": [
    "# Function to decode a Caesar cipher encoded string\n",
    "def caesar_cipher_decrypt(encrypted_text, shift):\n",
    "    decrypted_text = \"\"\n",
    "\n",
    "    for char in encrypted_text:\n",
    "        if char.isalpha():  # Check if the character is a letter\n",
    "            is_upper = char.isupper()\n",
    "            char = char.lower()  # Convert to lowercase for shift\n",
    "            shifted = (ord(char) - ord('a') - shift) % 26\n",
    "            char = chr(shifted + ord('a'))\n",
    "            if is_upper:\n",
    "                char = char.upper()  # Convert back to uppercase if original character was uppercase\n",
    "        decrypted_text += char\n",
    "    return decrypted_text\n",
    "\n",
    "# Test the Caesar cipher decryption\n",
    "encrypted_text = \"L zulwh jrrg sbwkrq frgh :)\"\n",
    "shift = 3\n",
    "decrypted_text = caesar_cipher_decrypt(encrypted_text, shift)\n",
    "print(\"Decrypted Text:\", decrypted_text)\n"
   ]
  },
  {
   "cell_type": "markdown",
   "id": "5c27bc8d-2e68-403d-ad98-c2040404e47a",
   "metadata": {},
   "source": [
    "44. Find the most frequent word in a string."
   ]
  },
  {
   "cell_type": "code",
   "execution_count": 45,
   "id": "9b20316f-e41a-476b-99df-b05e8bf5952e",
   "metadata": {},
   "outputs": [
    {
     "name": "stdout",
     "output_type": "stream",
     "text": [
      "Most frequent word: is\n"
     ]
    }
   ],
   "source": [
    "import re\n",
    "\n",
    "# Function to find the most frequent word in a string\n",
    "def most_frequent_word(text):\n",
    "    # Remove punctuation and convert to lowercase\n",
    "    cleaned_text = re.sub(r'[^\\w\\s]', '', text).lower()\n",
    "    \n",
    "    # Split the cleaned text into words\n",
    "    words = cleaned_text.split()\n",
    "    \n",
    "    # Initialize a dictionary to store word frequencies\n",
    "    word_freq = {}\n",
    "    \n",
    "    # Count the frequency of each word\n",
    "    for word in words:\n",
    "        word_freq[word] = word_freq.get(word, 0) + 1\n",
    "    \n",
    "    # Find the word with the highest frequency\n",
    "    most_frequent = max(word_freq, key=word_freq.get)\n",
    "    \n",
    "    return most_frequent\n",
    "\n",
    "# Test the most frequent word function\n",
    "text = \"This is a test. This is only a test. Testing is important.\"\n",
    "most_freq_word = most_frequent_word(text)\n",
    "print(\"Most frequent word:\", most_freq_word)\n"
   ]
  },
  {
   "cell_type": "markdown",
   "id": "7f4e094f-9973-4467-86a7-38ec533e2472",
   "metadata": {},
   "source": [
    "45. Find all unique words in a string."
   ]
  },
  {
   "cell_type": "code",
   "execution_count": 46,
   "id": "661054be-5633-44e1-891e-b441416733bc",
   "metadata": {},
   "outputs": [
    {
     "name": "stdout",
     "output_type": "stream",
     "text": [
      "Unique Words: {'important', 'is', 'testing', 'a', 'only', 'test', 'this'}\n"
     ]
    }
   ],
   "source": [
    "import re\n",
    "\n",
    "# Function to find all unique words in a string\n",
    "def unique_words(text):\n",
    "    # Remove punctuation and convert to lowercase\n",
    "    cleaned_text = re.sub(r'[^\\w\\s]', '', text).lower()\n",
    "    \n",
    "    # Split the cleaned text into words\n",
    "    words = cleaned_text.split()\n",
    "    \n",
    "    # Create a set to store unique words\n",
    "    unique_word_set = set(words)\n",
    "    \n",
    "    return unique_word_set\n",
    "\n",
    "# Test the unique words function\n",
    "text = \"This is a test. This is only a test. Testing is important.\"\n",
    "unique_words_set = unique_words(text)\n",
    "\n",
    "# Print the unique words\n",
    "print(\"Unique Words:\", unique_words_set)\n"
   ]
  },
  {
   "cell_type": "markdown",
   "id": "636f4e4e-ac0c-4b76-a25e-efd94d771d1b",
   "metadata": {},
   "source": [
    "46. Count the number of syllables in a string."
   ]
  },
  {
   "cell_type": "code",
   "execution_count": 47,
   "id": "0e3aaf68-fb5f-407b-bf1f-9e76cafda687",
   "metadata": {},
   "outputs": [
    {
     "name": "stdout",
     "output_type": "stream",
     "text": [
      "Number of Syllables: 10\n"
     ]
    }
   ],
   "source": [
    "import re\n",
    "\n",
    "# Function to count the number of syllables in a string\n",
    "def count_syllables(text):\n",
    "    # Remove non-alphabet characters and convert to lowercase\n",
    "    cleaned_text = re.sub(r'[^a-zA-Z\\s]', '', text).lower()\n",
    "    \n",
    "    # Define a regular expression pattern to match vowel sounds\n",
    "    vowel_pattern = re.compile(r'[aeiouy]+')\n",
    "    \n",
    "    # Use the regular expression to find all vowel sounds in the cleaned text\n",
    "    vowel_sounds = re.findall(vowel_pattern, cleaned_text)\n",
    "    \n",
    "    # Count the number of vowel sounds, which approximate the syllable count\n",
    "    syllable_count = len(vowel_sounds)\n",
    "    \n",
    "    return syllable_count\n",
    "\n",
    "# Test the count syllables function\n",
    "text = \"Hello, World! This is a test sentence.\"\n",
    "syllables = count_syllables(text)\n",
    "print(\"Number of Syllables:\", syllables)\n"
   ]
  },
  {
   "cell_type": "markdown",
   "id": "93b648e6-dfb3-4c48-80a9-cbb2d06ff5d7",
   "metadata": {},
   "source": [
    "47. Check if a string contains any special characters."
   ]
  },
  {
   "cell_type": "code",
   "execution_count": 48,
   "id": "4e2e44c5-e17c-466c-81c6-b8b5b291c508",
   "metadata": {},
   "outputs": [
    {
     "name": "stdout",
     "output_type": "stream",
     "text": [
      "Does 'Hello, World!' contain special characters? True\n",
      "Does 'This is a normal string without any special characters' contain special characters? False\n",
      "Does 'This string Contains@Special#Characters' contain special characters? True\n"
     ]
    }
   ],
   "source": [
    "import re\n",
    "\n",
    "# Function to check if a string contains special characters\n",
    "def contains_special_characters(text):\n",
    "    # Define a regular expression pattern to match special characters\n",
    "    special_char_pattern = re.compile(r'[^a-zA-Z0-9\\s]')\n",
    "\n",
    "    # Search for special characters in the text\n",
    "    match = re.search(special_char_pattern, text)\n",
    "\n",
    "    # If a match is found, return True (contains special characters); otherwise, return False\n",
    "    return match is not None\n",
    "\n",
    "# Test the contains special characters function\n",
    "text1 = \"Hello, World!\"\n",
    "text2 = \"This is a normal string without any special characters\"\n",
    "text3 = \"This string Contains@Special#Characters\"\n",
    "\n",
    "print(f\"Does '{text1}' contain special characters? {contains_special_characters(text1)}\")\n",
    "print(f\"Does '{text2}' contain special characters? {contains_special_characters(text2)}\")\n",
    "print(f\"Does '{text3}' contain special characters? {contains_special_characters(text3)}\")\n"
   ]
  },
  {
   "cell_type": "markdown",
   "id": "6b0d86e8-26e3-473a-9066-9b430773f485",
   "metadata": {},
   "source": [
    "48. Remove the nth word from a string."
   ]
  },
  {
   "cell_type": "code",
   "execution_count": 49,
   "id": "8d3a3cc4-f374-48da-ae42-fa47184d9f0a",
   "metadata": {},
   "outputs": [
    {
     "name": "stdout",
     "output_type": "stream",
     "text": [
      "Original String:  This is a test sentence to remove a word.\n",
      "Result String: This is a sentence to remove a word.\n"
     ]
    }
   ],
   "source": [
    "# Function to remove the nth word from a string\n",
    "def remove_nth_word(input_string, n):\n",
    "    # Split the input string into words\n",
    "    words = input_string.split()\n",
    "    \n",
    "    # Check if the specified position (n) is valid\n",
    "    if 1 <= n <= len(words):\n",
    "        # Remove the nth word by slicing the list\n",
    "        del words[n - 1]\n",
    "        \n",
    "        # Join the remaining words back together\n",
    "        result_string = ' '.join(words)\n",
    "        return result_string\n",
    "    else:\n",
    "        # Return the original string if the position is out of range\n",
    "        return input_string\n",
    "\n",
    "# Test the remove nth word function\n",
    "input_string = \"This is a test sentence to remove a word.\"\n",
    "\n",
    "# Displaying the original string\n",
    "print(\"Original String: \", input_string)\n",
    "\n",
    "n = 4  # Remove the 4th word (in this case, \"sentence\")\n",
    "\n",
    "result_string = remove_nth_word(input_string, n)\n",
    "print(\"Result String:\", result_string)\n"
   ]
  },
  {
   "cell_type": "markdown",
   "id": "98d6fce8-bae0-4ebd-90d0-c6c6ab173831",
   "metadata": {},
   "source": [
    "49. Insert a word at the nth position in a string."
   ]
  },
  {
   "cell_type": "code",
   "execution_count": 50,
   "id": "c405a2b5-3805-4ede-8e1b-9b2687a92a8b",
   "metadata": {},
   "outputs": [
    {
     "name": "stdout",
     "output_type": "stream",
     "text": [
      "Original String:  This is a test sentence to insert a word.\n",
      "Result String: This is a test new sentence to insert a word.\n"
     ]
    }
   ],
   "source": [
    "# Function to insert a word at the nth position in a string\n",
    "def insert_word_at_nth_position(input_string, n, word_to_insert):\n",
    "    # Split the input string into words\n",
    "    words = input_string.split()\n",
    "    \n",
    "    # Check if the specified position (n) is valid\n",
    "    if 0 <= n <= len(words):\n",
    "        # Insert the word at the nth position in the list\n",
    "        words.insert(n, word_to_insert)\n",
    "        \n",
    "        # Join the words back together\n",
    "        result_string = ' '.join(words)\n",
    "        return result_string\n",
    "    else:\n",
    "        # Return the original string if the position is out of range\n",
    "        return input_string\n",
    "\n",
    "# Test the insert word at nth position function\n",
    "input_string = \"This is a test sentence to insert a word.\"\n",
    "\n",
    "# Displaying the original string\n",
    "print(\"Original String: \", input_string)\n",
    "\n",
    "n = 4  # Insert the word at the 4th position\n",
    "word_to_insert = \"new\"\n",
    "\n",
    "result_string = insert_word_at_nth_position(input_string, n, word_to_insert)\n",
    "print(\"Result String:\", result_string)\n"
   ]
  },
  {
   "cell_type": "markdown",
   "id": "ef3f6482-960a-4518-bc0d-da36b80715bf",
   "metadata": {},
   "source": [
    "50. Convert a CSV string to a list of lists."
   ]
  },
  {
   "cell_type": "code",
   "execution_count": 51,
   "id": "a6b45bf3-e10a-4263-9828-8d1e552a3ba9",
   "metadata": {},
   "outputs": [
    {
     "name": "stdout",
     "output_type": "stream",
     "text": [
      "['Name', 'Age', 'Location']\n",
      "['Alice', '25', 'New York']\n",
      "['Bob', '30', 'Los Angeles']\n",
      "['Charlie', '22', 'Chicago']\n"
     ]
    }
   ],
   "source": [
    "import csv\n",
    "from io import StringIO\n",
    "\n",
    "# Function to convert a CSV string to a list of lists\n",
    "def csv_string_to_list(csv_string):\n",
    "    # Create a StringIO object to mimic a file\n",
    "    csv_file = StringIO(csv_string)\n",
    "    \n",
    "    # Initialize a CSV reader\n",
    "    csv_reader = csv.reader(csv_file)\n",
    "    \n",
    "    # Convert the CSV data to a list of lists\n",
    "    csv_data = [row for row in csv_reader]\n",
    "    \n",
    "    return csv_data\n",
    "\n",
    "# Test the CSV string to list function\n",
    "csv_string = \"\"\"Name,Age,Location\n",
    "Alice,25,New York\n",
    "Bob,30,Los Angeles\n",
    "Charlie,22,Chicago\n",
    "\"\"\"\n",
    "\n",
    "csv_list = csv_string_to_list(csv_string)\n",
    "for row in csv_list:\n",
    "    print(row)\n"
   ]
  },
  {
   "cell_type": "markdown",
   "id": "caeed48b-f7ca-4785-8fbc-3c88732a06ce",
   "metadata": {},
   "source": [
    "# List Based Practice Problem :"
   ]
  },
  {
   "cell_type": "markdown",
   "id": "b35a4214-5ebf-41bd-80dd-cee30e183e0c",
   "metadata": {},
   "source": [
    "1. Create a list with integers from 1 to 10."
   ]
  },
  {
   "cell_type": "code",
   "execution_count": 52,
   "id": "ce319625-dae9-445c-b2e0-378097ad3a51",
   "metadata": {},
   "outputs": [
    {
     "name": "stdout",
     "output_type": "stream",
     "text": [
      "[1, 2, 3, 4, 5, 6, 7, 8, 9, 10]\n"
     ]
    }
   ],
   "source": [
    "# Using a list comprehension to create a list of integers from 1 to 10\n",
    "integer_list = [i for i in range(1, 11)]\n",
    "print(integer_list)"
   ]
  },
  {
   "cell_type": "code",
   "execution_count": 53,
   "id": "4c4e8dd1-a838-4bef-a60b-67bb7c0e18b3",
   "metadata": {},
   "outputs": [
    {
     "name": "stdout",
     "output_type": "stream",
     "text": [
      "[1, 2, 3, 4, 5, 6, 7, 8, 9, 10]\n"
     ]
    }
   ],
   "source": [
    "# Using the range() function with list() to create a list of integers from 1 to 10\n",
    "integer_list = list(range(1, 11))\n",
    "print(integer_list)"
   ]
  },
  {
   "cell_type": "markdown",
   "id": "fa82a56b-2c58-422c-afec-054c722e5ef7",
   "metadata": {},
   "source": [
    "2. Find the length of a list without using the `len()` function."
   ]
  },
  {
   "cell_type": "code",
   "execution_count": 54,
   "id": "ed9d7077-f3c3-4460-9f4f-df9a8b680b31",
   "metadata": {},
   "outputs": [
    {
     "name": "stdout",
     "output_type": "stream",
     "text": [
      "Length of the list: 10\n"
     ]
    }
   ],
   "source": [
    "# Create a list\n",
    "my_list = [1, 2, 3, 4, 5, 6, 7, 8, 9, 10]\n",
    "\n",
    "# Initialize a variable to store the length\n",
    "length = 0\n",
    "\n",
    "# Iterate through the list and count the elements\n",
    "for index in my_list:\n",
    "    length += 1\n",
    "\n",
    "# Print the length\n",
    "print(\"Length of the list:\", length)\n"
   ]
  },
  {
   "cell_type": "markdown",
   "id": "f2227003-72c1-460e-b480-53f321d0ab07",
   "metadata": {},
   "source": [
    "3. Append an element to the end of a list."
   ]
  },
  {
   "cell_type": "code",
   "execution_count": 55,
   "id": "6185e68e-1e51-44da-a3e9-54e51c727f30",
   "metadata": {},
   "outputs": [
    {
     "name": "stdout",
     "output_type": "stream",
     "text": [
      "Original List: [1, 2, 3, 4, 5]\n",
      "Updated List: [1, 2, 3, 4, 5, 6]\n"
     ]
    }
   ],
   "source": [
    "# Create a list\n",
    "my_list = [1, 2, 3, 4, 5]\n",
    "\n",
    "# Displaying the original list\n",
    "print(\"Original List:\", my_list)\n",
    "\n",
    "# Append an element to the end of the list\n",
    "my_list.append(6)\n",
    "\n",
    "# Print the updated list\n",
    "print(\"Updated List:\", my_list)\n"
   ]
  },
  {
   "cell_type": "markdown",
   "id": "3f4d0b20-5850-4968-bd9e-55b8df8ef3fd",
   "metadata": {},
   "source": [
    "4. Insert an element at a specific index in a list."
   ]
  },
  {
   "cell_type": "code",
   "execution_count": 56,
   "id": "bd846ad7-a448-4e61-aedb-f87d8160eadb",
   "metadata": {},
   "outputs": [
    {
     "name": "stdout",
     "output_type": "stream",
     "text": [
      "Original List: [1, 2, 3, 4, 5]\n",
      "Updated List: [1, 2, 99, 3, 4, 5]\n"
     ]
    }
   ],
   "source": [
    "# Create a list\n",
    "my_list = [1, 2, 3, 4, 5]\n",
    "\n",
    "# Displaying the original list\n",
    "print(\"Original List:\", my_list)\n",
    "\n",
    "# Insert an element (e.g., 99) at a specific index (e.g., index 2)\n",
    "index_to_insert = 2\n",
    "element_to_insert = 99\n",
    "my_list.insert(index_to_insert, element_to_insert)\n",
    "\n",
    "# Print the updated list\n",
    "print(\"Updated List:\", my_list)\n"
   ]
  },
  {
   "cell_type": "markdown",
   "id": "c4aa0efa-e59b-45d0-b72c-36a48a7f7ccb",
   "metadata": {},
   "source": [
    "5. Remove an element from a list by its value."
   ]
  },
  {
   "cell_type": "code",
   "execution_count": 57,
   "id": "cfe40b28-4f29-45d5-a674-388a937e352b",
   "metadata": {},
   "outputs": [
    {
     "name": "stdout",
     "output_type": "stream",
     "text": [
      "Original List: [1, 2, 3, 4, 5]\n",
      "Updated List: [1, 2, 4, 5]\n"
     ]
    }
   ],
   "source": [
    "# Create a list\n",
    "my_list = [1, 2, 3, 4, 5]\n",
    "\n",
    "# Displaying the original list\n",
    "print(\"Original List:\", my_list)\n",
    "\n",
    "# Remove an element (e.g., value 3) from the list\n",
    "value_to_remove = 3\n",
    "my_list.remove(value_to_remove)\n",
    "\n",
    "# Print the updated list\n",
    "print(\"Updated List:\", my_list)\n"
   ]
  },
  {
   "cell_type": "markdown",
   "id": "8a2f5bb0-e980-4299-9ca7-df8e9bae9108",
   "metadata": {},
   "source": [
    "6. Remove an element from a list by its index."
   ]
  },
  {
   "cell_type": "code",
   "execution_count": 58,
   "id": "772a5b6b-9f8f-45b2-be7c-6cbef6f0bc47",
   "metadata": {},
   "outputs": [
    {
     "name": "stdout",
     "output_type": "stream",
     "text": [
      "Original List: [1, 2, 3, 4, 5]\n",
      "Updated List: [1, 2, 4, 5]\n",
      "Removed Element: 3\n"
     ]
    }
   ],
   "source": [
    "# Create a list\n",
    "my_list = [1, 2, 3, 4, 5]\n",
    "\n",
    "# Displaying the original list\n",
    "print(\"Original List:\", my_list)\n",
    "\n",
    "# Remove an element at a specific index (e.g., index 2)\n",
    "index_to_remove = 2\n",
    "removed_element = my_list.pop(index_to_remove)\n",
    "\n",
    "# Print the updated list and the removed element\n",
    "print(\"Updated List:\", my_list)\n",
    "print(\"Removed Element:\", removed_element)\n"
   ]
  },
  {
   "cell_type": "markdown",
   "id": "37483a58-5ec6-49fc-812d-c133516e4efc",
   "metadata": {},
   "source": [
    "7. Check if an element exists in a list."
   ]
  },
  {
   "cell_type": "code",
   "execution_count": 59,
   "id": "aed430dd-e273-4c65-a93d-c022ed7278cd",
   "metadata": {},
   "outputs": [
    {
     "name": "stdout",
     "output_type": "stream",
     "text": [
      "3 exists in the list.\n"
     ]
    }
   ],
   "source": [
    "# Create a list\n",
    "my_list = [1, 2, 3, 4, 5]\n",
    "\n",
    "# Element to check\n",
    "element_to_check = 3\n",
    "\n",
    "# Check if the element exists in the list using the 'in' keyword\n",
    "if element_to_check in my_list:\n",
    "    print(f\"{element_to_check} exists in the list.\")\n",
    "else:\n",
    "    print(f\"{element_to_check} does not exist in the list.\")\n"
   ]
  },
  {
   "cell_type": "markdown",
   "id": "b9b828f5-8854-4c29-ae63-05a30c0b81d0",
   "metadata": {},
   "source": [
    "8. Find the index of the first occurrence of an element in a list."
   ]
  },
  {
   "cell_type": "code",
   "execution_count": 60,
   "id": "4ae9721f-6007-4ee5-9b78-4cd9ae819327",
   "metadata": {},
   "outputs": [
    {
     "name": "stdout",
     "output_type": "stream",
     "text": [
      "The first occurrence of 3 is at index 2.\n"
     ]
    }
   ],
   "source": [
    "# Create a list\n",
    "my_list = [1, 2, 3, 4, 5, 33, 3, 40, 89, 3]\n",
    "\n",
    "# Element to find\n",
    "element_to_find = 3\n",
    "\n",
    "# Find the index of the first occurrence of the element using the 'index()' method\n",
    "try:\n",
    "    index = my_list.index(element_to_find)\n",
    "    print(f\"The first occurrence of {element_to_find} is at index {index}.\")\n",
    "except ValueError:\n",
    "    print(f\"{element_to_find} is not in the list.\")\n"
   ]
  },
  {
   "cell_type": "markdown",
   "id": "fe271d4c-d4a3-4035-84cf-0d524b0245bd",
   "metadata": {},
   "source": [
    "9. Count the occurrences of an element in a list."
   ]
  },
  {
   "cell_type": "code",
   "execution_count": 61,
   "id": "01fb1e1b-00ae-45ff-b85a-52856e7ff231",
   "metadata": {},
   "outputs": [
    {
     "name": "stdout",
     "output_type": "stream",
     "text": [
      "The element 3 appears 3 times in the list.\n"
     ]
    }
   ],
   "source": [
    "# Create a list\n",
    "my_list = [1, 2, 3, 4, 3, 5, 3]\n",
    "\n",
    "# Element to count\n",
    "element_to_count = 3\n",
    "\n",
    "# Count the occurrences of the element using the 'count()' method\n",
    "occurrences = my_list.count(element_to_count)\n",
    "print(f\"The element {element_to_count} appears {occurrences} times in the list.\")\n"
   ]
  },
  {
   "cell_type": "markdown",
   "id": "883827e4-4c14-4554-893b-f22eb8558450",
   "metadata": {},
   "source": [
    "10. Reverse the order of elements in a list."
   ]
  },
  {
   "cell_type": "code",
   "execution_count": 62,
   "id": "d8d5d86c-6c06-4c30-ab28-f79c4d50bc90",
   "metadata": {},
   "outputs": [
    {
     "name": "stdout",
     "output_type": "stream",
     "text": [
      "Original List: [1, 2, 3, 4, 5]\n",
      "Reversed List: [5, 4, 3, 2, 1]\n"
     ]
    }
   ],
   "source": [
    "# Create a list\n",
    "my_list = [1, 2, 3, 4, 5]\n",
    "\n",
    "# Displaying the original list\n",
    "print(\"Original List:\", my_list)\n",
    "\n",
    "# Reverse the order of elements using the 'reverse()' method\n",
    "my_list.reverse()\n",
    "\n",
    "# Print the reversed list\n",
    "print(\"Reversed List:\", my_list)\n"
   ]
  },
  {
   "cell_type": "markdown",
   "id": "d8ba220f-2e69-4890-a7ec-79b2df9046f4",
   "metadata": {},
   "source": [
    "11. Sort a list in ascending order."
   ]
  },
  {
   "cell_type": "code",
   "execution_count": 63,
   "id": "8ece1433-f043-41cc-b46d-0382e008dddd",
   "metadata": {},
   "outputs": [
    {
     "name": "stdout",
     "output_type": "stream",
     "text": [
      "Original List: [5, 2, 8, 1, 3]\n",
      "Sorted List (ascending): [1, 2, 3, 5, 8]\n"
     ]
    }
   ],
   "source": [
    "# Create an unsorted list\n",
    "my_list = [5, 2, 8, 1, 3]\n",
    "\n",
    "# Displaying the original list\n",
    "print(\"Original List:\", my_list)\n",
    "\n",
    "# Sort the list in ascending order using the 'sort()' method\n",
    "my_list.sort()\n",
    "\n",
    "# Print the sorted list\n",
    "print(\"Sorted List (ascending):\", my_list)\n"
   ]
  },
  {
   "cell_type": "markdown",
   "id": "6bd0333c-0004-4c15-af6a-b011258211e5",
   "metadata": {},
   "source": [
    "12. Sort a list in descending order."
   ]
  },
  {
   "cell_type": "code",
   "execution_count": 64,
   "id": "6a1728aa-9690-4f32-8f7b-be1865df6ac2",
   "metadata": {},
   "outputs": [
    {
     "name": "stdout",
     "output_type": "stream",
     "text": [
      "Original List: [5, 2, 8, 1, 3]\n",
      "Sorted List (descending): [8, 5, 3, 2, 1]\n"
     ]
    }
   ],
   "source": [
    "# Create an unsorted list\n",
    "my_list = [5, 2, 8, 1, 3]\n",
    "\n",
    "# Displaying the original list\n",
    "print(\"Original List:\", my_list)\n",
    "\n",
    "# Sort the list in descending order using the 'sort()' method with 'reverse=True'\n",
    "my_list.sort(reverse=True)\n",
    "\n",
    "# Print the sorted list\n",
    "print(\"Sorted List (descending):\", my_list)\n"
   ]
  },
  {
   "cell_type": "markdown",
   "id": "d450a5eb-1f57-4eba-999f-04d879f2cee8",
   "metadata": {},
   "source": [
    "13. Create a list of even numbers from 1 to 20."
   ]
  },
  {
   "cell_type": "code",
   "execution_count": 65,
   "id": "b8b59293-9265-4afe-855b-08e753bb8f58",
   "metadata": {},
   "outputs": [
    {
     "name": "stdout",
     "output_type": "stream",
     "text": [
      "Even Numbers: [2, 4, 6, 8, 10, 12, 14, 16, 18, 20]\n"
     ]
    }
   ],
   "source": [
    "# Create a list of even numbers from 1 to 20 using a list comprehension\n",
    "even_numbers = [x for x in range(1, 21) if x % 2 == 0]\n",
    "\n",
    "# Print the list of even numbers\n",
    "print(\"Even Numbers:\", even_numbers)\n"
   ]
  },
  {
   "cell_type": "markdown",
   "id": "a6e17345-fb67-412d-aeca-5d8689f8e233",
   "metadata": {},
   "source": [
    "14. Create a list of odd numbers from 1 to 20."
   ]
  },
  {
   "cell_type": "code",
   "execution_count": 66,
   "id": "d9d8c0ac-9d85-4bf7-a733-6ad103505eae",
   "metadata": {},
   "outputs": [
    {
     "name": "stdout",
     "output_type": "stream",
     "text": [
      "Odd Numbers: [1, 3, 5, 7, 9, 11, 13, 15, 17, 19]\n"
     ]
    }
   ],
   "source": [
    "# Create a list of odd numbers from 1 to 20 using a list comprehension\n",
    "odd_numbers = [x for x in range(1, 21) if x % 2 != 0]\n",
    "\n",
    "# Print the list of odd numbers\n",
    "print(\"Odd Numbers:\", odd_numbers)\n"
   ]
  },
  {
   "cell_type": "markdown",
   "id": "606dd783-f383-4146-b5f8-d561d7fad878",
   "metadata": {},
   "source": [
    "15. Find the sum of all elements in a list."
   ]
  },
  {
   "cell_type": "code",
   "execution_count": 67,
   "id": "90557bbd-4524-448c-b9ca-550489707482",
   "metadata": {},
   "outputs": [
    {
     "name": "stdout",
     "output_type": "stream",
     "text": [
      "Sum of all elements: 15\n"
     ]
    }
   ],
   "source": [
    "# Create a list of numbers\n",
    "my_list = [1, 2, 3, 4, 5]\n",
    "\n",
    "# Calculate the sum of all elements in the list using the 'sum()' function\n",
    "list_sum = sum(my_list)\n",
    "\n",
    "# Print the sum\n",
    "print(\"Sum of all elements:\", list_sum)\n"
   ]
  },
  {
   "cell_type": "markdown",
   "id": "199bf5d7-345c-456a-b7c5-f4434d254577",
   "metadata": {},
   "source": [
    "16. Find the maximum value in a list."
   ]
  },
  {
   "cell_type": "code",
   "execution_count": 68,
   "id": "ffb4d4e3-b071-4305-b9b2-761902427942",
   "metadata": {},
   "outputs": [
    {
     "name": "stdout",
     "output_type": "stream",
     "text": [
      "Maximum value: 9\n"
     ]
    }
   ],
   "source": [
    "# Create a list of numbers\n",
    "my_list = [3, 6, 1, 8, 2, 9, 4]\n",
    "\n",
    "# Find the maximum value in the list using the 'max()' function\n",
    "maximum_value = max(my_list)\n",
    "\n",
    "# Print the maximum value\n",
    "print(\"Maximum value:\", maximum_value)\n"
   ]
  },
  {
   "cell_type": "markdown",
   "id": "13ead04e-e38e-46d6-911d-f423c1514f01",
   "metadata": {},
   "source": [
    "17. Find the minimum value in a list."
   ]
  },
  {
   "cell_type": "code",
   "execution_count": 69,
   "id": "b3da865a-fb04-4bc1-a718-8439ea6d7428",
   "metadata": {},
   "outputs": [
    {
     "name": "stdout",
     "output_type": "stream",
     "text": [
      "Minimum value: 1\n"
     ]
    }
   ],
   "source": [
    "# Create a list of numbers\n",
    "my_list = [3, 6, 1, 8, 2, 9, 4]\n",
    "\n",
    "# Find the minimum value in the list using the 'min()' function\n",
    "minimum_value = min(my_list)\n",
    "\n",
    "# Print the minimum value\n",
    "print(\"Minimum value:\", minimum_value)\n"
   ]
  },
  {
   "cell_type": "markdown",
   "id": "de1f92b4-2782-404e-a5ab-b9a73192470f",
   "metadata": {},
   "source": [
    "18. Create a list of squares of numbers from 1 to 10."
   ]
  },
  {
   "cell_type": "code",
   "execution_count": 70,
   "id": "b84e95d6-64bc-4cb3-b454-6adc94759eb8",
   "metadata": {},
   "outputs": [
    {
     "name": "stdout",
     "output_type": "stream",
     "text": [
      "List of Squares: [1, 4, 9, 16, 25, 36, 49, 64, 81, 100]\n"
     ]
    }
   ],
   "source": [
    "# Create a list of squares of numbers from 1 to 10 using a list comprehension\n",
    "squares_list = [x ** 2 for x in range(1, 11)]\n",
    "\n",
    "# Print the list of squares\n",
    "print(\"List of Squares:\", squares_list)\n"
   ]
  },
  {
   "cell_type": "markdown",
   "id": "8ce247be-3cd5-466c-9107-b56728284669",
   "metadata": {},
   "source": [
    "19. Create a list of random numbers."
   ]
  },
  {
   "cell_type": "code",
   "execution_count": 71,
   "id": "3d38493a-5f7f-4a45-88db-3cb8c4732e7d",
   "metadata": {},
   "outputs": [
    {
     "name": "stdout",
     "output_type": "stream",
     "text": [
      "Random Numbers: [70, 27, 47, 32, 68]\n"
     ]
    }
   ],
   "source": [
    "import random\n",
    "\n",
    "# Create a list of 5 random integers between 1 and 100\n",
    "random_numbers = [random.randint(1, 100) for _ in range(5)]\n",
    "\n",
    "# Print the list of random numbers\n",
    "print(\"Random Numbers:\", random_numbers)\n"
   ]
  },
  {
   "cell_type": "markdown",
   "id": "5027e794-ea6e-4bfd-911f-4f8ed9665033",
   "metadata": {},
   "source": [
    "20. Remove duplicates from a list."
   ]
  },
  {
   "cell_type": "code",
   "execution_count": 72,
   "id": "cfc76b4a-4d8a-4ad0-becf-ca448f6756c1",
   "metadata": {},
   "outputs": [
    {
     "name": "stdout",
     "output_type": "stream",
     "text": [
      "Original List: [1, 2, 2, 3, 4, 4, 5]\n",
      "List with Duplicates Removed: [1, 2, 3, 4, 5]\n"
     ]
    }
   ],
   "source": [
    "# Create a list with duplicates\n",
    "my_list = [1, 2, 2, 3, 4, 4, 5]\n",
    "\n",
    "# Displaying the original list\n",
    "print(\"Original List:\", my_list)\n",
    "\n",
    "# Create an empty list to store unique elements\n",
    "unique_list = []\n",
    "\n",
    "# Loop through the original list and add elements to the unique list if not already present\n",
    "for item in my_list:\n",
    "    if item not in unique_list:\n",
    "        unique_list.append(item)\n",
    "\n",
    "# Print the list with duplicates removed\n",
    "print(\"List with Duplicates Removed:\", unique_list)\n"
   ]
  },
  {
   "cell_type": "markdown",
   "id": "f33549fe-aff5-4323-8ba9-30725bef60a8",
   "metadata": {},
   "source": [
    "21. Find the common elements between two lists."
   ]
  },
  {
   "cell_type": "code",
   "execution_count": 73,
   "id": "7ff9baa5-cee3-4da6-a820-41a2e26cbfe5",
   "metadata": {},
   "outputs": [
    {
     "name": "stdout",
     "output_type": "stream",
     "text": [
      "Common Elements: [3, 4, 5]\n"
     ]
    }
   ],
   "source": [
    "# Create two lists\n",
    "list1 = [1, 2, 3, 4, 5]\n",
    "list2 = [3, 4, 5, 6, 7]\n",
    "\n",
    "# Find common elements using set intersection\n",
    "common_elements = list(set(list1) & set(list2))\n",
    "\n",
    "# Print the common elements\n",
    "print(\"Common Elements:\", common_elements)\n"
   ]
  },
  {
   "cell_type": "markdown",
   "id": "4129c302-9792-4f11-9399-8275637291f9",
   "metadata": {},
   "source": [
    "22. Find the difference between two lists."
   ]
  },
  {
   "cell_type": "code",
   "execution_count": 74,
   "id": "e88b7f65-b977-4483-87dc-ad271a64833a",
   "metadata": {},
   "outputs": [
    {
     "name": "stdout",
     "output_type": "stream",
     "text": [
      "Difference between the lists: [1, 2]\n"
     ]
    }
   ],
   "source": [
    "# Create two lists\n",
    "list1 = [1, 2, 3, 4, 5]\n",
    "list2 = [3, 4, 5, 6, 7]\n",
    "\n",
    "# Find the difference between the two lists using set difference\n",
    "difference = list(set(list1) - set(list2))\n",
    "\n",
    "# Print the difference\n",
    "print(\"Difference between the lists:\", difference)\n"
   ]
  },
  {
   "cell_type": "markdown",
   "id": "ffe9dc7a-8867-4037-88fc-d9f0e38f0f3c",
   "metadata": {},
   "source": [
    "23. Merge two lists."
   ]
  },
  {
   "cell_type": "code",
   "execution_count": 75,
   "id": "7b8df12c-02d0-4bda-9528-f6052bf4b9b0",
   "metadata": {},
   "outputs": [
    {
     "name": "stdout",
     "output_type": "stream",
     "text": [
      "Merged List: [1, 2, 3, 4, 5, 6]\n"
     ]
    }
   ],
   "source": [
    "# Create two lists\n",
    "list1 = [1, 2, 3]\n",
    "list2 = [4, 5, 6]\n",
    "\n",
    "# Merge the two lists using the 'extend()' method\n",
    "list1.extend(list2)\n",
    "\n",
    "# Print the merged list\n",
    "print(\"Merged List:\", list1)\n"
   ]
  },
  {
   "cell_type": "markdown",
   "id": "7f97ded7-4d1a-4646-9296-1e628aa27b5d",
   "metadata": {},
   "source": [
    "24. Multiply all elements in a list by 2."
   ]
  },
  {
   "cell_type": "code",
   "execution_count": 76,
   "id": "87a41db2-104f-4866-9741-0626258860d4",
   "metadata": {},
   "outputs": [
    {
     "name": "stdout",
     "output_type": "stream",
     "text": [
      "Original List: [1, 2, 3, 4, 5]\n",
      "Result List: [2, 4, 6, 8, 10]\n"
     ]
    }
   ],
   "source": [
    "# Create a list of numbers\n",
    "my_list = [1, 2, 3, 4, 5]\n",
    "\n",
    "# Displaying the original list\n",
    "print(\"Original List:\", my_list)\n",
    "\n",
    "# Multiply all elements in the list by 2 using a list comprehension\n",
    "result_list = [x * 2 for x in my_list]\n",
    "\n",
    "# Print the result list\n",
    "print(\"Result List:\", result_list)\n"
   ]
  },
  {
   "cell_type": "markdown",
   "id": "c8844d09-96b5-40a3-b97b-6a4207c26977",
   "metadata": {},
   "source": [
    "25. Filter out all even numbers from a list."
   ]
  },
  {
   "cell_type": "code",
   "execution_count": 77,
   "id": "e9c3abba-ad52-4f3f-91c5-878d1da861b5",
   "metadata": {},
   "outputs": [
    {
     "name": "stdout",
     "output_type": "stream",
     "text": [
      "Filtered List (odd numbers only): [1, 3, 5, 7, 9]\n"
     ]
    }
   ],
   "source": [
    "# Create a list of numbers\n",
    "my_list = [1, 2, 3, 4, 5, 6, 7, 8, 9, 10]\n",
    "\n",
    "# Filter out even numbers using a list comprehension\n",
    "filtered_list = [x for x in my_list if x % 2 != 0]\n",
    "\n",
    "# Print the filtered list\n",
    "print(\"Filtered List (odd numbers only):\", filtered_list)\n"
   ]
  },
  {
   "cell_type": "markdown",
   "id": "09ef0da0-1e65-46de-aeb9-5103edb091fd",
   "metadata": {},
   "source": [
    "26. Convert a list of strings to a list of integers."
   ]
  },
  {
   "cell_type": "code",
   "execution_count": 78,
   "id": "a880bced-41ba-406e-8af3-a21341930bf2",
   "metadata": {},
   "outputs": [
    {
     "name": "stdout",
     "output_type": "stream",
     "text": [
      "Original List: ['1', '2', '3', '4', '5']\n",
      "List of Integers: [1, 2, 3, 4, 5]\n"
     ]
    }
   ],
   "source": [
    "# Create a list of strings\n",
    "string_list = [\"1\", \"2\", \"3\", \"4\", \"5\"]\n",
    "\n",
    "# Displaying the original list\n",
    "print(\"Original List:\", string_list)\n",
    "\n",
    "# Convert the list of strings to a list of integers using a list comprehension\n",
    "integer_list = [int(x) for x in string_list]\n",
    "\n",
    "# Print the list of integers\n",
    "print(\"List of Integers:\", integer_list)\n"
   ]
  },
  {
   "cell_type": "markdown",
   "id": "333e0d29-54c4-4c67-9e1d-49059e7afe61",
   "metadata": {},
   "source": [
    "27. Convert a list of integers to a list of strings."
   ]
  },
  {
   "cell_type": "code",
   "execution_count": 79,
   "id": "55ca10af-9dcd-4f73-b75a-d99657b7cfe3",
   "metadata": {},
   "outputs": [
    {
     "name": "stdout",
     "output_type": "stream",
     "text": [
      "Original List: [1, 2, 3, 4, 5]\n",
      "List of Strings: ['1', '2', '3', '4', '5']\n"
     ]
    }
   ],
   "source": [
    "# Create a list of integers\n",
    "integer_list = [1, 2, 3, 4, 5]\n",
    "\n",
    "# Displaying the original list\n",
    "print(\"Original List:\", integer_list)\n",
    "\n",
    "# Convert the list of integers to a list of strings using a list comprehension\n",
    "string_list = [str(x) for x in integer_list]\n",
    "\n",
    "# Print the list of strings\n",
    "print(\"List of Strings:\", string_list)\n"
   ]
  },
  {
   "cell_type": "markdown",
   "id": "e0d9364a-e071-43d8-8509-308de7557ba0",
   "metadata": {},
   "source": [
    "28. Flatten a nested list."
   ]
  },
  {
   "cell_type": "code",
   "execution_count": 80,
   "id": "c782a64e-ac82-4503-a86c-ee496a4ecacc",
   "metadata": {},
   "outputs": [
    {
     "name": "stdout",
     "output_type": "stream",
     "text": [
      "Original List: [1, [2, 3], [4, [5, 6]]]\n",
      "Flattened List: [1, 2, 3, 4, 5, 6]\n"
     ]
    }
   ],
   "source": [
    "def flatten_list(nested_list):\n",
    "    flat_list = []\n",
    "    for item in nested_list:\n",
    "        if isinstance(item, list):\n",
    "            flat_list.extend(flatten_list(item))\n",
    "        else:\n",
    "            flat_list.append(item)\n",
    "    return flat_list\n",
    "\n",
    "# Example nested list\n",
    "nested_list = [1, [2, 3], [4, [5, 6]]]\n",
    "\n",
    "# Displaying the original list\n",
    "print(\"Original List:\", nested_list)\n",
    "\n",
    "# Flatten the nested list\n",
    "flat_list = flatten_list(nested_list)\n",
    "\n",
    "# Print the flat list\n",
    "print(\"Flattened List:\", flat_list)\n"
   ]
  },
  {
   "cell_type": "markdown",
   "id": "207b80c6-7f87-49a4-bf8d-412a8edaf917",
   "metadata": {},
   "source": [
    "29. Create a list of the first 10 Fibonacci numbers."
   ]
  },
  {
   "cell_type": "code",
   "execution_count": 81,
   "id": "61061b1f-5054-43af-96da-61bd543169e4",
   "metadata": {},
   "outputs": [
    {
     "name": "stdout",
     "output_type": "stream",
     "text": [
      "First 10 Fibonacci Numbers: [0, 1, 1, 2, 3, 5, 8, 13, 21, 34]\n"
     ]
    }
   ],
   "source": [
    "# Initialize the first two Fibonacci numbers\n",
    "fibonacci_list = [0, 1]\n",
    "\n",
    "# Generate the next 8 Fibonacci numbers\n",
    "for i in range(2, 10):\n",
    "    next_fibonacci = fibonacci_list[i - 1] + fibonacci_list[i - 2]\n",
    "    fibonacci_list.append(next_fibonacci)\n",
    "\n",
    "# Print the list of the first 10 Fibonacci numbers\n",
    "print(\"First 10 Fibonacci Numbers:\", fibonacci_list)\n"
   ]
  },
  {
   "cell_type": "markdown",
   "id": "b1e95e80-920d-4bdc-b79e-a1f28aa54ae1",
   "metadata": {},
   "source": [
    "30. Check if a list is sorted."
   ]
  },
  {
   "cell_type": "code",
   "execution_count": 82,
   "id": "7fe54329-7f0f-443c-974f-1f3ccf15bb0f",
   "metadata": {},
   "outputs": [
    {
     "name": "stdout",
     "output_type": "stream",
     "text": [
      "Is 'sorted_list' sorted? True\n",
      "Is 'unsorted_list' sorted? False\n"
     ]
    }
   ],
   "source": [
    "def is_sorted(lst):\n",
    "    for i in range(1, len(lst)):\n",
    "        if lst[i] < lst[i - 1]:\n",
    "            return False\n",
    "    return True\n",
    "\n",
    "# Example lists\n",
    "sorted_list = [1, 2, 3, 4, 5]\n",
    "unsorted_list = [5, 3, 2, 1, 4]\n",
    "\n",
    "# Check if the lists are sorted\n",
    "print(\"Is 'sorted_list' sorted?\", is_sorted(sorted_list))\n",
    "print(\"Is 'unsorted_list' sorted?\", is_sorted(unsorted_list))\n"
   ]
  },
  {
   "cell_type": "markdown",
   "id": "11f06f99-06ff-436a-98d8-e1214896dea9",
   "metadata": {},
   "source": [
    "31. Rotate a list to the left by `n` positions."
   ]
  },
  {
   "cell_type": "code",
   "execution_count": 83,
   "id": "3ce36802-a5d6-4ad2-aec2-40a27aca18c6",
   "metadata": {},
   "outputs": [
    {
     "name": "stdout",
     "output_type": "stream",
     "text": [
      "Original List: [1, 2, 3, 4, 5]\n",
      "Rotated Left by 2 positions: [3, 4, 5, 1, 2]\n"
     ]
    }
   ],
   "source": [
    "def rotate_left(lst, n):\n",
    "    # Ensure n is within the bounds of the list length\n",
    "    n %= len(lst)\n",
    "    \n",
    "    # Perform the rotation using list slicing\n",
    "    rotated_list = lst[n:] + lst[:n]\n",
    "    \n",
    "    return rotated_list\n",
    "\n",
    "# Example list and rotation\n",
    "my_list = [1, 2, 3, 4, 5]\n",
    "n = 2\n",
    "\n",
    "# Rotate the list to the left by n positions\n",
    "rotated = rotate_left(my_list, n)\n",
    "\n",
    "# Print the rotated list\n",
    "print(\"Original List:\", my_list)\n",
    "print(f\"Rotated Left by {n} positions:\", rotated)\n"
   ]
  },
  {
   "cell_type": "markdown",
   "id": "69af6d00-7c5b-4435-bede-5ee7dcd6a37e",
   "metadata": {},
   "source": [
    "32. Rotate a list to the right by `n` positions."
   ]
  },
  {
   "cell_type": "code",
   "execution_count": 84,
   "id": "880399b6-8ffe-4dae-ab24-92457bfdc2ed",
   "metadata": {},
   "outputs": [
    {
     "name": "stdout",
     "output_type": "stream",
     "text": [
      "Original List: [1, 2, 3, 4, 5]\n",
      "Rotated Right by 2 positions: [4, 5, 1, 2, 3]\n"
     ]
    }
   ],
   "source": [
    "def rotate_right(lst, n):\n",
    "    # Ensure n is within the bounds of the list length\n",
    "    n %= len(lst)\n",
    "    \n",
    "    # Perform the rotation using list slicing\n",
    "    rotated_list = lst[-n:] + lst[:-n]\n",
    "    \n",
    "    return rotated_list\n",
    "\n",
    "# Example list and rotation\n",
    "my_list = [1, 2, 3, 4, 5]\n",
    "n = 2\n",
    "\n",
    "# Rotate the list to the right by n positions\n",
    "rotated = rotate_right(my_list, n)\n",
    "\n",
    "# Print the rotated list\n",
    "print(\"Original List:\", my_list)\n",
    "print(f\"Rotated Right by {n} positions:\", rotated)\n"
   ]
  },
  {
   "cell_type": "markdown",
   "id": "7a751ce8-81f4-4dab-b409-9239e14ce33f",
   "metadata": {},
   "source": [
    "33. Create a list of prime numbers up to 50."
   ]
  },
  {
   "cell_type": "code",
   "execution_count": 85,
   "id": "d13c5a83-af8c-47ec-ad4b-692f98ae89cd",
   "metadata": {},
   "outputs": [
    {
     "name": "stdout",
     "output_type": "stream",
     "text": [
      "Prime Numbers up to 50: [2, 3, 5, 7, 11, 13, 17, 19, 23, 29, 31, 37, 41, 43, 47]\n"
     ]
    }
   ],
   "source": [
    "def is_prime(num):\n",
    "    if num <= 1:\n",
    "        return False\n",
    "    if num <= 3:\n",
    "        return True\n",
    "    if num % 2 == 0 or num % 3 == 0:\n",
    "        return False\n",
    "    i = 5\n",
    "    while i * i <= num:\n",
    "        if num % i == 0 or num % (i + 2) == 0:\n",
    "            return False\n",
    "        i += 6\n",
    "    return True\n",
    "\n",
    "# Create a list of prime numbers up to 50\n",
    "prime_numbers = [num for num in range(2, 51) if is_prime(num)]\n",
    "\n",
    "# Print the list of prime numbers\n",
    "print(\"Prime Numbers up to 50:\", prime_numbers)\n"
   ]
  },
  {
   "cell_type": "markdown",
   "id": "64b31fb1-62ad-4252-ba05-966b4e7eb297",
   "metadata": {},
   "source": [
    "34. Split a list into chunks of size `n`."
   ]
  },
  {
   "cell_type": "code",
   "execution_count": 86,
   "id": "c6e9c505-725f-4093-8136-fe0fc5ae5b19",
   "metadata": {},
   "outputs": [
    {
     "name": "stdout",
     "output_type": "stream",
     "text": [
      "Original List: [1, 2, 3, 4, 5, 6, 7, 8, 9]\n",
      "Split into Chunks of 3: [[1, 2, 3], [4, 5, 6], [7, 8, 9]]\n"
     ]
    }
   ],
   "source": [
    "def split_list(lst, n):\n",
    "    return [lst[i:i + n] for i in range(0, len(lst), n)]\n",
    "\n",
    "# Example list and chunk size\n",
    "my_list = [1, 2, 3, 4, 5, 6, 7, 8, 9]\n",
    "chunk_size = 3\n",
    "\n",
    "# Split the list into chunks of size n\n",
    "chunks = split_list(my_list, chunk_size)\n",
    "\n",
    "# Print the list of chunks\n",
    "print(f\"Original List: {my_list}\")\n",
    "print(f\"Split into Chunks of {chunk_size}: {chunks}\")\n"
   ]
  },
  {
   "cell_type": "markdown",
   "id": "913219b4-9e0f-4344-bcd3-51f64a413e26",
   "metadata": {},
   "source": [
    "35. Find the second largest number in a list."
   ]
  },
  {
   "cell_type": "code",
   "execution_count": 87,
   "id": "fccf830b-4ab7-4b0d-a262-332e4019d53d",
   "metadata": {},
   "outputs": [
    {
     "name": "stdout",
     "output_type": "stream",
     "text": [
      "Second Largest Number: 7\n"
     ]
    }
   ],
   "source": [
    "def find_second_largest(lst):\n",
    "    if len(lst) < 2:\n",
    "        return None  # There is no second largest number\n",
    "\n",
    "    largest = second_largest = float('-inf')  # Initialize largest and second_largest to negative infinity\n",
    "\n",
    "    for num in lst:\n",
    "        if num > largest:\n",
    "            second_largest = largest\n",
    "            largest = num\n",
    "        elif num > second_largest and num != largest:\n",
    "            second_largest = num\n",
    "\n",
    "    return second_largest\n",
    "\n",
    "# Example list\n",
    "my_list = [1, 3, 5, 2, 7, 6, 8]\n",
    "\n",
    "# Find the second largest number\n",
    "second_largest = find_second_largest(my_list)\n",
    "\n",
    "# Print the result\n",
    "if second_largest is not None:\n",
    "    print(\"Second Largest Number:\", second_largest)\n",
    "else:\n",
    "    print(\"There is no second largest number in the list.\")\n"
   ]
  },
  {
   "cell_type": "markdown",
   "id": "47426245-e736-4cee-918a-ec773465df94",
   "metadata": {},
   "source": [
    "36. Replace every element in a list with its square."
   ]
  },
  {
   "cell_type": "code",
   "execution_count": 88,
   "id": "093ecd0b-64ce-4ca3-a33b-7e3a346cfe3e",
   "metadata": {},
   "outputs": [
    {
     "name": "stdout",
     "output_type": "stream",
     "text": [
      "Original List: [1, 2, 3, 4, 5]\n",
      "Squared List: [1, 4, 9, 16, 25]\n"
     ]
    }
   ],
   "source": [
    "# Create a list of numbers\n",
    "my_list = [1, 2, 3, 4, 5]\n",
    "\n",
    "# Displaying the original list\n",
    "print(\"Original List:\", my_list)\n",
    "\n",
    "# Replace each element with its square using a list comprehension\n",
    "squared_list = [x ** 2 for x in my_list]\n",
    "\n",
    "# Print the squared list\n",
    "print(\"Squared List:\", squared_list)\n"
   ]
  },
  {
   "cell_type": "markdown",
   "id": "f364b35a-655c-4e93-8ba0-39904950d131",
   "metadata": {},
   "source": [
    "37. Convert a list to a dictionary where list elements become keys and their indices become values."
   ]
  },
  {
   "cell_type": "code",
   "execution_count": 89,
   "id": "576d8ced-09c8-4426-a9eb-5c3bc9fbddb4",
   "metadata": {},
   "outputs": [
    {
     "name": "stdout",
     "output_type": "stream",
     "text": [
      "Dictionary: {'apple': 0, 'banana': 1, 'cherry': 2, 'date': 3}\n"
     ]
    }
   ],
   "source": [
    "# Create a list\n",
    "my_list = ['apple', 'banana', 'cherry', 'date']\n",
    "\n",
    "# Convert the list to a dictionary with elements as keys and indices as values\n",
    "my_dict = {element: index for index, element in enumerate(my_list)}\n",
    "\n",
    "# Print the resulting dictionary\n",
    "print(\"Dictionary:\", my_dict)\n"
   ]
  },
  {
   "cell_type": "markdown",
   "id": "911b0511-2327-4c05-8e5e-6f5e3de7ee45",
   "metadata": {},
   "source": [
    "38. Shuffle the elements of a list randomly."
   ]
  },
  {
   "cell_type": "code",
   "execution_count": 90,
   "id": "dcc7f73d-87d6-4ff1-8e13-d714b7840b25",
   "metadata": {},
   "outputs": [
    {
     "name": "stdout",
     "output_type": "stream",
     "text": [
      "Original List: [1, 2, 3, 4, 5]\n",
      "Shuffled List: [4, 3, 1, 2, 5]\n"
     ]
    }
   ],
   "source": [
    "import random\n",
    "\n",
    "# Create a list\n",
    "my_list = [1, 2, 3, 4, 5]\n",
    "\n",
    "# Displaying the original list\n",
    "print(\"Original List:\", my_list)\n",
    "\n",
    "# Shuffle the list randomly\n",
    "random.shuffle(my_list)\n",
    "\n",
    "# Print the shuffled list\n",
    "print(\"Shuffled List:\", my_list)\n"
   ]
  },
  {
   "cell_type": "markdown",
   "id": "1c3c5140-cc9c-4b3e-8a48-7d63d4489bbc",
   "metadata": {},
   "source": [
    "39. Create a list of the first 10 factorial numbers."
   ]
  },
  {
   "cell_type": "code",
   "execution_count": 91,
   "id": "39a441ca-8f17-4d4c-94d5-8b7bc7dcf20d",
   "metadata": {},
   "outputs": [
    {
     "name": "stdout",
     "output_type": "stream",
     "text": [
      "First 10 Factorial Numbers: [1, 1, 2, 6, 24, 120, 720, 5040, 40320, 362880]\n"
     ]
    }
   ],
   "source": [
    "# Function to calculate the factorial of a number\n",
    "def factorial(n):\n",
    "    if n == 0:\n",
    "        return 1\n",
    "    else:\n",
    "        result = 1\n",
    "        for i in range(1, n + 1):\n",
    "            result *= i\n",
    "        return result\n",
    "\n",
    "# Create a list of the first 10 factorial numbers\n",
    "factorial_list = [factorial(n) for n in range(10)]\n",
    "\n",
    "# Print the list of factorial numbers\n",
    "print(\"First 10 Factorial Numbers:\", factorial_list)\n"
   ]
  },
  {
   "cell_type": "markdown",
   "id": "cf92bb9f-e757-4bf1-9cf7-5b82c49b288e",
   "metadata": {},
   "source": [
    "40. Check if two lists have at least one element in common."
   ]
  },
  {
   "cell_type": "code",
   "execution_count": 92,
   "id": "43d4a4fa-d69b-43f1-a0b2-0e6079b84f35",
   "metadata": {},
   "outputs": [
    {
     "name": "stdout",
     "output_type": "stream",
     "text": [
      "There are common elements: {5}\n"
     ]
    }
   ],
   "source": [
    "# Create two lists\n",
    "list1 = [1, 2, 3, 4, 5]\n",
    "list2 = [5, 6, 7, 8, 9]\n",
    "\n",
    "# Check if there is at least one common element\n",
    "common_elements = set(list1) & set(list2)\n",
    "\n",
    "if common_elements:\n",
    "    print(\"There are common elements:\", common_elements)\n",
    "else:\n",
    "    print(\"There are no common elements.\")\n"
   ]
  },
  {
   "cell_type": "markdown",
   "id": "9d66a393-0652-4f43-a1ea-be23b1d8b493",
   "metadata": {},
   "source": [
    "41. Remove all elements from a list."
   ]
  },
  {
   "cell_type": "code",
   "execution_count": 93,
   "id": "49e450ef-8a14-41ed-9701-1e6c00bd7a3f",
   "metadata": {},
   "outputs": [
    {
     "name": "stdout",
     "output_type": "stream",
     "text": [
      "Original List: [1, 2, 3, 4, 5]\n",
      "Empty List: []\n"
     ]
    }
   ],
   "source": [
    "# Create a list\n",
    "my_list = [1, 2, 3, 4, 5]\n",
    "\n",
    "# Displaying the original list\n",
    "print(\"Original List:\", my_list)\n",
    "\n",
    "# Clear all elements from the list\n",
    "my_list.clear()\n",
    "\n",
    "# Print the empty list\n",
    "print(\"Empty List:\", my_list)\n"
   ]
  },
  {
   "cell_type": "markdown",
   "id": "3b31bbfc-0c13-4ed9-8d91-440492eede9a",
   "metadata": {},
   "source": [
    "42. Replace negative numbers in a list with 0."
   ]
  },
  {
   "cell_type": "code",
   "execution_count": 94,
   "id": "8cbcf245-3355-4225-bcc3-a1da64c30464",
   "metadata": {},
   "outputs": [
    {
     "name": "stdout",
     "output_type": "stream",
     "text": [
      "Original List: [1, -2, 3, -4, 5]\n",
      "Modified List: [1, 0, 3, 0, 5]\n"
     ]
    }
   ],
   "source": [
    "# Create a list\n",
    "my_list = [1, -2, 3, -4, 5]\n",
    "\n",
    "# Displaying the original list\n",
    "print(\"Original List:\", my_list)\n",
    "\n",
    "# Replace negative numbers with 0 using a list comprehension\n",
    "my_list = [x if x >= 0 else 0 for x in my_list]\n",
    "\n",
    "# Print the modified list\n",
    "print(\"Modified List:\", my_list)\n"
   ]
  },
  {
   "cell_type": "markdown",
   "id": "4bd547dd-f9bb-4c81-8e18-05827d2bfff2",
   "metadata": {},
   "source": [
    "43. Convert a string into a list of words."
   ]
  },
  {
   "cell_type": "code",
   "execution_count": 95,
   "id": "7e88c7ec-f1dd-4ed1-9f06-dd2d16ea585b",
   "metadata": {},
   "outputs": [
    {
     "name": "stdout",
     "output_type": "stream",
     "text": [
      "List of Words: ['Hello,', 'this', 'is', 'a', 'sample', 'string.']\n"
     ]
    }
   ],
   "source": [
    "# Create a string\n",
    "my_string = \"Hello, this is a sample string.\"\n",
    "\n",
    "# Split the string into a list of words\n",
    "word_list = my_string.split()\n",
    "\n",
    "# Print the list of words\n",
    "print(\"List of Words:\", word_list)\n"
   ]
  },
  {
   "cell_type": "markdown",
   "id": "e0a3f55f-ca5e-4e15-9d9d-b1c6008dc0eb",
   "metadata": {},
   "source": [
    "44. Convert a list of words into a string."
   ]
  },
  {
   "cell_type": "code",
   "execution_count": 96,
   "id": "4e792555-3e5f-460b-8d40-9cec56af286d",
   "metadata": {},
   "outputs": [
    {
     "name": "stdout",
     "output_type": "stream",
     "text": [
      "Resulting String: Hello this is a list of words\n"
     ]
    }
   ],
   "source": [
    "# Create a list of words\n",
    "word_list = [\"Hello\", \"this\", \"is\", \"a\", \"list\", \"of\", \"words\"]\n",
    "\n",
    "# Convert the list of words into a string\n",
    "my_string = \" \".join(word_list)\n",
    "\n",
    "# Print the resulting string\n",
    "print(\"Resulting String:\", my_string)\n"
   ]
  },
  {
   "cell_type": "markdown",
   "id": "04cc9256-8afb-478f-93b4-e269a18e1404",
   "metadata": {},
   "source": [
    "45. Create a list of the first `n` powers of 2."
   ]
  },
  {
   "cell_type": "code",
   "execution_count": 97,
   "id": "1c80f48d-28d4-4bef-9738-e1d7475863d5",
   "metadata": {},
   "outputs": [
    {
     "name": "stdout",
     "output_type": "stream",
     "text": [
      "Powers of 2: [1, 2, 4, 8, 16]\n"
     ]
    }
   ],
   "source": [
    "# Define the value of n (the number of powers of 2)\n",
    "n = 5\n",
    "\n",
    "# Create a list of the first n powers of 2 using a list comprehension\n",
    "powers_of_2 = [2 ** i for i in range(n)]\n",
    "\n",
    "# Print the list of powers of 2\n",
    "print(\"Powers of 2:\", powers_of_2)\n"
   ]
  },
  {
   "cell_type": "markdown",
   "id": "4867bc73-f884-40b3-a813-61fb89b1907b",
   "metadata": {},
   "source": [
    "46. Find the longest string in a list of strings."
   ]
  },
  {
   "cell_type": "code",
   "execution_count": 98,
   "id": "cc0b65e8-e6fd-4320-85a5-53c058a23da6",
   "metadata": {},
   "outputs": [
    {
     "name": "stdout",
     "output_type": "stream",
     "text": [
      "Longest String: elderberry\n"
     ]
    }
   ],
   "source": [
    "# Create a list of strings\n",
    "string_list = [\"apple\", \"banana\", \"cherry\", \"date\", \"elderberry\"]\n",
    "\n",
    "# Find the longest string using the max() function with a custom key\n",
    "longest_string = max(string_list, key=len)\n",
    "\n",
    "# Print the longest string\n",
    "print(\"Longest String:\", longest_string)\n"
   ]
  },
  {
   "cell_type": "markdown",
   "id": "4885f4dd-8cc1-4097-a873-e2d2bbf7ed89",
   "metadata": {},
   "source": [
    "47. Find the shortest string in a list of strings."
   ]
  },
  {
   "cell_type": "code",
   "execution_count": 99,
   "id": "b07e9e61-cf0e-44a1-b1f8-4ca4a9651c34",
   "metadata": {},
   "outputs": [
    {
     "name": "stdout",
     "output_type": "stream",
     "text": [
      "Shortest String: date\n"
     ]
    }
   ],
   "source": [
    "# Create a list of strings\n",
    "string_list = [\"apple\", \"banana\", \"cherry\", \"date\", \"elderberry\"]\n",
    "\n",
    "# Find the shortest string using the min() function with a custom key\n",
    "shortest_string = min(string_list, key=len)\n",
    "\n",
    "# Print the shortest string\n",
    "print(\"Shortest String:\", shortest_string)\n"
   ]
  },
  {
   "cell_type": "markdown",
   "id": "b0fcb1cb-9304-4967-8c85-06cab2edc8e1",
   "metadata": {},
   "source": [
    "48. Create a list of the first `n` triangular numbers."
   ]
  },
  {
   "cell_type": "code",
   "execution_count": 100,
   "id": "9fe91b78-b1bc-4d13-9b11-cb9175ab6ed6",
   "metadata": {},
   "outputs": [
    {
     "name": "stdout",
     "output_type": "stream",
     "text": [
      "Triangular Numbers: [1, 3, 6, 10, 15]\n"
     ]
    }
   ],
   "source": [
    "# Define the value of n (the number of triangular numbers)\n",
    "n = 5\n",
    "\n",
    "# Create a list of the first n triangular numbers\n",
    "triangular_numbers = []\n",
    "current_sum = 0\n",
    "\n",
    "for i in range(1, n + 1):\n",
    "    current_sum += i\n",
    "    triangular_numbers.append(current_sum)\n",
    "\n",
    "# Print the list of triangular numbers\n",
    "print(\"Triangular Numbers:\", triangular_numbers)\n"
   ]
  },
  {
   "cell_type": "markdown",
   "id": "ce02c51a-df02-4bde-92f7-42ed5504123e",
   "metadata": {},
   "source": [
    "49. Check if a list contains another list as a subsequence."
   ]
  },
  {
   "cell_type": "code",
   "execution_count": 101,
   "id": "6a07a82f-a050-4640-8d75-3f74ee6834f7",
   "metadata": {},
   "outputs": [
    {
     "name": "stdout",
     "output_type": "stream",
     "text": [
      "List 'a' contains list 'b' as a subsequence.\n"
     ]
    }
   ],
   "source": [
    "# Function to check if list 'a' contains list 'b' as a subsequence\n",
    "def is_subsequence(a, b):\n",
    "    i = 0  # Index for list 'a'\n",
    "    j = 0  # Index for list 'b'\n",
    "\n",
    "    while i < len(a) and j < len(b):\n",
    "        if a[i] == b[j]:\n",
    "            j += 1  # Move to the next element in list 'b'\n",
    "        i += 1  # Always move to the next element in list 'a'\n",
    "\n",
    "    return j == len(b)  # If 'j' reached the end of list 'b', it's a subsequence\n",
    "\n",
    "# Example lists\n",
    "list_a = [1, 2, 3, 4, 5, 6]\n",
    "list_b = [2, 4, 6]\n",
    "\n",
    "# Check if list 'a' contains list 'b' as a subsequence\n",
    "result = is_subsequence(list_a, list_b)\n",
    "\n",
    "# Print the result\n",
    "if result:\n",
    "    print(\"List 'a' contains list 'b' as a subsequence.\")\n",
    "else:\n",
    "    print(\"List 'a' does not contain list 'b' as a subsequence.\")\n"
   ]
  },
  {
   "cell_type": "markdown",
   "id": "664af026-95fc-4546-88ce-2778f7deac82",
   "metadata": {},
   "source": [
    "50. Swap two elements in a list by their indices."
   ]
  },
  {
   "cell_type": "code",
   "execution_count": 102,
   "id": "e5614dcf-1804-41c8-8f29-902559f5da82",
   "metadata": {},
   "outputs": [
    {
     "name": "stdout",
     "output_type": "stream",
     "text": [
      "Original List: [1, 2, 3, 4, 5]\n",
      "List after swapping elements: [1, 4, 3, 2, 5]\n"
     ]
    }
   ],
   "source": [
    "# Create a list\n",
    "my_list = [1, 2, 3, 4, 5]\n",
    "\n",
    "# Displaying the original list\n",
    "print(\"Original List:\", my_list)\n",
    "\n",
    "# Define the indices of the elements to be swapped\n",
    "index1 = 1  # Index of the first element\n",
    "index2 = 3  # Index of the second element\n",
    "\n",
    "# Check if the indices are within the bounds of the list\n",
    "if 0 <= index1 < len(my_list) and 0 <= index2 < len(my_list):\n",
    "    # Swap the elements at the specified indices\n",
    "    temp = my_list[index1]\n",
    "    my_list[index1] = my_list[index2]\n",
    "    my_list[index2] = temp\n",
    "\n",
    "    # Print the list after swapping\n",
    "    print(\"List after swapping elements:\", my_list)\n",
    "else:\n",
    "    print(\"Invalid indices. Ensure indices are within the bounds of the list.\")\n"
   ]
  },
  {
   "cell_type": "markdown",
   "id": "0b6094b7-4c32-4809-89ac-d217faa8bc2c",
   "metadata": {},
   "source": [
    "# Tuple Based Practice Problem :"
   ]
  },
  {
   "cell_type": "markdown",
   "id": "c35e2cb3-926c-46c0-a623-ea518ad78912",
   "metadata": {},
   "source": [
    "1. Create a tuple with integers from 1 to 5."
   ]
  },
  {
   "cell_type": "code",
   "execution_count": 103,
   "id": "073a9b6f-aa58-4dcc-8b96-eeaa08551aa3",
   "metadata": {},
   "outputs": [
    {
     "name": "stdout",
     "output_type": "stream",
     "text": [
      "(1, 2, 3, 4, 5)\n"
     ]
    }
   ],
   "source": [
    "# Create a tuple with integers from 1 to 5\n",
    "my_tuple = (1, 2, 3, 4, 5)\n",
    "\n",
    "# Print the tuple\n",
    "print(my_tuple)\n"
   ]
  },
  {
   "cell_type": "markdown",
   "id": "2094b7fc-cea0-4c53-85e7-faaef4b37a2a",
   "metadata": {},
   "source": [
    "2. Access the third element of a tuple."
   ]
  },
  {
   "cell_type": "code",
   "execution_count": 104,
   "id": "c68d961a-b986-43f4-91ad-4807994ae023",
   "metadata": {},
   "outputs": [
    {
     "name": "stdout",
     "output_type": "stream",
     "text": [
      "Third Element: 3\n"
     ]
    }
   ],
   "source": [
    "# Create a tuple\n",
    "my_tuple = (1, 2, 3, 4, 5)\n",
    "\n",
    "# Access the third element (index 2)\n",
    "third_element = my_tuple[2]\n",
    "\n",
    "# Print the third element\n",
    "print(\"Third Element:\", third_element)\n"
   ]
  },
  {
   "cell_type": "markdown",
   "id": "b8609ec9-55cc-4e86-9f87-bb04714ee18f",
   "metadata": {},
   "source": [
    "3. Find the length of a tuple without using the `len()` function."
   ]
  },
  {
   "cell_type": "code",
   "execution_count": 105,
   "id": "a1dc175c-9f02-4a97-9915-311eb6342316",
   "metadata": {},
   "outputs": [
    {
     "name": "stdout",
     "output_type": "stream",
     "text": [
      "Length of the Tuple: 5\n"
     ]
    }
   ],
   "source": [
    "# Create a tuple\n",
    "my_tuple = (1, 2, 3, 4, 5)\n",
    "\n",
    "# Initialize a count variable to store the length\n",
    "length = 0\n",
    "\n",
    "# Iterate through the tuple and count the elements\n",
    "for _ in my_tuple:\n",
    "    length += 1\n",
    "\n",
    "# Print the length of the tuple\n",
    "print(\"Length of the Tuple:\", length)\n"
   ]
  },
  {
   "cell_type": "markdown",
   "id": "e468228f-02c7-4ea1-a033-7a67d1e246b8",
   "metadata": {},
   "source": [
    "4. Count the occurrences of an element in a tuple."
   ]
  },
  {
   "cell_type": "code",
   "execution_count": 106,
   "id": "466f4a21-6ea8-4db3-9838-b6ea872c27e9",
   "metadata": {},
   "outputs": [
    {
     "name": "stdout",
     "output_type": "stream",
     "text": [
      "Count of 2: 3\n"
     ]
    }
   ],
   "source": [
    "# Create a tuple\n",
    "my_tuple = (1, 2, 2, 3, 4, 2, 5)\n",
    "\n",
    "# Count the occurrences of a specific element (e.g., 2)\n",
    "element_to_count = 2\n",
    "count = my_tuple.count(element_to_count)\n",
    "\n",
    "# Print the count\n",
    "print(f\"Count of {element_to_count}: {count}\")\n"
   ]
  },
  {
   "cell_type": "markdown",
   "id": "305152e5-d8c9-4afe-abee-53f765271c5d",
   "metadata": {},
   "source": [
    "5. Find the index of the first occurrence of an element in a tuple."
   ]
  },
  {
   "cell_type": "code",
   "execution_count": 107,
   "id": "53b902c8-70ca-44e1-b20e-bea31284da75",
   "metadata": {},
   "outputs": [
    {
     "name": "stdout",
     "output_type": "stream",
     "text": [
      "Index of 2: 1\n"
     ]
    }
   ],
   "source": [
    "# Create a tuple\n",
    "my_tuple = (1, 2, 3, 4, 2, 5)\n",
    "\n",
    "# Find the index of the first occurrence of a specific element (e.g., 2)\n",
    "element_to_find = 2\n",
    "\n",
    "try:\n",
    "    index = my_tuple.index(element_to_find)\n",
    "    print(f\"Index of {element_to_find}: {index}\")\n",
    "except ValueError:\n",
    "    print(f\"{element_to_find} not found in the tuple\")\n"
   ]
  },
  {
   "cell_type": "markdown",
   "id": "da5db5c9-1c33-40c0-8147-fc48a2e56679",
   "metadata": {},
   "source": [
    "6. Check if an element exists in a tuple."
   ]
  },
  {
   "cell_type": "code",
   "execution_count": 108,
   "id": "b15ffa59-9c32-4da0-9306-4d7f6d999a17",
   "metadata": {},
   "outputs": [
    {
     "name": "stdout",
     "output_type": "stream",
     "text": [
      "3 exists in the tuple.\n"
     ]
    }
   ],
   "source": [
    "# Create a tuple\n",
    "my_tuple = (1, 2, 3, 4, 5)\n",
    "\n",
    "# Element to check for existence\n",
    "element_to_check = 3\n",
    "\n",
    "# Check if the element exists in the tuple\n",
    "if element_to_check in my_tuple:\n",
    "    print(f\"{element_to_check} exists in the tuple.\")\n",
    "else:\n",
    "    print(f\"{element_to_check} does not exist in the tuple.\")\n"
   ]
  },
  {
   "cell_type": "markdown",
   "id": "b4bf7d12-f17f-442a-b217-a830c5f43bb1",
   "metadata": {},
   "source": [
    "7. Convert a tuple to a list."
   ]
  },
  {
   "cell_type": "code",
   "execution_count": 109,
   "id": "b3d28b70-b416-4210-be87-f064cc2171e8",
   "metadata": {},
   "outputs": [
    {
     "name": "stdout",
     "output_type": "stream",
     "text": [
      "Original Tuple: (1, 2, 3, 4, 5)\n",
      "Converted List: [1, 2, 3, 4, 5]\n"
     ]
    }
   ],
   "source": [
    "# Create a tuple\n",
    "my_tuple = (1, 2, 3, 4, 5)\n",
    "\n",
    "# Displaying the original Tuple\n",
    "print(\"Original Tuple:\", my_tuple)\n",
    "\n",
    "# Convert the tuple to a list\n",
    "my_list = list(my_tuple)\n",
    "\n",
    "# Print the resulting list\n",
    "print(\"Converted List:\", my_list)\n"
   ]
  },
  {
   "cell_type": "markdown",
   "id": "0023f927-e3cc-4004-a208-31163491e744",
   "metadata": {},
   "source": [
    "8. Convert a list to a tuple."
   ]
  },
  {
   "cell_type": "code",
   "execution_count": 110,
   "id": "a7eada91-214c-4e38-acbd-da0b54bbde45",
   "metadata": {},
   "outputs": [
    {
     "name": "stdout",
     "output_type": "stream",
     "text": [
      "Original List: [1, 2, 3, 4, 5]\n",
      "Converted Tuple: (1, 2, 3, 4, 5)\n"
     ]
    }
   ],
   "source": [
    "# Create a list\n",
    "my_list = [1, 2, 3, 4, 5]\n",
    "\n",
    "# Displaying the original List\n",
    "print(\"Original List:\", my_list)\n",
    "\n",
    "# Convert the list to a tuple\n",
    "my_tuple = tuple(my_list)\n",
    "\n",
    "# Print the resulting tuple\n",
    "print(\"Converted Tuple:\", my_tuple)\n"
   ]
  },
  {
   "cell_type": "markdown",
   "id": "925f1a59-ceb7-4bb6-8d68-d264d2641dc7",
   "metadata": {},
   "source": [
    "9. Unpack the elements of a tuple into variables."
   ]
  },
  {
   "cell_type": "code",
   "execution_count": 111,
   "id": "6b953b81-813e-4517-b2ac-382ced23995a",
   "metadata": {},
   "outputs": [
    {
     "name": "stdout",
     "output_type": "stream",
     "text": [
      "a: 1\n",
      "b: 2\n",
      "c: 3\n"
     ]
    }
   ],
   "source": [
    "# Create a tuple\n",
    "my_tuple = (1, 2, 3)\n",
    "\n",
    "# Unpack the elements into variables\n",
    "a, b, c = my_tuple\n",
    "\n",
    "# Print the variables\n",
    "print(\"a:\", a)\n",
    "print(\"b:\", b)\n",
    "print(\"c:\", c)\n"
   ]
  },
  {
   "cell_type": "markdown",
   "id": "91c897fe-9f50-476b-9182-2b9ddabb44d9",
   "metadata": {},
   "source": [
    "10. Create a tuple of even numbers from 1 to 10."
   ]
  },
  {
   "cell_type": "code",
   "execution_count": 112,
   "id": "b16938ea-5a74-424a-8c23-25d833892867",
   "metadata": {},
   "outputs": [
    {
     "name": "stdout",
     "output_type": "stream",
     "text": [
      "Even Numbers Tuple: (2, 4, 6, 8, 10)\n"
     ]
    }
   ],
   "source": [
    "# Create a tuple of even numbers from 1 to 10 using a tuple comprehension\n",
    "even_numbers_tuple = tuple(x for x in range(2, 11, 2))\n",
    "\n",
    "# Print the tuple\n",
    "print(\"Even Numbers Tuple:\", even_numbers_tuple)\n"
   ]
  },
  {
   "cell_type": "markdown",
   "id": "430d280f-6870-4ba3-b786-8e4ddcf7cc2c",
   "metadata": {},
   "source": [
    "11. Create a tuple of odd numbers from 1 to 10."
   ]
  },
  {
   "cell_type": "code",
   "execution_count": 113,
   "id": "413588fc-df4d-4950-95ae-21a78a303b7c",
   "metadata": {},
   "outputs": [
    {
     "name": "stdout",
     "output_type": "stream",
     "text": [
      "Odd Numbers Tuple: (1, 3, 5, 7, 9)\n"
     ]
    }
   ],
   "source": [
    "# Create a tuple of odd numbers from 1 to 10 using a tuple comprehension\n",
    "odd_numbers_tuple = tuple(x for x in range(1, 11, 2))\n",
    "\n",
    "# Print the tuple\n",
    "print(\"Odd Numbers Tuple:\", odd_numbers_tuple)\n"
   ]
  },
  {
   "cell_type": "markdown",
   "id": "c48193b1-3d8b-401b-8d4e-e6fd84d6b54e",
   "metadata": {},
   "source": [
    "12. Concatenate two tuples."
   ]
  },
  {
   "cell_type": "code",
   "execution_count": 114,
   "id": "766f77b8-2da3-4d1c-b40b-e4b94affe6da",
   "metadata": {},
   "outputs": [
    {
     "name": "stdout",
     "output_type": "stream",
     "text": [
      "Concatenated Tuple: (1, 2, 3, 4, 5, 6)\n"
     ]
    }
   ],
   "source": [
    "# Create two tuples\n",
    "tuple1 = (1, 2, 3)\n",
    "tuple2 = (4, 5, 6)\n",
    "\n",
    "# Concatenate the two tuples\n",
    "concatenated_tuple = tuple1 + tuple2\n",
    "\n",
    "# Print the concatenated tuple\n",
    "print(\"Concatenated Tuple:\", concatenated_tuple)\n"
   ]
  },
  {
   "cell_type": "markdown",
   "id": "61fad0d8-83e5-4197-b965-bdcd6d8c546f",
   "metadata": {},
   "source": [
    "13. Repeat a tuple three times."
   ]
  },
  {
   "cell_type": "code",
   "execution_count": 115,
   "id": "cebaaca7-0446-4154-9a49-aadebc81e23c",
   "metadata": {},
   "outputs": [
    {
     "name": "stdout",
     "output_type": "stream",
     "text": [
      "Original Tuple: (1, 2, 3)\n",
      "Repeated Tuple: (1, 2, 3, 1, 2, 3, 1, 2, 3)\n"
     ]
    }
   ],
   "source": [
    "# Create a tuple\n",
    "my_tuple = (1, 2, 3)\n",
    "\n",
    "# Displaying the original tuple\n",
    "print(\"Original Tuple:\", my_tuple)\n",
    "\n",
    "# Repeat the tuple three times\n",
    "repeated_tuple = my_tuple * 3\n",
    "\n",
    "# Print the repeated tuple\n",
    "print(\"Repeated Tuple:\", repeated_tuple)\n"
   ]
  },
  {
   "cell_type": "markdown",
   "id": "d65015b2-f758-471a-9d9b-979a9c6aad91",
   "metadata": {},
   "source": [
    "14. Check if a tuple is empty."
   ]
  },
  {
   "cell_type": "code",
   "execution_count": 116,
   "id": "b9875d2e-0256-4ce7-a221-d939f1e71265",
   "metadata": {},
   "outputs": [
    {
     "name": "stdout",
     "output_type": "stream",
     "text": [
      "The tuple is empty.\n"
     ]
    }
   ],
   "source": [
    "# Create an empty tuple\n",
    "empty_tuple = ()\n",
    "\n",
    "# Check if the tuple is empty\n",
    "if not empty_tuple:\n",
    "    print(\"The tuple is empty.\")\n",
    "else:\n",
    "    print(\"The tuple is not empty.\")\n"
   ]
  },
  {
   "cell_type": "code",
   "execution_count": 117,
   "id": "805e2d9f-e4eb-44d5-87a6-3666c7cd5656",
   "metadata": {},
   "outputs": [
    {
     "name": "stdout",
     "output_type": "stream",
     "text": [
      "The tuple is not empty.\n"
     ]
    }
   ],
   "source": [
    "# Create an tuple\n",
    "empty_tuple = (1, 2, 3, 1, 2, 3, 1, 2, 3)\n",
    "\n",
    "# Check if the tuple is empty\n",
    "if not empty_tuple:\n",
    "    print(\"The tuple is empty.\")\n",
    "else:\n",
    "    print(\"The tuple is not empty.\")"
   ]
  },
  {
   "cell_type": "markdown",
   "id": "194bd168-22c6-43fd-b550-73b799cd619b",
   "metadata": {},
   "source": [
    "15. Create a nested tuple."
   ]
  },
  {
   "cell_type": "code",
   "execution_count": 118,
   "id": "adc0726d-e01c-4bae-9c64-3af182243513",
   "metadata": {},
   "outputs": [
    {
     "name": "stdout",
     "output_type": "stream",
     "text": [
      "Nested Tuple: ((1, 2), (3, 4), (5, 6))\n"
     ]
    }
   ],
   "source": [
    "# Create a nested tuple\n",
    "nested_tuple = ((1, 2), (3, 4), (5, 6))\n",
    "\n",
    "# Print the nested tuple\n",
    "print(\"Nested Tuple:\", nested_tuple)\n"
   ]
  },
  {
   "cell_type": "markdown",
   "id": "5f5625fc-dce7-4450-ad87-ec719a682ed7",
   "metadata": {},
   "source": [
    "16. Access the first element of a nested tuple."
   ]
  },
  {
   "cell_type": "code",
   "execution_count": 119,
   "id": "1fcf95a3-f6e0-4364-acd5-a00973ad12ce",
   "metadata": {},
   "outputs": [
    {
     "name": "stdout",
     "output_type": "stream",
     "text": [
      "First Element: (1, 2)\n"
     ]
    }
   ],
   "source": [
    "# Create a nested tuple\n",
    "nested_tuple = ((1, 2), (3, 4), (5, 6))\n",
    "\n",
    "# Access the first element of the nested tuple\n",
    "first_element = nested_tuple[0]\n",
    "\n",
    "# Print the first element\n",
    "print(\"First Element:\", first_element)\n"
   ]
  },
  {
   "cell_type": "markdown",
   "id": "601fa1cd-e195-4bea-8524-db2786e0e3d2",
   "metadata": {},
   "source": [
    "17. Create a tuple with a single element."
   ]
  },
  {
   "cell_type": "code",
   "execution_count": 120,
   "id": "16324043-905d-4aa0-b862-21f4f634a45b",
   "metadata": {},
   "outputs": [
    {
     "name": "stdout",
     "output_type": "stream",
     "text": [
      "Single-Element Tuple: (42,)\n"
     ]
    }
   ],
   "source": [
    "# Create a tuple with a single element\n",
    "single_element_tuple = (42,)\n",
    "\n",
    "# Print the single-element tuple\n",
    "print(\"Single-Element Tuple:\", single_element_tuple)\n"
   ]
  },
  {
   "cell_type": "markdown",
   "id": "a9d0730d-8922-47e9-8a07-93eac40eccb9",
   "metadata": {},
   "source": [
    "18. Compare two tuples."
   ]
  },
  {
   "cell_type": "code",
   "execution_count": 121,
   "id": "772a9330-4c2f-45a7-8ed3-a2b79ea43c95",
   "metadata": {},
   "outputs": [
    {
     "name": "stdout",
     "output_type": "stream",
     "text": [
      "Tuples are equal.\n"
     ]
    }
   ],
   "source": [
    "# Define two tuples\n",
    "tuple1 = (1, 2, 3)\n",
    "tuple2 = (1, 2, 3)\n",
    "\n",
    "# Compare if the two tuples are equal\n",
    "if tuple1 == tuple2:\n",
    "    print(\"Tuples are equal.\")\n",
    "else:\n",
    "    print(\"Tuples are not equal.\")"
   ]
  },
  {
   "cell_type": "code",
   "execution_count": 122,
   "id": "a0838c82-2e2d-4438-b3fe-a256ad59a809",
   "metadata": {},
   "outputs": [
    {
     "name": "stdout",
     "output_type": "stream",
     "text": [
      "Tuples are not equal.\n"
     ]
    }
   ],
   "source": [
    "# Define two tuples\n",
    "tuple1 = (1, 2, 3)\n",
    "tuple2 = (1, 22, 3)\n",
    "\n",
    "# Compare if the two tuples are equal\n",
    "if tuple1 == tuple2:\n",
    "    print(\"Tuples are equal.\")\n",
    "else:\n",
    "    print(\"Tuples are not equal.\")"
   ]
  },
  {
   "cell_type": "markdown",
   "id": "ccf5104c-b3ad-42cd-893b-9396adc3536c",
   "metadata": {},
   "source": [
    "19. Delete a tuple."
   ]
  },
  {
   "cell_type": "code",
   "execution_count": 123,
   "id": "7f820b01-238d-420c-927f-21fbe4b6d3d6",
   "metadata": {},
   "outputs": [],
   "source": [
    "# Create a tuple\n",
    "my_tuple = (1, 2, 3, 4, 5)\n",
    "\n",
    "# Delete the tuple\n",
    "del my_tuple\n",
    "\n",
    "# Attempting to access the tuple after deletion will result in an error\n",
    "# Uncomment the following line to see the error\n",
    "# print(my_tuple)\n"
   ]
  },
  {
   "cell_type": "markdown",
   "id": "893fb871-0e4c-4a91-95f8-1a4de81fb251",
   "metadata": {},
   "source": [
    "20. Slice a tuple."
   ]
  },
  {
   "cell_type": "code",
   "execution_count": 124,
   "id": "408f0d16-1d4c-4369-9abf-3872bca37019",
   "metadata": {},
   "outputs": [
    {
     "name": "stdout",
     "output_type": "stream",
     "text": [
      "Sliced Tuple: (3, 4, 5, 6)\n"
     ]
    }
   ],
   "source": [
    "# Create a tuple\n",
    "my_tuple = (1, 2, 3, 4, 5, 6, 7, 8, 9, 10)\n",
    "\n",
    "# Slice the tuple to extract a portion\n",
    "sliced_tuple = my_tuple[2:6]  # Extract elements from index 2 (inclusive) to 6 (exclusive)\n",
    "\n",
    "# Print the sliced tuple\n",
    "print(\"Sliced Tuple:\", sliced_tuple)\n"
   ]
  },
  {
   "cell_type": "markdown",
   "id": "7f8009da-320f-42c4-a860-98e20d4526f6",
   "metadata": {},
   "source": [
    "21. Find the maximum value in a tuple."
   ]
  },
  {
   "cell_type": "code",
   "execution_count": 125,
   "id": "0f46930b-692f-49db-9c97-dd29039f81ba",
   "metadata": {},
   "outputs": [
    {
     "name": "stdout",
     "output_type": "stream",
     "text": [
      "Original Tuple: (7, 2, 9, 1, 5, 8, 4, 6)\n",
      "Maximum Value: 9\n"
     ]
    }
   ],
   "source": [
    "# Create a tuple\n",
    "my_tuple = (7, 2, 9, 1, 5, 8, 4, 6)\n",
    "\n",
    "# Displaying the original tuple\n",
    "print(\"Original Tuple:\", my_tuple)\n",
    "\n",
    "# Find the maximum value in the tuple\n",
    "maximum_value = max(my_tuple)\n",
    "\n",
    "# Print the maximum value\n",
    "print(\"Maximum Value:\", maximum_value)\n"
   ]
  },
  {
   "cell_type": "markdown",
   "id": "577ff6ec-6007-4948-b656-430a93dcfdbb",
   "metadata": {},
   "source": [
    "22. Find the minimum value in a tuple."
   ]
  },
  {
   "cell_type": "code",
   "execution_count": 126,
   "id": "5d7b8afc-ff8d-4a1e-8ec5-75239051f2fb",
   "metadata": {},
   "outputs": [
    {
     "name": "stdout",
     "output_type": "stream",
     "text": [
      "Original Tuple: (7, 2, 9, 1, 5, 8, 4, 6)\n",
      "Minimum Value: 1\n"
     ]
    }
   ],
   "source": [
    "# Create a tuple\n",
    "my_tuple = (7, 2, 9, 1, 5, 8, 4, 6)\n",
    "\n",
    "# Displaying the original tuple\n",
    "print(\"Original Tuple:\", my_tuple)\n",
    "\n",
    "# Find the minimum value in the tuple\n",
    "minimum_value = min(my_tuple)\n",
    "\n",
    "# Print the minimum value\n",
    "print(\"Minimum Value:\", minimum_value)\n"
   ]
  },
  {
   "cell_type": "markdown",
   "id": "80bd149e-497d-4052-b808-0646481e4c3a",
   "metadata": {},
   "source": [
    "23. Convert a string to a tuple of characters."
   ]
  },
  {
   "cell_type": "code",
   "execution_count": 127,
   "id": "73b881c3-205a-44a7-b72c-9e4196dd9ce0",
   "metadata": {},
   "outputs": [
    {
     "name": "stdout",
     "output_type": "stream",
     "text": [
      "Tuple of Characters: ('H', 'e', 'l', 'l', 'o', ',', ' ', 'W', 'o', 'r', 'l', 'd', '!')\n"
     ]
    }
   ],
   "source": [
    "# Create a string\n",
    "my_string = \"Hello, World!\"\n",
    "\n",
    "# Convert the string to a tuple of characters\n",
    "char_tuple = tuple(my_string)\n",
    "\n",
    "# Print the tuple of characters\n",
    "print(\"Tuple of Characters:\", char_tuple)\n"
   ]
  },
  {
   "cell_type": "markdown",
   "id": "437c387d-6a2d-4955-88d9-c230044f738c",
   "metadata": {},
   "source": [
    "24. Convert a tuple of characters to a string."
   ]
  },
  {
   "cell_type": "code",
   "execution_count": 128,
   "id": "201f708d-e289-4836-9ff2-d46396a8fc66",
   "metadata": {},
   "outputs": [
    {
     "name": "stdout",
     "output_type": "stream",
     "text": [
      "Resulting String: Hello, World!\n"
     ]
    }
   ],
   "source": [
    "# Create a tuple of characters\n",
    "char_tuple = ('H', 'e', 'l', 'l', 'o', ',', ' ', 'W', 'o', 'r', 'l', 'd', '!')\n",
    "\n",
    "# Convert the tuple of characters to a string\n",
    "resulting_string = ''.join(char_tuple)\n",
    "\n",
    "# Print the resulting string\n",
    "print(\"Resulting String:\", resulting_string)\n"
   ]
  },
  {
   "cell_type": "markdown",
   "id": "bc914a8c-7d8a-4334-a4e2-ae560a8cc308",
   "metadata": {},
   "source": [
    "25. Create a tuple from multiple data types."
   ]
  },
  {
   "cell_type": "code",
   "execution_count": 129,
   "id": "c51da3be-1026-4ba7-9f80-1386feb94bf8",
   "metadata": {},
   "outputs": [
    {
     "name": "stdout",
     "output_type": "stream",
     "text": [
      "Mixed Tuple: (1, 'hello', 3.14, True, [1, 2, 3])\n"
     ]
    }
   ],
   "source": [
    "# Create a tuple with elements of different data types\n",
    "mixed_tuple = (1, \"hello\", 3.14, True, [1, 2, 3])\n",
    "\n",
    "# Print the mixed tuple\n",
    "print(\"Mixed Tuple:\", mixed_tuple)\n"
   ]
  },
  {
   "cell_type": "markdown",
   "id": "0a571fae-afff-40ab-a464-ac9341ded99e",
   "metadata": {},
   "source": [
    "26. Check if two tuples are identical."
   ]
  },
  {
   "cell_type": "code",
   "execution_count": 130,
   "id": "b4418fc9-f14a-4233-91f4-f09297f9e538",
   "metadata": {},
   "outputs": [
    {
     "name": "stdout",
     "output_type": "stream",
     "text": [
      "The tuples are identical.\n"
     ]
    }
   ],
   "source": [
    "# Define two tuples\n",
    "tuple1 = (1, 2, 3)\n",
    "tuple2 = (1, 2, 3)\n",
    "\n",
    "# Check if the two tuples are identical\n",
    "if tuple1 == tuple2:\n",
    "    print(\"The tuples are identical.\")\n",
    "else:\n",
    "    print(\"The tuples are not identical.\")\n"
   ]
  },
  {
   "cell_type": "markdown",
   "id": "3670d540-0037-4c94-9d08-cc3afd7ea897",
   "metadata": {},
   "source": [
    "27. Sort the elements of a tuple."
   ]
  },
  {
   "cell_type": "code",
   "execution_count": 131,
   "id": "7495ffdf-9aba-4bfa-8c99-a8b2434940dc",
   "metadata": {},
   "outputs": [
    {
     "name": "stdout",
     "output_type": "stream",
     "text": [
      "Original Tuple: (3, 1, 4, 1, 5, 9, 2, 6, 5, 3, 5)\n",
      "Sorted Tuple: (1, 1, 2, 3, 3, 4, 5, 5, 5, 6, 9)\n"
     ]
    }
   ],
   "source": [
    "# Create a tuple\n",
    "my_tuple = (3, 1, 4, 1, 5, 9, 2, 6, 5, 3, 5)\n",
    "\n",
    "# Displaying the original Tuple\n",
    "print(\"Original Tuple:\", my_tuple)\n",
    "\n",
    "# Convert the tuple to a list\n",
    "my_list = list(my_tuple)\n",
    "\n",
    "# Sort the list\n",
    "my_list.sort()\n",
    "\n",
    "# Convert the sorted list back to a tuple (if needed)\n",
    "sorted_tuple = tuple(my_list)\n",
    "\n",
    "# Print the sorted tuple\n",
    "print(\"Sorted Tuple:\", sorted_tuple)\n"
   ]
  },
  {
   "cell_type": "markdown",
   "id": "46e1df91-8e26-4a06-b6df-932f290f46a9",
   "metadata": {},
   "source": [
    "28. Convert a tuple of integers to a tuple of strings."
   ]
  },
  {
   "cell_type": "code",
   "execution_count": 132,
   "id": "c87a1be5-221e-498b-b63a-12a902225e8c",
   "metadata": {},
   "outputs": [
    {
     "name": "stdout",
     "output_type": "stream",
     "text": [
      "Original Tuple: (1, 2, 3, 4, 5)\n",
      "Tuple of Strings: ('1', '2', '3', '4', '5')\n"
     ]
    }
   ],
   "source": [
    "# Create a tuple of integers\n",
    "int_tuple = (1, 2, 3, 4, 5)\n",
    "\n",
    "# Displaying the original Tuple\n",
    "print(\"Original Tuple:\", int_tuple)\n",
    "\n",
    "# Convert the tuple of integers to a tuple of strings using a tuple comprehension\n",
    "str_tuple = tuple(str(x) for x in int_tuple)\n",
    "\n",
    "# Print the tuple of strings\n",
    "print(\"Tuple of Strings:\", str_tuple)\n"
   ]
  },
  {
   "cell_type": "markdown",
   "id": "70a55411-03fc-4cd5-b9ef-83da54c102b6",
   "metadata": {},
   "source": [
    "29. Convert a tuple of strings to a tuple of integers."
   ]
  },
  {
   "cell_type": "code",
   "execution_count": 133,
   "id": "a30ba5ab-7730-4a46-a468-1ed11a498ce7",
   "metadata": {},
   "outputs": [
    {
     "name": "stdout",
     "output_type": "stream",
     "text": [
      "Original Tuple: ('1', '2', '3', '4', '5')\n",
      "Tuple of Integers: (1, 2, 3, 4, 5)\n"
     ]
    }
   ],
   "source": [
    "# Create a tuple of strings\n",
    "str_tuple = (\"1\", \"2\", \"3\", \"4\", \"5\")\n",
    "\n",
    "# Displaying the original Tuple\n",
    "print(\"Original Tuple:\", str_tuple)\n",
    "\n",
    "# Convert the tuple of strings to a tuple of integers using a tuple comprehension\n",
    "int_tuple = tuple(int(x) for x in str_tuple)\n",
    "\n",
    "# Print the tuple of integers\n",
    "print(\"Tuple of Integers:\", int_tuple)\n"
   ]
  },
  {
   "cell_type": "markdown",
   "id": "a2f59f99-15c2-45a2-a3a1-f3586aad8e99",
   "metadata": {},
   "source": [
    "30. Merge two tuples."
   ]
  },
  {
   "cell_type": "code",
   "execution_count": 134,
   "id": "50551d52-e83a-40a1-a129-354aefe6907e",
   "metadata": {},
   "outputs": [
    {
     "name": "stdout",
     "output_type": "stream",
     "text": [
      "Merged Tuple: (1, 2, 3, 4, 5, 6)\n"
     ]
    }
   ],
   "source": [
    "# Create two tuples\n",
    "tuple1 = (1, 2, 3)\n",
    "tuple2 = (4, 5, 6)\n",
    "\n",
    "# Merge the two tuples\n",
    "merged_tuple = tuple1 + tuple2\n",
    "\n",
    "# Print the merged tuple\n",
    "print(\"Merged Tuple:\", merged_tuple)\n"
   ]
  },
  {
   "cell_type": "markdown",
   "id": "5cb17ed8-ea73-44f5-ace1-5f956fa43422",
   "metadata": {},
   "source": [
    "31. Flatten a nested tuple."
   ]
  },
  {
   "cell_type": "code",
   "execution_count": 135,
   "id": "c7ef4051-2af0-46a1-afff-8f6b076d5043",
   "metadata": {},
   "outputs": [
    {
     "name": "stdout",
     "output_type": "stream",
     "text": [
      "Original Tuple: ((1, 2), (3, (4, 5)), 6)\n",
      "Flattened Tuple: (1, 2, 3, 4, 5, 6)\n"
     ]
    }
   ],
   "source": [
    "# Define a nested tuple\n",
    "nested_tuple = ((1, 2), (3, (4, 5)), 6)\n",
    "\n",
    "# Displaying the original Tuple\n",
    "print(\"Original Tuple:\", nested_tuple)\n",
    "\n",
    "# Function to flatten a nested tuple\n",
    "def flatten_tuple(nested):\n",
    "    for item in nested:\n",
    "        if isinstance(item, tuple):\n",
    "            yield from flatten_tuple(item)\n",
    "        else:\n",
    "            yield item\n",
    "\n",
    "# Flatten the nested tuple\n",
    "flattened_tuple = tuple(flatten_tuple(nested_tuple))\n",
    "\n",
    "# Print the flattened tuple\n",
    "print(\"Flattened Tuple:\", flattened_tuple)\n"
   ]
  },
  {
   "cell_type": "markdown",
   "id": "c69bd04d-bb7d-428e-9492-660204ce4c91",
   "metadata": {},
   "source": [
    "32. Create a tuple of the first 5 prime numbers."
   ]
  },
  {
   "cell_type": "code",
   "execution_count": 136,
   "id": "35bd4b42-27eb-4e6f-9511-f13dff83b730",
   "metadata": {},
   "outputs": [
    {
     "name": "stdout",
     "output_type": "stream",
     "text": [
      "Tuple of the First 5 Prime Numbers: (2, 3, 5, 7, 11)\n"
     ]
    }
   ],
   "source": [
    "# Function to check if a number is prime\n",
    "def is_prime(number):\n",
    "    if number <= 1:\n",
    "        return False\n",
    "    for i in range(2, int(number ** 0.5) + 1):\n",
    "        if number % i == 0:\n",
    "            return False\n",
    "    return True\n",
    "\n",
    "# Generate the first 5 prime numbers\n",
    "prime_numbers = []\n",
    "number = 2  # Start from 2, the first prime number\n",
    "\n",
    "while len(prime_numbers) < 5:\n",
    "    if is_prime(number):\n",
    "        prime_numbers.append(number)\n",
    "    number += 1\n",
    "\n",
    "# Convert the list of prime numbers to a tuple\n",
    "prime_tuple = tuple(prime_numbers)\n",
    "\n",
    "# Print the tuple of prime numbers\n",
    "print(\"Tuple of the First 5 Prime Numbers:\", prime_tuple)\n"
   ]
  },
  {
   "cell_type": "markdown",
   "id": "031cfc3d-9c30-4df6-ba79-a4d2f4870690",
   "metadata": {},
   "source": [
    "33. Check if a tuple is a palindrome."
   ]
  },
  {
   "cell_type": "code",
   "execution_count": 137,
   "id": "04e62f93-e142-469b-91bb-044831c0e4e4",
   "metadata": {},
   "outputs": [
    {
     "name": "stdout",
     "output_type": "stream",
     "text": [
      "The tuple is a palindrome.\n"
     ]
    }
   ],
   "source": [
    "# Function to check if a tuple is a palindrome\n",
    "def is_palindrome(tuple_to_check):\n",
    "    return tuple_to_check == tuple_to_check[::-1]\n",
    "\n",
    "# Create a tuple to check\n",
    "palindrome_tuple = (1, 2, 3, 2, 1)\n",
    "\n",
    "# Check if the tuple is a palindrome\n",
    "result = is_palindrome(palindrome_tuple)\n",
    "\n",
    "# Print the result\n",
    "if result:\n",
    "    print(\"The tuple is a palindrome.\")\n",
    "else:\n",
    "    print(\"The tuple is not a palindrome.\")\n"
   ]
  },
  {
   "cell_type": "markdown",
   "id": "ea134150-cea7-4c10-b838-1504ba1f4b7d",
   "metadata": {},
   "source": [
    "34. Create a tuple of squares of numbers from 1 to 5."
   ]
  },
  {
   "cell_type": "code",
   "execution_count": 138,
   "id": "4d4f4d9f-e2ac-4d61-a372-6fd728f7d673",
   "metadata": {},
   "outputs": [
    {
     "name": "stdout",
     "output_type": "stream",
     "text": [
      "Tuple of Squares: (1, 4, 9, 16, 25)\n"
     ]
    }
   ],
   "source": [
    "# Create a tuple of squares of numbers from 1 to 5 using a tuple comprehension\n",
    "squares_tuple = tuple(x ** 2 for x in range(1, 6))\n",
    "\n",
    "# Print the tuple of squares\n",
    "print(\"Tuple of Squares:\", squares_tuple)\n"
   ]
  },
  {
   "cell_type": "markdown",
   "id": "98115533-f680-4e19-b9e4-32f55cd061f8",
   "metadata": {},
   "source": [
    "35. Filter out all even numbers from a tuple."
   ]
  },
  {
   "cell_type": "code",
   "execution_count": 139,
   "id": "ef2fcd98-e149-4c58-97c2-30223eb5addc",
   "metadata": {},
   "outputs": [
    {
     "name": "stdout",
     "output_type": "stream",
     "text": [
      "Tuple of Squares: (1, 4, 9, 16, 25)\n"
     ]
    }
   ],
   "source": [
    "# Create a tuple of squares of numbers from 1 to 5 using a tuple comprehension\n",
    "squares_tuple = tuple(x ** 2 for x in range(1, 6))\n",
    "\n",
    "# Print the tuple of squares\n",
    "print(\"Tuple of Squares:\", squares_tuple)\n"
   ]
  },
  {
   "cell_type": "markdown",
   "id": "a7b04ff5-7fad-4f4f-82eb-bc5abe62bfdc",
   "metadata": {},
   "source": [
    "36. Multiply all elements in a tuple by 2."
   ]
  },
  {
   "cell_type": "code",
   "execution_count": 140,
   "id": "3b49e9af-08d1-4edd-9b63-08247970e491",
   "metadata": {},
   "outputs": [
    {
     "name": "stdout",
     "output_type": "stream",
     "text": [
      "Original Tuple: (1, 2, 3, 4, 5)\n",
      "Doubled Tuple: (2, 4, 6, 8, 10)\n"
     ]
    }
   ],
   "source": [
    "# Create a tuple\n",
    "original_tuple = (1, 2, 3, 4, 5)\n",
    "\n",
    "# Displaying the original Tuple\n",
    "print(\"Original Tuple:\", original_tuple)\n",
    "\n",
    "# Multiply all elements by 2 and create a new tuple\n",
    "doubled_tuple = tuple(x * 2 for x in original_tuple)\n",
    "\n",
    "# Print the new tuple\n",
    "print(\"Doubled Tuple:\", doubled_tuple)\n"
   ]
  },
  {
   "cell_type": "markdown",
   "id": "7bec771a-b812-4375-8b17-2ae6fee2ebbd",
   "metadata": {},
   "source": [
    "37. Create a tuple of random numbers."
   ]
  },
  {
   "cell_type": "code",
   "execution_count": 141,
   "id": "7d384e08-2977-4694-9fb9-fce3355b4b51",
   "metadata": {},
   "outputs": [
    {
     "name": "stdout",
     "output_type": "stream",
     "text": [
      "Random Tuple: (61, 3, 65, 83, 1)\n"
     ]
    }
   ],
   "source": [
    "import random\n",
    "\n",
    "# Create a tuple of random integers between 1 and 100\n",
    "random_tuple = tuple(random.randint(1, 100) for _ in range(5))\n",
    "\n",
    "# Print the tuple of random numbers\n",
    "print(\"Random Tuple:\", random_tuple)\n"
   ]
  },
  {
   "cell_type": "markdown",
   "id": "6c6e56a4-f16f-4ae7-a416-dc50d999b6d8",
   "metadata": {},
   "source": [
    "38. Check if a tuple is sorted."
   ]
  },
  {
   "cell_type": "code",
   "execution_count": 142,
   "id": "f1970c62-b7a2-4dd1-aeea-7dd548857595",
   "metadata": {},
   "outputs": [
    {
     "name": "stdout",
     "output_type": "stream",
     "text": [
      "Original Tuple: (1, 2, 3, 4, 5)\n",
      "The tuple is sorted in ascending order.\n"
     ]
    }
   ],
   "source": [
    "# Function to check if a tuple is sorted in ascending order\n",
    "def is_sorted(t):\n",
    "    return t == tuple(sorted(t))\n",
    "\n",
    "# Create a tuple to check\n",
    "sorted_tuple = (1, 2, 3, 4, 5)\n",
    "\n",
    "# Displaying the original tuple\n",
    "print(\"Original Tuple:\", sorted_tuple)\n",
    "\n",
    "# Check if the tuple is sorted\n",
    "result = is_sorted(sorted_tuple)\n",
    "\n",
    "# Print the result\n",
    "if result:\n",
    "    print(\"The tuple is sorted in ascending order.\")\n",
    "else:\n",
    "    print(\"The tuple is not sorted in ascending order.\")\n"
   ]
  },
  {
   "cell_type": "markdown",
   "id": "1f2b1403-fc0e-4774-adec-78cf5c08270f",
   "metadata": {},
   "source": [
    "39. Rotate a tuple to the left by `n` positions."
   ]
  },
  {
   "cell_type": "code",
   "execution_count": 143,
   "id": "c7e17675-02e4-4657-a208-b81bf3b4b8ed",
   "metadata": {},
   "outputs": [
    {
     "name": "stdout",
     "output_type": "stream",
     "text": [
      "Original Tuple: (1, 2, 3, 4, 5)\n",
      "Rotated Tuple: (3, 4, 5, 1, 2)\n"
     ]
    }
   ],
   "source": [
    "# Function to rotate a tuple to the left by n positions\n",
    "def rotate_left(tuple_to_rotate, n):\n",
    "    n = n % len(tuple_to_rotate)  # Ensure n is within the tuple length\n",
    "    return tuple_to_rotate[n:] + tuple_to_rotate[:n]\n",
    "\n",
    "# Create a tuple\n",
    "original_tuple = (1, 2, 3, 4, 5)\n",
    "\n",
    "# Displaying the original tuple\n",
    "print(\"Original Tuple:\", original_tuple)\n",
    "\n",
    "# Rotate the tuple to the left by 2 positions\n",
    "rotated_tuple = rotate_left(original_tuple, 2)\n",
    "\n",
    "# Print the rotated tuple\n",
    "print(\"Rotated Tuple:\", rotated_tuple)\n"
   ]
  },
  {
   "cell_type": "markdown",
   "id": "86a1cd62-1d19-4874-9da0-2fc93761b6f8",
   "metadata": {},
   "source": [
    "40. Rotate a tuple to the right by `n` positions."
   ]
  },
  {
   "cell_type": "code",
   "execution_count": 144,
   "id": "cd8445a5-d67f-40e1-9b71-ef546f2fb35a",
   "metadata": {},
   "outputs": [
    {
     "name": "stdout",
     "output_type": "stream",
     "text": [
      "Original Tuple: (1, 2, 3, 4, 5)\n",
      "Rotated Tuple: (4, 5, 1, 2, 3)\n"
     ]
    }
   ],
   "source": [
    "# Function to rotate a tuple to the right by n positions\n",
    "def rotate_right(tuple_to_rotate, n):\n",
    "    n = n % len(tuple_to_rotate)  # Ensure n is within the tuple length\n",
    "    return tuple_to_rotate[-n:] + tuple_to_rotate[:-n]\n",
    "\n",
    "# Create a tuple\n",
    "original_tuple = (1, 2, 3, 4, 5)\n",
    "\n",
    "# Displaying the original tuple\n",
    "print(\"Original Tuple:\", original_tuple)\n",
    "\n",
    "# Rotate the tuple to the right by 2 positions\n",
    "rotated_tuple = rotate_right(original_tuple, 2)\n",
    "\n",
    "# Print the rotated tuple\n",
    "print(\"Rotated Tuple:\", rotated_tuple)\n"
   ]
  },
  {
   "cell_type": "markdown",
   "id": "1b29834f-da86-4752-b4a9-5a81c17599d8",
   "metadata": {},
   "source": [
    "41. Create a tuple of the first 5 Fibonacci numbers."
   ]
  },
  {
   "cell_type": "code",
   "execution_count": 145,
   "id": "48eeb92e-b6a9-4062-bcb5-3ecc4d1d51f6",
   "metadata": {},
   "outputs": [
    {
     "name": "stdout",
     "output_type": "stream",
     "text": [
      "Tuple of the First 5 Fibonacci Numbers: (0, 1, 1, 2, 3)\n"
     ]
    }
   ],
   "source": [
    "# Function to generate the first n Fibonacci numbers\n",
    "def generate_fibonacci(n):\n",
    "    fibonacci_sequence = []\n",
    "    a, b = 0, 1\n",
    "    for _ in range(n):\n",
    "        fibonacci_sequence.append(a)\n",
    "        a, b = b, a + b\n",
    "    return tuple(fibonacci_sequence)\n",
    "\n",
    "# Create a tuple of the first 5 Fibonacci numbers\n",
    "fibonacci_tuple = generate_fibonacci(5)\n",
    "\n",
    "# Print the tuple of Fibonacci numbers\n",
    "print(\"Tuple of the First 5 Fibonacci Numbers:\", fibonacci_tuple)\n"
   ]
  },
  {
   "cell_type": "markdown",
   "id": "e8ffc885-247c-4b5b-abef-350c9edfc051",
   "metadata": {},
   "source": [
    "42. Create a tuple from user input."
   ]
  },
  {
   "cell_type": "code",
   "execution_count": 146,
   "id": "67f9ab62-6d66-485a-8dc9-d28122990f93",
   "metadata": {},
   "outputs": [
    {
     "name": "stdin",
     "output_type": "stream",
     "text": [
      "Enter values separated by commas:  1,22,333,4444,55555\n"
     ]
    },
    {
     "name": "stdout",
     "output_type": "stream",
     "text": [
      "User Tuple: ('1', '22', '333', '4444', '55555')\n"
     ]
    }
   ],
   "source": [
    "# Get user input as a comma-separated string\n",
    "user_input = input(\"Enter values separated by commas: \")\n",
    "\n",
    "# Split the input string into a list of values\n",
    "input_list = user_input.split(',')\n",
    "\n",
    "# Remove leading and trailing whitespace from each value and convert to a tuple\n",
    "user_tuple = tuple(value.strip() for value in input_list)\n",
    "\n",
    "# Print the resulting tuple\n",
    "print(\"User Tuple:\", user_tuple)\n"
   ]
  },
  {
   "cell_type": "markdown",
   "id": "925cb357-19c6-4e5b-a8f3-b4d35a13b7d3",
   "metadata": {},
   "source": [
    "43. Swap two elements in a tuple."
   ]
  },
  {
   "cell_type": "code",
   "execution_count": 147,
   "id": "23371e49-f931-4bdb-8489-2772753c7a89",
   "metadata": {},
   "outputs": [
    {
     "name": "stdout",
     "output_type": "stream",
     "text": [
      "Original Tuple: (1, 2, 3, 4, 5)\n",
      "Swapped Tuple: (1, 4, 3, 2, 5)\n"
     ]
    }
   ],
   "source": [
    "# Create a tuple\n",
    "original_tuple = (1, 2, 3, 4, 5)\n",
    "\n",
    "# Define the indices of the elements to swap\n",
    "index1 = 1\n",
    "index2 = 3\n",
    "\n",
    "# Convert the tuple to a list to perform the swap\n",
    "tuple_list = list(original_tuple)\n",
    "\n",
    "# Swap the elements\n",
    "tuple_list[index1], tuple_list[index2] = tuple_list[index2], tuple_list[index1]\n",
    "\n",
    "# Convert the list back to a tuple\n",
    "swapped_tuple = tuple(tuple_list)\n",
    "\n",
    "# Displaying the original tuple\n",
    "print(\"Original Tuple:\", original_tuple)\n",
    "\n",
    "# Print the swapped tuple\n",
    "print(\"Swapped Tuple:\", swapped_tuple)\n"
   ]
  },
  {
   "cell_type": "markdown",
   "id": "bdbd7bf7-4705-419a-b01e-d0ede7b066a1",
   "metadata": {},
   "source": [
    "44. Reverse the elements of a tuple."
   ]
  },
  {
   "cell_type": "code",
   "execution_count": 148,
   "id": "693c998c-cb85-4772-a1a0-fc702f41d4c8",
   "metadata": {},
   "outputs": [
    {
     "name": "stdout",
     "output_type": "stream",
     "text": [
      "Original Tuple: (1, 2, 3, 4, 5)\n",
      "Reversed Tuple: (5, 4, 3, 2, 1)\n"
     ]
    }
   ],
   "source": [
    "# Create a tuple\n",
    "original_tuple = (1, 2, 3, 4, 5)\n",
    "\n",
    "# Displaying the original tuple\n",
    "print(\"Original Tuple:\", original_tuple)\n",
    "\n",
    "# Reverse the elements and create a new tuple\n",
    "reversed_tuple = tuple(reversed(original_tuple))\n",
    "\n",
    "# Print the reversed tuple\n",
    "print(\"Reversed Tuple:\", reversed_tuple)\n"
   ]
  },
  {
   "cell_type": "markdown",
   "id": "27038b7e-3fbb-4e5c-a7ae-5a723afd2153",
   "metadata": {},
   "source": [
    "45. Create a tuple of the first `n` powers of 2."
   ]
  },
  {
   "cell_type": "code",
   "execution_count": 149,
   "id": "1ade76a4-6fe5-42b8-97ec-df9ccf499070",
   "metadata": {},
   "outputs": [
    {
     "name": "stdout",
     "output_type": "stream",
     "text": [
      "Tuple of the First 5 Powers of 2: (1, 2, 4, 8, 16)\n"
     ]
    }
   ],
   "source": [
    "# Function to generate the first n powers of 2\n",
    "def generate_powers_of_2(n):\n",
    "    return tuple(2 ** i for i in range(n))\n",
    "\n",
    "# Specify the number of powers you want (e.g., first 5 powers)\n",
    "n = 5\n",
    "\n",
    "# Create a tuple of the first n powers of 2\n",
    "powers_of_2_tuple = generate_powers_of_2(n)\n",
    "\n",
    "# Print the tuple of powers\n",
    "print(\"Tuple of the First\", n, \"Powers of 2:\", powers_of_2_tuple)\n"
   ]
  },
  {
   "cell_type": "markdown",
   "id": "16d4b212-10c8-4b66-99cc-30a000f179f5",
   "metadata": {},
   "source": [
    "46. Find the longest string in a tuple of strings."
   ]
  },
  {
   "cell_type": "code",
   "execution_count": 150,
   "id": "49be8b68-8a46-4995-8fa8-1479d862f1ba",
   "metadata": {},
   "outputs": [
    {
     "name": "stdout",
     "output_type": "stream",
     "text": [
      "Original Tuple: ('apple', 'banana', 'cherry', 'date', 'elderberry')\n",
      "Longest String: elderberry\n"
     ]
    }
   ],
   "source": [
    "# Create a tuple of strings\n",
    "string_tuple = (\"apple\", \"banana\", \"cherry\", \"date\", \"elderberry\")\n",
    "\n",
    "# Displaying the original tuple\n",
    "print(\"Original Tuple:\", string_tuple)\n",
    "\n",
    "# Initialize a variable to store the longest string\n",
    "longest_string = \"\"\n",
    "\n",
    "# Iterate through the tuple to find the longest string\n",
    "for string in string_tuple:\n",
    "    if len(string) > len(longest_string):\n",
    "        longest_string = string\n",
    "\n",
    "# Print the longest string\n",
    "print(\"Longest String:\", longest_string)\n"
   ]
  },
  {
   "cell_type": "markdown",
   "id": "6997ef17-11ac-4b49-b3eb-808634bd4e46",
   "metadata": {},
   "source": [
    "47. Find the shortest string in a tuple of strings."
   ]
  },
  {
   "cell_type": "code",
   "execution_count": 151,
   "id": "5d9fe126-da0d-48d0-80dd-a42cadd690a8",
   "metadata": {},
   "outputs": [
    {
     "name": "stdout",
     "output_type": "stream",
     "text": [
      "Original Tuple: ('apple', 'banana', 'cherry', 'date', 'elderberry')\n",
      "Shortest String: date\n"
     ]
    }
   ],
   "source": [
    "# Create a tuple of strings\n",
    "string_tuple = (\"apple\", \"banana\", \"cherry\", \"date\", \"elderberry\")\n",
    "\n",
    "# Displaying the original tuple\n",
    "print(\"Original Tuple:\", string_tuple)\n",
    "\n",
    "# Initialize a variable to store the shortest string\n",
    "shortest_string = None\n",
    "\n",
    "# Iterate through the tuple to find the shortest string\n",
    "for string in string_tuple:\n",
    "    if shortest_string is None or len(string) < len(shortest_string):\n",
    "        shortest_string = string\n",
    "\n",
    "# Print the shortest string\n",
    "print(\"Shortest String:\", shortest_string)\n"
   ]
  },
  {
   "cell_type": "markdown",
   "id": "2826b652-bb7d-4469-beca-ac8545e1627a",
   "metadata": {},
   "source": [
    "48. Create a tuple of the first `n` triangular numbers."
   ]
  },
  {
   "cell_type": "code",
   "execution_count": 152,
   "id": "22bcf3b8-f9c7-4b8b-a571-67bd7ba5853e",
   "metadata": {},
   "outputs": [
    {
     "name": "stdout",
     "output_type": "stream",
     "text": [
      "Tuple of the First 5 Triangular Numbers: (1, 3, 6, 10, 15)\n"
     ]
    }
   ],
   "source": [
    "# Function to generate the first n triangular numbers\n",
    "def generate_triangular_numbers(n):\n",
    "    triangular_numbers = []\n",
    "    total = 0\n",
    "    for i in range(1, n + 1):\n",
    "        total += i\n",
    "        triangular_numbers.append(total)\n",
    "    return tuple(triangular_numbers)\n",
    "\n",
    "# Specify the number of triangular numbers you want (e.g., first 5)\n",
    "n = 5\n",
    "\n",
    "# Create a tuple of the first n triangular numbers\n",
    "triangular_numbers_tuple = generate_triangular_numbers(n)\n",
    "\n",
    "# Print the tuple of triangular numbers\n",
    "print(\"Tuple of the First\", n, \"Triangular Numbers:\", triangular_numbers_tuple)\n"
   ]
  },
  {
   "cell_type": "markdown",
   "id": "9fb96af0-56a7-4eb9-a325-1df0eba2349d",
   "metadata": {},
   "source": [
    "49. Check if a tuple contains another tuple as a subsequence."
   ]
  },
  {
   "cell_type": "code",
   "execution_count": 153,
   "id": "6161a306-3d5e-4c46-b873-63d48d87503e",
   "metadata": {},
   "outputs": [
    {
     "name": "stdout",
     "output_type": "stream",
     "text": [
      "sub_tuple is a subsequence of main_tuple.\n"
     ]
    }
   ],
   "source": [
    "# Function to check if a tuple contains another tuple as a subsequence\n",
    "def contains_subsequence(main_tuple, sub_tuple):\n",
    "    # Initialize variables to track indices\n",
    "    main_index = 0\n",
    "    sub_index = 0\n",
    "    \n",
    "    # Iterate through the main tuple\n",
    "    while main_index < len(main_tuple):\n",
    "        # If the current element matches the subsequence\n",
    "        if main_tuple[main_index] == sub_tuple[sub_index]:\n",
    "            sub_index += 1\n",
    "            # If we've matched all elements of the subsequence, it's a subsequence\n",
    "            if sub_index == len(sub_tuple):\n",
    "                return True\n",
    "        main_index += 1\n",
    "    \n",
    "    # If we reach the end of the main tuple and haven't found the subsequence\n",
    "    return False\n",
    "\n",
    "# Example tuples\n",
    "main_tuple = (1, 2, 3, 4, 5, 6, 7)\n",
    "sub_tuple = (3, 4, 5)\n",
    "\n",
    "# Check if sub_tuple is a subsequence of main_tuple\n",
    "result = contains_subsequence(main_tuple, sub_tuple)\n",
    "\n",
    "# Print the result\n",
    "if result:\n",
    "    print(\"sub_tuple is a subsequence of main_tuple.\")\n",
    "else:\n",
    "    print(\"sub_tuple is not a subsequence of main_tuple.\")\n"
   ]
  },
  {
   "cell_type": "markdown",
   "id": "824876f9-6da1-4922-8115-dcaa69af4785",
   "metadata": {},
   "source": [
    "50. Create a tuple of alternating 1s and 0s of length `n`."
   ]
  },
  {
   "cell_type": "code",
   "execution_count": 154,
   "id": "71fa8a90-078b-4d95-97ce-38384c6690b8",
   "metadata": {},
   "outputs": [
    {
     "name": "stdout",
     "output_type": "stream",
     "text": [
      "Tuple of Alternating 1s and 0s of Length 10 : (1, 0, 1, 0, 1, 0, 1, 0, 1, 0)\n"
     ]
    }
   ],
   "source": [
    "# Function to create a tuple of alternating 1s and 0s\n",
    "def create_alternating_tuple(n):\n",
    "    return tuple(1 if i % 2 == 0 else 0 for i in range(n))\n",
    "\n",
    "# Specify the length of the tuple (e.g., n = 10)\n",
    "n = 10\n",
    "\n",
    "# Create a tuple of alternating 1s and 0s\n",
    "alternating_tuple = create_alternating_tuple(n)\n",
    "\n",
    "# Print the tuple\n",
    "print(\"Tuple of Alternating 1s and 0s of Length\", n, \":\", alternating_tuple)\n"
   ]
  },
  {
   "cell_type": "markdown",
   "id": "daba58ed-ece7-485f-9638-a5dc990d541e",
   "metadata": {},
   "source": [
    "# Set Based Practice Problem :"
   ]
  },
  {
   "cell_type": "markdown",
   "id": "fd30dff6-c353-4ee5-a2a4-417899f0fd75",
   "metadata": {},
   "source": [
    "1. Create a set with integers from 1 to 5."
   ]
  },
  {
   "cell_type": "code",
   "execution_count": 155,
   "id": "9ee1ac57-09a2-48b8-b33a-5a0b4f9d3739",
   "metadata": {},
   "outputs": [
    {
     "name": "stdout",
     "output_type": "stream",
     "text": [
      "Set: {1, 2, 3, 4, 5}\n"
     ]
    }
   ],
   "source": [
    "# Create a set with integers from 1 to 5 using curly braces\n",
    "my_set = {1, 2, 3, 4, 5}\n",
    "\n",
    "# Print the set\n",
    "print(\"Set:\", my_set)\n"
   ]
  },
  {
   "cell_type": "markdown",
   "id": "757d241b-b3ed-4dba-915f-07a81cc29e6a",
   "metadata": {},
   "source": [
    "2. Add an element to a set."
   ]
  },
  {
   "cell_type": "code",
   "execution_count": 156,
   "id": "429b1cd6-afc1-45b0-951e-a51fe90e9443",
   "metadata": {},
   "outputs": [
    {
     "name": "stdout",
     "output_type": "stream",
     "text": [
      "Original Set: {1, 2, 3}\n",
      "Updated Set: {1, 2, 3, 4}\n"
     ]
    }
   ],
   "source": [
    "# Create a set\n",
    "my_set = {1, 2, 3}\n",
    "\n",
    "# Displaying Original Set\n",
    "print(\"Original Set:\", my_set)\n",
    "\n",
    "# Add an element to the set using the add() method\n",
    "my_set.add(4)\n",
    "\n",
    "# Print the updated set\n",
    "print(\"Updated Set:\", my_set)\n"
   ]
  },
  {
   "cell_type": "markdown",
   "id": "a5d75cc9-145e-4011-bfb8-fc7e782d471a",
   "metadata": {},
   "source": [
    "3. Remove an element from a set."
   ]
  },
  {
   "cell_type": "code",
   "execution_count": 157,
   "id": "72cdd449-0f9f-4ee9-a03b-40bde1a2b117",
   "metadata": {},
   "outputs": [
    {
     "name": "stdout",
     "output_type": "stream",
     "text": [
      "Original Set: {1, 2, 3, 4, 5}\n",
      "Updated Set: {1, 2, 4, 5}\n"
     ]
    }
   ],
   "source": [
    "# Create a set\n",
    "my_set = {1, 2, 3, 4, 5}\n",
    "\n",
    "# Displaying Original Set\n",
    "print(\"Original Set:\", my_set)\n",
    "\n",
    "# Remove an element from the set using the remove() method\n",
    "my_set.remove(3)\n",
    "\n",
    "# Print the updated set\n",
    "print(\"Updated Set:\", my_set)\n"
   ]
  },
  {
   "cell_type": "markdown",
   "id": "87029735-a518-4470-8921-7498333f3a69",
   "metadata": {},
   "source": [
    "4. Check if an element exists in a set."
   ]
  },
  {
   "cell_type": "code",
   "execution_count": 158,
   "id": "ac30e92e-60a2-4aee-8745-05d08c7ca1a9",
   "metadata": {},
   "outputs": [
    {
     "name": "stdout",
     "output_type": "stream",
     "text": [
      "3 exists in the set.\n"
     ]
    }
   ],
   "source": [
    "# Create a set\n",
    "my_set = {1, 2, 3, 4, 5}\n",
    "\n",
    "# Check if an element exists in the set using the 'in' keyword\n",
    "element_to_check = 3\n",
    "if element_to_check in my_set:\n",
    "    print(f\"{element_to_check} exists in the set.\")\n",
    "else:\n",
    "    print(f\"{element_to_check} does not exist in the set.\")\n"
   ]
  },
  {
   "cell_type": "markdown",
   "id": "1bce3aa3-43af-4f70-93d7-abe3d7bdc195",
   "metadata": {},
   "source": [
    "5. Find the length of a set without using the `len()` function."
   ]
  },
  {
   "cell_type": "code",
   "execution_count": 159,
   "id": "503a624d-8fd3-4b16-becf-fa4fe120038e",
   "metadata": {},
   "outputs": [
    {
     "name": "stdout",
     "output_type": "stream",
     "text": [
      "Length of the Set: 5\n"
     ]
    }
   ],
   "source": [
    "# Create a set\n",
    "my_set = {1, 2, 3, 4, 5}\n",
    "\n",
    "# Initialize a variable to count the elements\n",
    "count = 0\n",
    "\n",
    "# Iterate through the set and count the elements\n",
    "for _ in my_set:\n",
    "    count += 1\n",
    "\n",
    "# Print the length of the set\n",
    "print(\"Length of the Set:\", count)\n"
   ]
  },
  {
   "cell_type": "markdown",
   "id": "9357a5e1-f843-4b2c-a099-25683e8aedc1",
   "metadata": {},
   "source": [
    "6. Clear all elements from a set."
   ]
  },
  {
   "cell_type": "code",
   "execution_count": 160,
   "id": "5a5cad52-46f2-4f23-a031-1e63dfbf51bc",
   "metadata": {},
   "outputs": [
    {
     "name": "stdout",
     "output_type": "stream",
     "text": [
      "Cleared Set: set()\n"
     ]
    }
   ],
   "source": [
    "# Create a set\n",
    "my_set = {1, 2, 3, 4, 5}\n",
    "\n",
    "# Clear all elements from the set using the clear() method\n",
    "my_set.clear()\n",
    "\n",
    "# Print the empty set\n",
    "print(\"Cleared Set:\", my_set)\n"
   ]
  },
  {
   "cell_type": "markdown",
   "id": "45e8b344-c217-4474-be78-a7a3ebc778f6",
   "metadata": {},
   "source": [
    "7. Create a set of even numbers from 1 to 10."
   ]
  },
  {
   "cell_type": "code",
   "execution_count": 161,
   "id": "f51a96df-de3a-41b6-a0ed-1cd655afa04b",
   "metadata": {},
   "outputs": [
    {
     "name": "stdout",
     "output_type": "stream",
     "text": [
      "Set of Even Numbers: {2, 4, 6, 8, 10}\n"
     ]
    }
   ],
   "source": [
    "# Create a set of even numbers from 1 to 10 using a set comprehension\n",
    "even_numbers_set = {x for x in range(1, 11) if x % 2 == 0}\n",
    "\n",
    "# Print the set\n",
    "print(\"Set of Even Numbers:\", even_numbers_set)\n"
   ]
  },
  {
   "cell_type": "markdown",
   "id": "aea4db7d-7c74-4c8b-9915-634dfb3e2b24",
   "metadata": {},
   "source": [
    "8. Create a set of odd numbers from 1 to 10."
   ]
  },
  {
   "cell_type": "code",
   "execution_count": 162,
   "id": "a6ccad1b-3c7b-4e88-8e64-39d573e166ec",
   "metadata": {},
   "outputs": [
    {
     "name": "stdout",
     "output_type": "stream",
     "text": [
      "Set of Odd Numbers: {1, 3, 5, 7, 9}\n"
     ]
    }
   ],
   "source": [
    "# Create a set of odd numbers from 1 to 10 using a set comprehension\n",
    "odd_numbers_set = {x for x in range(1, 11) if x % 2 != 0}\n",
    "\n",
    "# Print the set\n",
    "print(\"Set of Odd Numbers:\", odd_numbers_set)\n"
   ]
  },
  {
   "cell_type": "markdown",
   "id": "09dbe44a-bbcf-4b80-b5ac-8a11f3c3733f",
   "metadata": {},
   "source": [
    "9. Find the union of two sets."
   ]
  },
  {
   "cell_type": "code",
   "execution_count": 163,
   "id": "94483488-95d0-4fe4-9a4c-bf42d6cb36ab",
   "metadata": {},
   "outputs": [
    {
     "name": "stdout",
     "output_type": "stream",
     "text": [
      "Union of set1 and set2: {1, 2, 3, 4, 5, 6}\n"
     ]
    }
   ],
   "source": [
    "# Create two sets\n",
    "set1 = {1, 2, 3, 4}\n",
    "set2 = {3, 4, 5, 6}\n",
    "\n",
    "# Find the union of the two sets using the union() method\n",
    "union_set = set1.union(set2)\n",
    "\n",
    "# Print the union set\n",
    "print(\"Union of set1 and set2:\", union_set)\n"
   ]
  },
  {
   "cell_type": "markdown",
   "id": "641efb33-2f20-4948-badc-5213c50b1e5a",
   "metadata": {},
   "source": [
    "10. Find the intersection of two sets."
   ]
  },
  {
   "cell_type": "code",
   "execution_count": 164,
   "id": "728bf24f-77f9-4805-80f5-21e87c6958f5",
   "metadata": {},
   "outputs": [
    {
     "name": "stdout",
     "output_type": "stream",
     "text": [
      "Intersection of set1 and set2: {3, 4}\n"
     ]
    }
   ],
   "source": [
    "# Create two sets\n",
    "set1 = {1, 2, 3, 4}\n",
    "set2 = {3, 4, 5, 6}\n",
    "\n",
    "# Find the intersection of the two sets using the intersection() method\n",
    "intersection_set = set1.intersection(set2)\n",
    "\n",
    "# Print the intersection set\n",
    "print(\"Intersection of set1 and set2:\", intersection_set)\n"
   ]
  },
  {
   "cell_type": "markdown",
   "id": "95c602db-f265-44e2-92d7-8d0bc6826b58",
   "metadata": {},
   "source": [
    "11. Find the difference between two sets."
   ]
  },
  {
   "cell_type": "code",
   "execution_count": 165,
   "id": "60731b0a-6c1f-492a-a6a1-abe951210e61",
   "metadata": {},
   "outputs": [
    {
     "name": "stdout",
     "output_type": "stream",
     "text": [
      "Difference between set1 and set2: {1, 2}\n"
     ]
    }
   ],
   "source": [
    "# Create two sets\n",
    "set1 = {1, 2, 3, 4}\n",
    "set2 = {3, 4, 5, 6}\n",
    "\n",
    "# Find the difference between set1 and set2 using the difference() method\n",
    "difference_set = set1.difference(set2)\n",
    "\n",
    "# Print the difference set\n",
    "print(\"Difference between set1 and set2:\", difference_set)\n"
   ]
  },
  {
   "cell_type": "markdown",
   "id": "ea3084cd-1c7b-4517-9865-053c1b8d3825",
   "metadata": {},
   "source": [
    "12. Check if a set is a subset of another set."
   ]
  },
  {
   "cell_type": "code",
   "execution_count": 166,
   "id": "dc7b6d74-62c7-421e-9b09-38656cd9196e",
   "metadata": {},
   "outputs": [
    {
     "name": "stdout",
     "output_type": "stream",
     "text": [
      "set1 is a subset of set2.\n"
     ]
    }
   ],
   "source": [
    "# Create two sets\n",
    "set1 = {1, 2, 3}\n",
    "set2 = {1, 2, 3, 4, 5}\n",
    "\n",
    "# Check if set1 is a subset of set2 using the issubset() method\n",
    "is_subset = set1.issubset(set2)\n",
    "\n",
    "# Print the result\n",
    "if is_subset:\n",
    "    print(\"set1 is a subset of set2.\")\n",
    "else:\n",
    "    print(\"set1 is not a subset of set2.\")\n"
   ]
  },
  {
   "cell_type": "markdown",
   "id": "f6f1c104-36b7-420a-9c7b-de5b85b4826f",
   "metadata": {},
   "source": [
    "13. Check if a set is a superset of another set."
   ]
  },
  {
   "cell_type": "code",
   "execution_count": 167,
   "id": "9da7605f-4e91-4eca-ad81-db40c1e1a0a8",
   "metadata": {},
   "outputs": [
    {
     "name": "stdout",
     "output_type": "stream",
     "text": [
      "set1 is a superset of set2.\n"
     ]
    }
   ],
   "source": [
    "# Create two sets\n",
    "set1 = {1, 2, 3, 4, 5}\n",
    "set2 = {1, 2, 3}\n",
    "\n",
    "# Check if set1 is a superset of set2 using the issuperset() method\n",
    "is_superset = set1.issuperset(set2)\n",
    "\n",
    "# Print the result\n",
    "if is_superset:\n",
    "    print(\"set1 is a superset of set2.\")\n",
    "else:\n",
    "    print(\"set1 is not a superset of set2.\")\n"
   ]
  },
  {
   "cell_type": "markdown",
   "id": "2a17aa8a-6f72-4d86-bc2e-397fdb8cca2f",
   "metadata": {},
   "source": [
    "14. Create a set from a list."
   ]
  },
  {
   "cell_type": "code",
   "execution_count": 168,
   "id": "220604a0-5eae-42ab-9d51-4832dc9668cc",
   "metadata": {},
   "outputs": [
    {
     "name": "stdout",
     "output_type": "stream",
     "text": [
      "Set from List: {1, 2, 3, 4, 5}\n"
     ]
    }
   ],
   "source": [
    "# Create a list\n",
    "my_list = [1, 2, 3, 4, 5]\n",
    "\n",
    "# Create a set from the list using the set() constructor\n",
    "my_set = set(my_list)\n",
    "\n",
    "# Print the set\n",
    "print(\"Set from List:\", my_set)\n"
   ]
  },
  {
   "cell_type": "markdown",
   "id": "1de0df01-7da2-4d3f-8d1d-07dc6f0601b1",
   "metadata": {},
   "source": [
    "15. Convert a set to a list."
   ]
  },
  {
   "cell_type": "code",
   "execution_count": 169,
   "id": "a2518225-62ec-4804-8727-cacda83e0a5d",
   "metadata": {},
   "outputs": [
    {
     "name": "stdout",
     "output_type": "stream",
     "text": [
      "List from Set: [1, 2, 3, 4, 5]\n"
     ]
    }
   ],
   "source": [
    "# Create a set\n",
    "my_set = {1, 2, 3, 4, 5}\n",
    "\n",
    "# Convert the set to a list using the list() constructor\n",
    "my_list = list(my_set)\n",
    "\n",
    "# Print the list\n",
    "print(\"List from Set:\", my_list)\n"
   ]
  },
  {
   "cell_type": "markdown",
   "id": "88fe1b85-ba86-4080-b97f-462e8b871081",
   "metadata": {},
   "source": [
    "16. Remove a random element from a set."
   ]
  },
  {
   "cell_type": "code",
   "execution_count": 170,
   "id": "30c04cc1-b2ad-477a-97e7-3f7b92d5c862",
   "metadata": {},
   "outputs": [
    {
     "name": "stdout",
     "output_type": "stream",
     "text": [
      "Removed random element 1 from the set.\n",
      "Updated Set: {2, 3, 4, 5}\n"
     ]
    }
   ],
   "source": [
    "import random\n",
    "\n",
    "# Create a set\n",
    "my_set = {1, 2, 3, 4, 5}\n",
    "\n",
    "# Generate a random index to remove\n",
    "random_index = random.randint(0, len(my_set) - 1)\n",
    "\n",
    "# Remove a random element from the set using pop()\n",
    "if len(my_set) > 0:\n",
    "    random_element = my_set.pop()\n",
    "    print(f\"Removed random element {random_element} from the set.\")\n",
    "else:\n",
    "    print(\"The set is empty, so no element can be removed.\")\n",
    "\n",
    "# Print the updated set\n",
    "print(\"Updated Set:\", my_set)\n"
   ]
  },
  {
   "cell_type": "markdown",
   "id": "b0a4cf39-cf13-43c3-9b16-93b5becc2adf",
   "metadata": {},
   "source": [
    "17. Pop an element from a set."
   ]
  },
  {
   "cell_type": "code",
   "execution_count": 171,
   "id": "96dba607-b1d3-4e7a-917f-7742368f6fb8",
   "metadata": {},
   "outputs": [
    {
     "name": "stdout",
     "output_type": "stream",
     "text": [
      "Removed element 1 from the set.\n",
      "Updated Set: {2, 3, 4, 5}\n"
     ]
    }
   ],
   "source": [
    "# Create a set\n",
    "my_set = {1, 2, 3, 4, 5}\n",
    "\n",
    "# Remove and return an arbitrary element from the set using pop()\n",
    "if len(my_set) > 0:\n",
    "    popped_element = my_set.pop()\n",
    "    print(f\"Removed element {popped_element} from the set.\")\n",
    "else:\n",
    "    print(\"The set is empty, so no element can be removed.\")\n",
    "\n",
    "# Print the updated set\n",
    "print(\"Updated Set:\", my_set)\n"
   ]
  },
  {
   "cell_type": "markdown",
   "id": "fb1899c0-8f68-460a-866b-c17ce2194370",
   "metadata": {},
   "source": [
    "18. Check if two sets have no elements in common."
   ]
  },
  {
   "cell_type": "code",
   "execution_count": 172,
   "id": "17ee4ad5-ad7c-48b0-856d-3652f78f8219",
   "metadata": {},
   "outputs": [
    {
     "name": "stdout",
     "output_type": "stream",
     "text": [
      "The sets have no elements in common.\n"
     ]
    }
   ],
   "source": [
    "# Create two sets\n",
    "set1 = {1, 2, 3}\n",
    "set2 = {4, 5, 6}\n",
    "\n",
    "# Check if the two sets have no elements in common using isdisjoint()\n",
    "if set1.isdisjoint(set2):\n",
    "    print(\"The sets have no elements in common.\")\n",
    "else:\n",
    "    print(\"The sets have at least one element in common.\")\n"
   ]
  },
  {
   "cell_type": "markdown",
   "id": "375633c8-7650-4442-8e5d-3c969871d505",
   "metadata": {},
   "source": [
    "19. Find the symmetric difference between two sets."
   ]
  },
  {
   "cell_type": "code",
   "execution_count": 173,
   "id": "d6f38dbe-96db-469c-bc45-f76758b6a3b7",
   "metadata": {},
   "outputs": [
    {
     "name": "stdout",
     "output_type": "stream",
     "text": [
      "Symmetric Difference between set1 and set2: {1, 2, 5, 6}\n"
     ]
    }
   ],
   "source": [
    "# Create two sets\n",
    "set1 = {1, 2, 3, 4}\n",
    "set2 = {3, 4, 5, 6}\n",
    "\n",
    "# Find the symmetric difference between set1 and set2 using the symmetric_difference() method\n",
    "symmetric_diff_set = set1.symmetric_difference(set2)\n",
    "\n",
    "# Print the symmetric difference set\n",
    "print(\"Symmetric Difference between set1 and set2:\", symmetric_diff_set)\n"
   ]
  },
  {
   "cell_type": "markdown",
   "id": "bffb2ea2-9411-40af-984b-2c20ff2a8bab",
   "metadata": {},
   "source": [
    "20. Update a set with elements from another set."
   ]
  },
  {
   "cell_type": "code",
   "execution_count": 174,
   "id": "1fa369e7-94af-46fd-aeed-b9b01f29a830",
   "metadata": {},
   "outputs": [
    {
     "name": "stdout",
     "output_type": "stream",
     "text": [
      "Updated set1: {1, 2, 3, 4, 5}\n"
     ]
    }
   ],
   "source": [
    "# Create two sets\n",
    "set1 = {1, 2, 3}\n",
    "set2 = {3, 4, 5}\n",
    "\n",
    "# Update set1 with elements from set2 using the update() method\n",
    "set1.update(set2)\n",
    "\n",
    "# Print the updated set1\n",
    "print(\"Updated set1:\", set1)\n"
   ]
  },
  {
   "cell_type": "markdown",
   "id": "e49542ff-0b16-4c8b-955f-dadee626380d",
   "metadata": {},
   "source": [
    "21. Create a set of the first 5 prime numbers."
   ]
  },
  {
   "cell_type": "code",
   "execution_count": 175,
   "id": "105de1ac-1284-4c1a-94f5-ceccd396abd4",
   "metadata": {},
   "outputs": [
    {
     "name": "stdout",
     "output_type": "stream",
     "text": [
      "Set of the first 5 prime numbers: {2, 3, 5, 7, 11}\n"
     ]
    }
   ],
   "source": [
    "# Function to check if a number is prime\n",
    "def is_prime(num):\n",
    "    if num <= 1:\n",
    "        return False\n",
    "    if num <= 3:\n",
    "        return True\n",
    "    if num % 2 == 0 or num % 3 == 0:\n",
    "        return False\n",
    "    i = 5\n",
    "    while i * i <= num:\n",
    "        if num % i == 0 or num % (i + 2) == 0:\n",
    "            return False\n",
    "        i += 6\n",
    "    return True\n",
    "\n",
    "# Create a set of the first 5 prime numbers\n",
    "prime_set = set()\n",
    "num = 2  # Start with the first prime number\n",
    "\n",
    "while len(prime_set) < 5:\n",
    "    if is_prime(num):\n",
    "        prime_set.add(num)\n",
    "    num += 1\n",
    "\n",
    "# Print the set of prime numbers\n",
    "print(\"Set of the first 5 prime numbers:\", prime_set)\n"
   ]
  },
  {
   "cell_type": "markdown",
   "id": "ddeb2579-8515-4231-aeb8-db9dfee115a9",
   "metadata": {},
   "source": [
    "22. Check if two sets are identical."
   ]
  },
  {
   "cell_type": "code",
   "execution_count": 176,
   "id": "bf5102a8-014d-4dc1-ada6-eefc1e267aea",
   "metadata": {},
   "outputs": [
    {
     "name": "stdout",
     "output_type": "stream",
     "text": [
      "The sets are identical.\n"
     ]
    }
   ],
   "source": [
    "# Create two sets\n",
    "set1 = {1, 2, 3, 4, 5}\n",
    "set2 = {5, 4, 3, 2, 1}\n",
    "\n",
    "# Check if the two sets are identical using the == operator\n",
    "if set1 == set2:\n",
    "    print(\"The sets are identical.\")\n",
    "else:\n",
    "    print(\"The sets are not identical.\")\n"
   ]
  },
  {
   "cell_type": "markdown",
   "id": "b9a83556-36c6-4343-bb63-8d18375cd1b8",
   "metadata": {},
   "source": [
    "23. Create a frozen set."
   ]
  },
  {
   "cell_type": "code",
   "execution_count": 177,
   "id": "f2dc3cf5-71cc-4827-bddb-d124304e6bc5",
   "metadata": {},
   "outputs": [
    {
     "name": "stdout",
     "output_type": "stream",
     "text": [
      "Frozen Set: frozenset({1, 2, 3, 4, 5})\n"
     ]
    }
   ],
   "source": [
    "# Create a regular set\n",
    "my_set = {1, 2, 3, 4, 5}\n",
    "\n",
    "# Convert the regular set to a frozen set using frozenset()\n",
    "my_frozen_set = frozenset(my_set)\n",
    "\n",
    "# Print the frozen set\n",
    "print(\"Frozen Set:\", my_frozen_set)\n"
   ]
  },
  {
   "cell_type": "markdown",
   "id": "6ed835a7-ab57-4f7e-a8f2-f490c9cd3bd4",
   "metadata": {},
   "source": [
    "24. Check if a set is disjoint with another set."
   ]
  },
  {
   "cell_type": "code",
   "execution_count": 178,
   "id": "0335ecd4-7288-416e-919c-daf1b5bef382",
   "metadata": {},
   "outputs": [
    {
     "name": "stdout",
     "output_type": "stream",
     "text": [
      "The sets are disjoint (they have no elements in common).\n"
     ]
    }
   ],
   "source": [
    "# Create two sets\n",
    "set1 = {1, 2, 3}\n",
    "set2 = {4, 5, 6}\n",
    "\n",
    "# Check if the two sets are disjoint using the isdisjoint() method\n",
    "if set1.isdisjoint(set2):\n",
    "    print(\"The sets are disjoint (they have no elements in common).\")\n",
    "else:\n",
    "    print(\"The sets are not disjoint (they have elements in common).\")\n"
   ]
  },
  {
   "cell_type": "markdown",
   "id": "49d9894a-22d6-49ac-9ecb-706e0f32270f",
   "metadata": {},
   "source": [
    "25. Create a set of squares of numbers from 1 to 5."
   ]
  },
  {
   "cell_type": "code",
   "execution_count": 179,
   "id": "7a4c0e58-18be-4935-a480-cf33bc8fad06",
   "metadata": {},
   "outputs": [
    {
     "name": "stdout",
     "output_type": "stream",
     "text": [
      "Set of squares of numbers from 1 to 5: {1, 4, 9, 16, 25}\n"
     ]
    }
   ],
   "source": [
    "# Create a set of squares of numbers from 1 to 5 using a set comprehension\n",
    "squares_set = {x ** 2 for x in range(1, 6)}\n",
    "\n",
    "# Print the set of squares\n",
    "print(\"Set of squares of numbers from 1 to 5:\", squares_set)\n"
   ]
  },
  {
   "cell_type": "markdown",
   "id": "c5dda6ce-f8af-4d97-b34f-cdefd0ec56dd",
   "metadata": {},
   "source": [
    "26. Filter out all even numbers from a set."
   ]
  },
  {
   "cell_type": "code",
   "execution_count": 180,
   "id": "ca3894c4-e774-4728-9bc3-e55798e2f896",
   "metadata": {},
   "outputs": [
    {
     "name": "stdout",
     "output_type": "stream",
     "text": [
      "Set of odd numbers: {1, 3, 5, 7, 9}\n"
     ]
    }
   ],
   "source": [
    "# Create a set with some numbers, including both even and odd\n",
    "original_set = {1, 2, 3, 4, 5, 6, 7, 8, 9}\n",
    "\n",
    "# Create a new set with only the odd numbers using a set comprehension\n",
    "odd_set = {x for x in original_set if x % 2 != 0}\n",
    "\n",
    "# Print the set containing only odd numbers\n",
    "print(\"Set of odd numbers:\", odd_set)\n"
   ]
  },
  {
   "cell_type": "markdown",
   "id": "030da011-2252-4d3b-b3b0-b7d780f10632",
   "metadata": {},
   "source": [
    "27. Multiply all elements in a set by 2."
   ]
  },
  {
   "cell_type": "code",
   "execution_count": 181,
   "id": "96eb0c86-427e-40a4-af97-bf7f5991b667",
   "metadata": {},
   "outputs": [
    {
     "name": "stdout",
     "output_type": "stream",
     "text": [
      "Original Set: {1, 2, 3, 4, 5}\n",
      "Updated Set: {2, 4, 6, 8, 10}\n"
     ]
    }
   ],
   "source": [
    "# Create a set with some numbers\n",
    "my_set = {1, 2, 3, 4, 5}\n",
    "\n",
    "# Displaying the Original Set\n",
    "print(\"Original Set:\", my_set)\n",
    "\n",
    "# Convert the set to a list, multiply each element by 2, and then convert it back to a set\n",
    "my_list = list(my_set)\n",
    "my_list = [x * 2 for x in my_list]\n",
    "my_set = set(my_list)\n",
    "\n",
    "# Print the updated set\n",
    "print(\"Updated Set:\", my_set)\n"
   ]
  },
  {
   "cell_type": "markdown",
   "id": "51e49bc6-139a-4fed-868c-294ed98789c2",
   "metadata": {},
   "source": [
    "28. Create a set of random numbers."
   ]
  },
  {
   "cell_type": "code",
   "execution_count": 182,
   "id": "fcb299dc-5c07-4bd3-a274-63c1fe9c4545",
   "metadata": {},
   "outputs": [
    {
     "name": "stdout",
     "output_type": "stream",
     "text": [
      "Set of random numbers: {32, 4, 36, 14, 15, 82, 18, 29, 95}\n"
     ]
    }
   ],
   "source": [
    "import random\n",
    "\n",
    "# Set the seed for reproducibility (optional)\n",
    "random.seed(42)\n",
    "\n",
    "# Create an empty set to store random numbers\n",
    "random_set = set()\n",
    "\n",
    "# Generate and add random numbers to the set\n",
    "for _ in range(10):  # Generate 10 random numbers, you can change this number\n",
    "    random_number = random.randint(1, 100)  # Random number between 1 and 100\n",
    "    random_set.add(random_number)\n",
    "\n",
    "# Print the set of random numbers\n",
    "print(\"Set of random numbers:\", random_set)\n"
   ]
  },
  {
   "cell_type": "markdown",
   "id": "7e24fb79-ac89-48b2-95da-45dd94706bde",
   "metadata": {},
   "source": [
    "29. Check if a set is empty."
   ]
  },
  {
   "cell_type": "code",
   "execution_count": 183,
   "id": "7ea5b27e-5930-400f-b9af-09c7bf378d43",
   "metadata": {},
   "outputs": [
    {
     "name": "stdout",
     "output_type": "stream",
     "text": [
      "The set is empty.\n"
     ]
    }
   ],
   "source": [
    "# Create an empty set\n",
    "empty_set = set()\n",
    "\n",
    "# Check if the set is empty using len()\n",
    "if len(empty_set) == 0:\n",
    "    print(\"The set is empty.\")\n",
    "else:\n",
    "    print(\"The set is not empty.\")\n"
   ]
  },
  {
   "cell_type": "code",
   "execution_count": 184,
   "id": "8535acac-c6d7-40f7-8417-53aaa7a90792",
   "metadata": {},
   "outputs": [
    {
     "name": "stdout",
     "output_type": "stream",
     "text": [
      "The set is empty.\n"
     ]
    }
   ],
   "source": [
    "# Create an empty set\n",
    "empty_set = set()\n",
    "\n",
    "# Check if the set is empty using truthiness\n",
    "if not empty_set:\n",
    "    print(\"The set is empty.\")\n",
    "else:\n",
    "    print(\"The set is not empty.\")\n"
   ]
  },
  {
   "cell_type": "markdown",
   "id": "98a64ae4-cc40-4111-9a0d-a78295db8c88",
   "metadata": {},
   "source": [
    "30. Create a nested set (hint: use frozenset)."
   ]
  },
  {
   "cell_type": "code",
   "execution_count": 185,
   "id": "5618be13-90ad-4b30-8266-fa8e5cc88562",
   "metadata": {},
   "outputs": [
    {
     "name": "stdout",
     "output_type": "stream",
     "text": [
      "Nested Set: {frozenset({1, 2, 3}), frozenset({4, 5, 6})}\n"
     ]
    }
   ],
   "source": [
    "# Create frozenset objects\n",
    "nested_set1 = frozenset({1, 2, 3})\n",
    "nested_set2 = frozenset({4, 5, 6})\n",
    "\n",
    "# Create a regular set containing the frozenset objects\n",
    "outer_set = {nested_set1, nested_set2}\n",
    "\n",
    "# Print the nested set\n",
    "print(\"Nested Set:\", outer_set)\n"
   ]
  },
  {
   "cell_type": "markdown",
   "id": "82b43e88-fc7b-4e7f-bebe-9bf4e6bf0182",
   "metadata": {},
   "source": [
    "31. Remove an element from a set using the discard method."
   ]
  },
  {
   "cell_type": "code",
   "execution_count": 186,
   "id": "ba4f68cc-94ed-40c2-9a4b-57598531a701",
   "metadata": {},
   "outputs": [
    {
     "name": "stdout",
     "output_type": "stream",
     "text": [
      "Updated Set: {1, 2, 4, 5}\n"
     ]
    }
   ],
   "source": [
    "# Create a set\n",
    "my_set = {1, 2, 3, 4, 5}\n",
    "\n",
    "# Remove an element using discard()\n",
    "my_set.discard(3)\n",
    "\n",
    "# Print the updated set\n",
    "print(\"Updated Set:\", my_set)\n"
   ]
  },
  {
   "cell_type": "markdown",
   "id": "fe7f7ab9-a040-4b21-aaf7-7746024412bd",
   "metadata": {},
   "source": [
    "32. Compare two sets."
   ]
  },
  {
   "cell_type": "code",
   "execution_count": 187,
   "id": "9e0bec0f-db84-48b2-b912-0c7d4cd4bd9e",
   "metadata": {},
   "outputs": [
    {
     "name": "stdout",
     "output_type": "stream",
     "text": [
      "The sets are equal.\n"
     ]
    }
   ],
   "source": [
    "set1 = {1, 2, 3}\n",
    "set2 = {3, 2, 1}\n",
    "\n",
    "if set1 == set2:\n",
    "    print(\"The sets are equal.\")\n",
    "else:\n",
    "    print(\"The sets are not equal.\")\n"
   ]
  },
  {
   "cell_type": "markdown",
   "id": "3c67b9e5-9fdb-43ed-aa1a-ac8b5244481f",
   "metadata": {},
   "source": [
    "33. Create a set from a string."
   ]
  },
  {
   "cell_type": "code",
   "execution_count": 188,
   "id": "04dbb8e3-4084-4382-857e-398bcc8bf724",
   "metadata": {},
   "outputs": [
    {
     "name": "stdout",
     "output_type": "stream",
     "text": [
      "Set from string: {'e', 'h', 'l', 'o'}\n"
     ]
    }
   ],
   "source": [
    "# Create a string\n",
    "my_string = \"hello\"\n",
    "\n",
    "# Initialize an empty set\n",
    "my_set = set()\n",
    "\n",
    "# Add each character from the string to the set\n",
    "for char in my_string:\n",
    "    my_set.add(char)\n",
    "\n",
    "# Print the set\n",
    "print(\"Set from string:\", my_set)\n"
   ]
  },
  {
   "cell_type": "markdown",
   "id": "b8a80ae3-e8e4-442e-abe4-d51c109a94f0",
   "metadata": {},
   "source": [
    "34. Convert a set of strings to a set of integers."
   ]
  },
  {
   "cell_type": "code",
   "execution_count": 189,
   "id": "3493a825-5860-411c-a143-ecf8e683413b",
   "metadata": {},
   "outputs": [
    {
     "name": "stdout",
     "output_type": "stream",
     "text": [
      "Set of integers: {1, 2, 3, 4, 5}\n"
     ]
    }
   ],
   "source": [
    "# Create a set of strings\n",
    "string_set = {\"1\", \"2\", \"3\", \"4\", \"5\"}\n",
    "\n",
    "# Convert the set of strings to a set of integers using a set comprehension\n",
    "integer_set = {int(item) for item in string_set}\n",
    "\n",
    "# Print the set of integers\n",
    "print(\"Set of integers:\", integer_set)\n"
   ]
  },
  {
   "cell_type": "markdown",
   "id": "46451588-5b10-477f-8fff-562ac1dc0e7b",
   "metadata": {},
   "source": [
    "35. Convert a set of integers to a set of strings."
   ]
  },
  {
   "cell_type": "code",
   "execution_count": 190,
   "id": "828d6d2e-3214-4b47-8749-0892d02efa8d",
   "metadata": {},
   "outputs": [
    {
     "name": "stdout",
     "output_type": "stream",
     "text": [
      "Set of strings: {'2', '4', '5', '1', '3'}\n"
     ]
    }
   ],
   "source": [
    "# Create a set of integers\n",
    "integer_set = {1, 2, 3, 4, 5}\n",
    "\n",
    "# Convert the set of integers to a set of strings using a set comprehension\n",
    "string_set = {str(item) for item in integer_set}\n",
    "\n",
    "# Print the set of strings\n",
    "print(\"Set of strings:\", string_set)\n"
   ]
  },
  {
   "cell_type": "markdown",
   "id": "1b022920-53c4-4c70-be82-6c3f39373262",
   "metadata": {},
   "source": [
    "36. Create a set from a tuple."
   ]
  },
  {
   "cell_type": "code",
   "execution_count": 191,
   "id": "ffdda824-6455-4df0-91bb-ddccf562410e",
   "metadata": {},
   "outputs": [
    {
     "name": "stdout",
     "output_type": "stream",
     "text": [
      "Set from tuple: {1, 2, 3, 4, 5}\n"
     ]
    }
   ],
   "source": [
    "# Create a tuple\n",
    "my_tuple = (1, 2, 3, 4, 5)\n",
    "\n",
    "# Convert the tuple to a set\n",
    "my_set = set(my_tuple)\n",
    "\n",
    "# Print the set\n",
    "print(\"Set from tuple:\", my_set)\n"
   ]
  },
  {
   "cell_type": "markdown",
   "id": "a9f5755a-521b-4ca2-a7bc-754113a96151",
   "metadata": {},
   "source": [
    "37. Convert a set to a tuple."
   ]
  },
  {
   "cell_type": "code",
   "execution_count": 192,
   "id": "13a34ce0-3f7f-41f8-9dc0-9e5e8da038b2",
   "metadata": {},
   "outputs": [
    {
     "name": "stdout",
     "output_type": "stream",
     "text": [
      "Tuple from set: (1, 2, 3, 4, 5)\n"
     ]
    }
   ],
   "source": [
    "# Create a set\n",
    "my_set = {1, 2, 3, 4, 5}\n",
    "\n",
    "# Convert the set to a tuple\n",
    "my_tuple = tuple(my_set)\n",
    "\n",
    "# Print the tuple\n",
    "print(\"Tuple from set:\", my_tuple)\n"
   ]
  },
  {
   "cell_type": "markdown",
   "id": "07937131-8d05-4f3b-b7e3-b28c45c50645",
   "metadata": {},
   "source": [
    "38. Find the maximum value in a set."
   ]
  },
  {
   "cell_type": "code",
   "execution_count": 193,
   "id": "06eda808-2093-4e82-bdbb-d80f19858558",
   "metadata": {},
   "outputs": [
    {
     "name": "stdout",
     "output_type": "stream",
     "text": [
      "Maximum value in the set: 9\n"
     ]
    }
   ],
   "source": [
    "# Create a set\n",
    "my_set = {3, 1, 4, 1, 5, 9, 2, 6, 5, 3, 5}\n",
    "\n",
    "# Find the maximum value in the set\n",
    "maximum_value = max(my_set)\n",
    "\n",
    "# Print the maximum value\n",
    "print(\"Maximum value in the set:\", maximum_value)\n"
   ]
  },
  {
   "cell_type": "markdown",
   "id": "a615ba21-e24e-4fd9-87f0-d5c04df9b0ca",
   "metadata": {},
   "source": [
    "39. Find the minimum value in a set."
   ]
  },
  {
   "cell_type": "code",
   "execution_count": 194,
   "id": "44a4a02c-97cb-4e5e-9d4f-e16424d8250c",
   "metadata": {},
   "outputs": [
    {
     "name": "stdout",
     "output_type": "stream",
     "text": [
      "Minimum value in the set: 1\n"
     ]
    }
   ],
   "source": [
    "# Create a set\n",
    "my_set = {3, 1, 4, 1, 5, 9, 2, 6, 5, 3, 5}\n",
    "\n",
    "# Find the minimum value in the set\n",
    "minimum_value = min(my_set)\n",
    "\n",
    "# Print the minimum value\n",
    "print(\"Minimum value in the set:\", minimum_value)\n"
   ]
  },
  {
   "cell_type": "markdown",
   "id": "25c1c3db-da7a-4b2e-9c77-82e396b57ef7",
   "metadata": {},
   "source": [
    "40. Create a set from user input."
   ]
  },
  {
   "cell_type": "code",
   "execution_count": 195,
   "id": "bd9df753-8505-410e-8e70-e436ada703ec",
   "metadata": {},
   "outputs": [
    {
     "name": "stdin",
     "output_type": "stream",
     "text": [
      "Enter an element (or 'done' to finish):  1\n",
      "Enter an element (or 'done' to finish):  22\n",
      "Enter an element (or 'done' to finish):  333\n",
      "Enter an element (or 'done' to finish):  4444\n",
      "Enter an element (or 'done' to finish):  55555\n",
      "Enter an element (or 'done' to finish):  done\n"
     ]
    },
    {
     "name": "stdout",
     "output_type": "stream",
     "text": [
      "Set created from user input: {'333', '55555', '22', '1', '4444'}\n"
     ]
    }
   ],
   "source": [
    "# Initialize an empty set\n",
    "user_set = set()\n",
    "\n",
    "while True:\n",
    "    user_input = input(\"Enter an element (or 'done' to finish): \")\n",
    "    \n",
    "    if user_input.lower() == 'done':\n",
    "        break  # Exit the loop if the user enters 'done'\n",
    "    \n",
    "    # Add the user input to the set\n",
    "    user_set.add(user_input)\n",
    "\n",
    "# Print the final set\n",
    "print(\"Set created from user input:\", user_set)\n"
   ]
  },
  {
   "cell_type": "markdown",
   "id": "1660c643-b506-4656-af73-237572d148d9",
   "metadata": {},
   "source": [
    "41. Check if the intersection of two sets is empty."
   ]
  },
  {
   "cell_type": "code",
   "execution_count": 196,
   "id": "2367d389-7276-437c-b72b-cadb97ef4fcc",
   "metadata": {},
   "outputs": [
    {
     "name": "stdout",
     "output_type": "stream",
     "text": [
      "The intersection of set1 and set2 is empty.\n"
     ]
    }
   ],
   "source": [
    "# Create two sets\n",
    "set1 = {1, 2, 3, 4}\n",
    "set2 = {5, 6, 7, 8}\n",
    "\n",
    "# Check if the intersection is empty\n",
    "intersection_empty = set1.isdisjoint(set2)\n",
    "\n",
    "# Print the result\n",
    "if intersection_empty:\n",
    "    print(\"The intersection of set1 and set2 is empty.\")\n",
    "else:\n",
    "    print(\"The intersection of set1 and set2 is not empty.\")\n"
   ]
  },
  {
   "cell_type": "markdown",
   "id": "0fc39ea1-5b3e-4b7f-ba32-601b5ac7e832",
   "metadata": {},
   "source": [
    "42. Create a set of the first 5 Fibonacci numbers."
   ]
  },
  {
   "cell_type": "code",
   "execution_count": 197,
   "id": "97963f8f-e6cf-442d-961b-d8fea2b2f07f",
   "metadata": {},
   "outputs": [
    {
     "name": "stdout",
     "output_type": "stream",
     "text": [
      "Set of the first 5 Fibonacci numbers: {0, 1, 2, 3}\n"
     ]
    }
   ],
   "source": [
    "# Initialize an empty set for the Fibonacci numbers\n",
    "fibonacci_set = set()\n",
    "\n",
    "# Initialize the first two Fibonacci numbers\n",
    "a, b = 0, 1\n",
    "\n",
    "# Generate the first 5 Fibonacci numbers and add them to the set\n",
    "for _ in range(5):\n",
    "    fibonacci_set.add(a)\n",
    "    a, b = b, a + b\n",
    "\n",
    "# Print the set of Fibonacci numbers\n",
    "print(\"Set of the first 5 Fibonacci numbers:\", fibonacci_set)\n"
   ]
  },
  {
   "cell_type": "markdown",
   "id": "e864bd18-40de-404b-88c1-e5fad4361697",
   "metadata": {},
   "source": [
    "43. Remove duplicates from a list using sets."
   ]
  },
  {
   "cell_type": "code",
   "execution_count": 198,
   "id": "84fd9a62-bda6-4193-978a-4243b1965ea1",
   "metadata": {},
   "outputs": [
    {
     "name": "stdout",
     "output_type": "stream",
     "text": [
      "List with duplicates removed: [1, 2, 3, 4, 5]\n"
     ]
    }
   ],
   "source": [
    "# Create a list with duplicates\n",
    "my_list = [1, 2, 2, 3, 4, 4, 5, 5]\n",
    "\n",
    "# Remove duplicates using sets\n",
    "unique_list = list(set(my_list))\n",
    "\n",
    "# Print the list with duplicates removed\n",
    "print(\"List with duplicates removed:\", unique_list)\n"
   ]
  },
  {
   "cell_type": "markdown",
   "id": "ebf1c828-058a-46fb-aa06-6bfd683d797b",
   "metadata": {},
   "source": [
    "44. Check if two sets have the same elements, regardless of their count."
   ]
  },
  {
   "cell_type": "code",
   "execution_count": 199,
   "id": "a32c4c09-2460-46c4-8ff3-9c3b7517872a",
   "metadata": {},
   "outputs": [
    {
     "name": "stdout",
     "output_type": "stream",
     "text": [
      "The sets are equivalent.\n"
     ]
    }
   ],
   "source": [
    "# Create two sets\n",
    "set1 = {1, 2, 3}\n",
    "set2 = {3, 2, 1}\n",
    "\n",
    "# Check if the two sets are equivalent\n",
    "if set1 == set2:\n",
    "    print(\"The sets are equivalent.\")\n",
    "else:\n",
    "    print(\"The sets are not equivalent.\")\n"
   ]
  },
  {
   "cell_type": "markdown",
   "id": "e7b54d44-576a-44fd-a670-b8051a7031f5",
   "metadata": {},
   "source": [
    "45. Create a set of the first `n` powers of 2."
   ]
  },
  {
   "cell_type": "code",
   "execution_count": 200,
   "id": "56a4f16f-1f35-4f43-8f02-d398c0fdd648",
   "metadata": {},
   "outputs": [
    {
     "name": "stdout",
     "output_type": "stream",
     "text": [
      "Set of the first 5 powers of 2: {1, 2, 4, 8, 16}\n"
     ]
    }
   ],
   "source": [
    "# Define the value of n (the number of powers)\n",
    "n = 5\n",
    "\n",
    "# Initialize an empty set for the powers of 2\n",
    "powers_of_2_set = set()\n",
    "\n",
    "# Generate the first n powers of 2 and add them to the set\n",
    "for i in range(n):\n",
    "    power_of_2 = 2 ** i\n",
    "    powers_of_2_set.add(power_of_2)\n",
    "\n",
    "# Print the set of powers of 2\n",
    "print(f\"Set of the first {n} powers of 2:\", powers_of_2_set)\n"
   ]
  },
  {
   "cell_type": "markdown",
   "id": "471c18ca-1476-4515-9c60-62bd5ebf87ac",
   "metadata": {},
   "source": [
    "46. Find the common elements between a set and a list."
   ]
  },
  {
   "cell_type": "code",
   "execution_count": 201,
   "id": "a96dee88-4d4b-437a-899c-acec3e10aa0b",
   "metadata": {},
   "outputs": [
    {
     "name": "stdout",
     "output_type": "stream",
     "text": [
      "Common elements: [3, 4, 5]\n"
     ]
    }
   ],
   "source": [
    "# Create a set\n",
    "my_set = {1, 2, 3, 4, 5}\n",
    "\n",
    "# Create a list\n",
    "my_list = [3, 4, 5, 6, 7]\n",
    "\n",
    "# Find the common elements between the set and the list\n",
    "common_elements = my_set & set(my_list)\n",
    "\n",
    "# Convert the result back to a list if needed\n",
    "common_elements_list = list(common_elements)\n",
    "\n",
    "# Print the common elements\n",
    "print(\"Common elements:\", common_elements_list)\n"
   ]
  },
  {
   "cell_type": "markdown",
   "id": "48edaa6b-b97c-4952-b8d7-1f14917b3c74",
   "metadata": {},
   "source": [
    "47. Create a set of the first `n` triangular numbers."
   ]
  },
  {
   "cell_type": "code",
   "execution_count": 202,
   "id": "e34f68ef-4c0a-4364-aa25-e60932b33604",
   "metadata": {},
   "outputs": [
    {
     "name": "stdout",
     "output_type": "stream",
     "text": [
      "Set of the first 5 triangular numbers: {1, 3, 6, 10, 15}\n"
     ]
    }
   ],
   "source": [
    "# Define the value of n (the number of triangular numbers)\n",
    "n = 5\n",
    "\n",
    "# Initialize an empty set for the triangular numbers\n",
    "triangular_numbers_set = set()\n",
    "\n",
    "# Generate the first n triangular numbers and add them to the set\n",
    "for i in range(1, n + 1):\n",
    "    triangular_number = i * (i + 1) // 2\n",
    "    triangular_numbers_set.add(triangular_number)\n",
    "\n",
    "# Print the set of triangular numbers\n",
    "print(f\"Set of the first {n} triangular numbers:\", triangular_numbers_set)\n"
   ]
  },
  {
   "cell_type": "markdown",
   "id": "d0398874-a7ce-4082-a939-fd0326256ab8",
   "metadata": {},
   "source": [
    "48. Check if a set contains another set as a subset."
   ]
  },
  {
   "cell_type": "code",
   "execution_count": 203,
   "id": "c8f54007-d8c7-45ad-9ecc-f66747abee6a",
   "metadata": {},
   "outputs": [
    {
     "name": "stdout",
     "output_type": "stream",
     "text": [
      "set2 is a subset of set1\n"
     ]
    }
   ],
   "source": [
    "# Create two sets\n",
    "set1 = {1, 2, 3, 4, 5}\n",
    "set2 = {2, 3}\n",
    "\n",
    "# Check if set2 is a subset of set1\n",
    "if set2.issubset(set1):\n",
    "    print(\"set2 is a subset of set1\")\n",
    "else:\n",
    "    print(\"set2 is not a subset of set1\")\n"
   ]
  },
  {
   "cell_type": "markdown",
   "id": "ca787283-1526-4975-a0b2-8344530b546f",
   "metadata": {},
   "source": [
    "49. Create a set of alternating 1s and 0s of length `n`."
   ]
  },
  {
   "cell_type": "code",
   "execution_count": 204,
   "id": "77250c46-215b-4ab8-8575-829cbdb5a015",
   "metadata": {},
   "outputs": [
    {
     "name": "stdout",
     "output_type": "stream",
     "text": [
      "Set of alternating 1s and 0s: {0, 1}\n"
     ]
    }
   ],
   "source": [
    "# Define the length n\n",
    "n = 10\n",
    "\n",
    "# Initialize an empty set for the alternating sequence\n",
    "alternating_set = set()\n",
    "\n",
    "# Generate the alternating sequence of 1s and 0s\n",
    "for i in range(n):\n",
    "    alternating_set.add(i % 2)\n",
    "\n",
    "# Print the set of alternating 1s and 0s\n",
    "print(\"Set of alternating 1s and 0s:\", alternating_set)\n"
   ]
  },
  {
   "cell_type": "markdown",
   "id": "587fc789-d145-443c-b706-4253176274b7",
   "metadata": {},
   "source": [
    "50. Merge multiple sets into one."
   ]
  },
  {
   "cell_type": "code",
   "execution_count": 205,
   "id": "1d7a8508-2106-4cfa-aff9-aab01a0eedd7",
   "metadata": {},
   "outputs": [
    {
     "name": "stdout",
     "output_type": "stream",
     "text": [
      "Merged set: {1, 2, 3, 4, 5, 6, 7}\n"
     ]
    }
   ],
   "source": [
    "# Create multiple sets\n",
    "set1 = {1, 2, 3}\n",
    "set2 = {3, 4, 5}\n",
    "set3 = {5, 6, 7}\n",
    "\n",
    "# Merge the sets using the union() method\n",
    "merged_set = set1.union(set2, set3)\n",
    "\n",
    "# Print the merged set\n",
    "print(\"Merged set:\", merged_set)\n"
   ]
  }
 ],
 "metadata": {
  "kernelspec": {
   "display_name": "Python 3 (ipykernel)",
   "language": "python",
   "name": "python3"
  },
  "language_info": {
   "codemirror_mode": {
    "name": "ipython",
    "version": 3
   },
   "file_extension": ".py",
   "mimetype": "text/x-python",
   "name": "python",
   "nbconvert_exporter": "python",
   "pygments_lexer": "ipython3",
   "version": "3.10.8"
  }
 },
 "nbformat": 4,
 "nbformat_minor": 5
}
